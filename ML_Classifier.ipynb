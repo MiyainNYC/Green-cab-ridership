{
 "cells": [
  {
   "cell_type": "code",
   "execution_count": 1,
   "metadata": {
    "collapsed": false
   },
   "outputs": [
    {
     "name": "stdout",
     "output_type": "stream",
     "text": [
      " Volume in drive C is OS\n",
      " Volume Serial Number is C803-CD91\n",
      "\n",
      " Directory of C:\\Users\\Miya\\Desktop\\jp\n",
      "\n",
      "12/24/2016  04:40 PM    <DIR>          .\n",
      "12/24/2016  04:40 PM    <DIR>          ..\n",
      "12/23/2016  04:38 PM            15,364 .DS_Store\n",
      "12/23/2016  12:54 PM    <DIR>          .idea\n",
      "12/24/2016  04:40 PM    <DIR>          .ipynb_checkpoints\n",
      "12/23/2016  04:38 PM               712 derby.log\n",
      "12/24/2016  02:36 PM           233,667 EDA_PySpark.ipynb\n",
      "12/24/2016  03:23 PM    <DIR>          facts\n",
      "12/23/2016  04:38 PM    <DIR>          metastore_db\n",
      "12/24/2016  04:29 PM        99,848,366 ML_data.csv\n",
      "12/23/2016  12:54 PM             3,867 RawData.py\n",
      "12/23/2016  12:54 PM             1,069 README.md\n",
      "12/23/2016  12:54 PM           176,003 Untitled.ipynb\n",
      "12/24/2016  04:40 PM                72 Untitled1.ipynb\n",
      "12/24/2016  02:05 PM    <DIR>          viz\n",
      "12/24/2016  02:04 PM           339,944 Volumn_VIZ.ipynb\n",
      "12/23/2016  12:55 PM         1,050,624 weather.db\n",
      "12/23/2016  12:54 PM             1,588 WeatherData.py\n",
      "              11 File(s)    101,671,276 bytes\n",
      "               7 Dir(s)  51,652,960,256 bytes free\n"
     ]
    }
   ],
   "source": [
    "ls"
   ]
  },
  {
   "cell_type": "code",
   "execution_count": 1,
   "metadata": {
    "collapsed": true
   },
   "outputs": [],
   "source": [
    "import pandas as pd\n",
    "from sklearn.ensemble import RandomForestClassifier\n",
    "from sklearn.cross_validation import cross_val_score\n",
    "from sklearn import cross_validation\n",
    "import matplotlib.pyplot as plt\n",
    "from sklearn.ensemble import GradientBoostingClassifier\n",
    "%matplotlib inline\n",
    "import seaborn as sns"
   ]
  },
  {
   "cell_type": "code",
   "execution_count": 2,
   "metadata": {
    "collapsed": false
   },
   "outputs": [],
   "source": [
    "data = pd.read_csv('ML_data.csv',index_col = 0)"
   ]
  },
  {
   "cell_type": "code",
   "execution_count": 15,
   "metadata": {
    "collapsed": false
   },
   "outputs": [
    {
     "data": {
      "text/html": [
       "<div>\n",
       "<table border=\"1\" class=\"dataframe\">\n",
       "  <thead>\n",
       "    <tr style=\"text-align: right;\">\n",
       "      <th></th>\n",
       "      <th>index</th>\n",
       "      <th>year</th>\n",
       "      <th>Holiday</th>\n",
       "      <th>Passenger_count</th>\n",
       "      <th>RateCodeID</th>\n",
       "      <th>Store_and_fwd_flag</th>\n",
       "      <th>Trip_distance</th>\n",
       "      <th>Trip_type</th>\n",
       "      <th>Pick_up_hour</th>\n",
       "      <th>month</th>\n",
       "      <th>weekofday</th>\n",
       "      <th>interval_min</th>\n",
       "      <th>Fare_amount</th>\n",
       "      <th>Trip_distance.1</th>\n",
       "      <th>temp</th>\n",
       "      <th>icon</th>\n",
       "      <th>windBearing</th>\n",
       "      <th>windSpeed</th>\n",
       "      <th>visibility</th>\n",
       "      <th>Efficiency</th>\n",
       "    </tr>\n",
       "  </thead>\n",
       "  <tbody>\n",
       "    <tr>\n",
       "      <th>0</th>\n",
       "      <td>15</td>\n",
       "      <td>2015</td>\n",
       "      <td>1</td>\n",
       "      <td>1.0</td>\n",
       "      <td>1</td>\n",
       "      <td>N</td>\n",
       "      <td>0.58</td>\n",
       "      <td>1.0</td>\n",
       "      <td>0</td>\n",
       "      <td>1</td>\n",
       "      <td>3</td>\n",
       "      <td>2.183333</td>\n",
       "      <td>4.0</td>\n",
       "      <td>0.58</td>\n",
       "      <td>28.16</td>\n",
       "      <td>clear-night</td>\n",
       "      <td>254.0</td>\n",
       "      <td>8.99</td>\n",
       "      <td>10.0</td>\n",
       "      <td>1.832061</td>\n",
       "    </tr>\n",
       "    <tr>\n",
       "      <th>1</th>\n",
       "      <td>22</td>\n",
       "      <td>2015</td>\n",
       "      <td>1</td>\n",
       "      <td>1.0</td>\n",
       "      <td>1</td>\n",
       "      <td>N</td>\n",
       "      <td>5.00</td>\n",
       "      <td>1.0</td>\n",
       "      <td>0</td>\n",
       "      <td>1</td>\n",
       "      <td>3</td>\n",
       "      <td>16.833333</td>\n",
       "      <td>17.0</td>\n",
       "      <td>5.00</td>\n",
       "      <td>28.16</td>\n",
       "      <td>clear-night</td>\n",
       "      <td>254.0</td>\n",
       "      <td>8.99</td>\n",
       "      <td>10.0</td>\n",
       "      <td>1.009901</td>\n",
       "    </tr>\n",
       "    <tr>\n",
       "      <th>2</th>\n",
       "      <td>86</td>\n",
       "      <td>2015</td>\n",
       "      <td>1</td>\n",
       "      <td>1.0</td>\n",
       "      <td>1</td>\n",
       "      <td>N</td>\n",
       "      <td>7.10</td>\n",
       "      <td>1.0</td>\n",
       "      <td>0</td>\n",
       "      <td>1</td>\n",
       "      <td>3</td>\n",
       "      <td>20.500000</td>\n",
       "      <td>22.5</td>\n",
       "      <td>7.10</td>\n",
       "      <td>28.16</td>\n",
       "      <td>clear-night</td>\n",
       "      <td>254.0</td>\n",
       "      <td>8.99</td>\n",
       "      <td>10.0</td>\n",
       "      <td>1.097561</td>\n",
       "    </tr>\n",
       "    <tr>\n",
       "      <th>3</th>\n",
       "      <td>108</td>\n",
       "      <td>2015</td>\n",
       "      <td>1</td>\n",
       "      <td>1.0</td>\n",
       "      <td>1</td>\n",
       "      <td>N</td>\n",
       "      <td>1.47</td>\n",
       "      <td>1.0</td>\n",
       "      <td>0</td>\n",
       "      <td>1</td>\n",
       "      <td>3</td>\n",
       "      <td>5.850000</td>\n",
       "      <td>6.5</td>\n",
       "      <td>1.47</td>\n",
       "      <td>28.16</td>\n",
       "      <td>clear-night</td>\n",
       "      <td>254.0</td>\n",
       "      <td>8.99</td>\n",
       "      <td>10.0</td>\n",
       "      <td>1.111111</td>\n",
       "    </tr>\n",
       "    <tr>\n",
       "      <th>4</th>\n",
       "      <td>138</td>\n",
       "      <td>2015</td>\n",
       "      <td>1</td>\n",
       "      <td>1.0</td>\n",
       "      <td>1</td>\n",
       "      <td>N</td>\n",
       "      <td>0.84</td>\n",
       "      <td>1.0</td>\n",
       "      <td>0</td>\n",
       "      <td>1</td>\n",
       "      <td>3</td>\n",
       "      <td>2.116667</td>\n",
       "      <td>4.5</td>\n",
       "      <td>0.84</td>\n",
       "      <td>28.16</td>\n",
       "      <td>clear-night</td>\n",
       "      <td>254.0</td>\n",
       "      <td>8.99</td>\n",
       "      <td>10.0</td>\n",
       "      <td>2.125984</td>\n",
       "    </tr>\n",
       "  </tbody>\n",
       "</table>\n",
       "</div>"
      ],
      "text/plain": [
       "   index  year  Holiday  Passenger_count  RateCodeID Store_and_fwd_flag  \\\n",
       "0     15  2015        1              1.0           1                  N   \n",
       "1     22  2015        1              1.0           1                  N   \n",
       "2     86  2015        1              1.0           1                  N   \n",
       "3    108  2015        1              1.0           1                  N   \n",
       "4    138  2015        1              1.0           1                  N   \n",
       "\n",
       "   Trip_distance  Trip_type  Pick_up_hour  month  weekofday  interval_min  \\\n",
       "0           0.58        1.0             0      1          3      2.183333   \n",
       "1           5.00        1.0             0      1          3     16.833333   \n",
       "2           7.10        1.0             0      1          3     20.500000   \n",
       "3           1.47        1.0             0      1          3      5.850000   \n",
       "4           0.84        1.0             0      1          3      2.116667   \n",
       "\n",
       "   Fare_amount  Trip_distance.1   temp         icon  windBearing  windSpeed  \\\n",
       "0          4.0             0.58  28.16  clear-night        254.0       8.99   \n",
       "1         17.0             5.00  28.16  clear-night        254.0       8.99   \n",
       "2         22.5             7.10  28.16  clear-night        254.0       8.99   \n",
       "3          6.5             1.47  28.16  clear-night        254.0       8.99   \n",
       "4          4.5             0.84  28.16  clear-night        254.0       8.99   \n",
       "\n",
       "   visibility  Efficiency  \n",
       "0        10.0    1.832061  \n",
       "1        10.0    1.009901  \n",
       "2        10.0    1.097561  \n",
       "3        10.0    1.111111  \n",
       "4        10.0    2.125984  "
      ]
     },
     "execution_count": 15,
     "metadata": {},
     "output_type": "execute_result"
    }
   ],
   "source": [
    "data.head()"
   ]
  },
  {
   "cell_type": "code",
   "execution_count": 3,
   "metadata": {
    "collapsed": false
   },
   "outputs": [
    {
     "data": {
      "text/plain": [
       "(1, 5)"
      ]
     },
     "execution_count": 3,
     "metadata": {},
     "output_type": "execute_result"
    },
    {
     "data": {
      "image/png": "[encoded data removed]",
      "text/plain": [
       "<matplotlib.figure.Figure at 0xfac01a6b00>"
      ]
     },
     "metadata": {},
     "output_type": "display_data"
    }
   ],
   "source": [
    "ax = data['Efficiency'].plot.kde()\n",
    "ax.set_xlim((1, 5))"
   ]
  },
  {
   "cell_type": "code",
   "execution_count": 34,
   "metadata": {
    "collapsed": false
   },
   "outputs": [
    {
     "data": {
      "text/plain": [
       "count    831682.000000\n",
       "mean          1.266382\n",
       "std           0.610673\n",
       "min           1.000255\n",
       "25%           1.069418\n",
       "50%           1.159154\n",
       "75%           1.304348\n",
       "max          30.000000\n",
       "Name: Efficiency, dtype: float64"
      ]
     },
     "execution_count": 34,
     "metadata": {},
     "output_type": "execute_result"
    }
   ],
   "source": [
    "data.describe()['Efficiency']"
   ]
  },
  {
   "cell_type": "code",
   "execution_count": 38,
   "metadata": {
    "collapsed": false
   },
   "outputs": [
    {
     "data": {
      "text/plain": [
       "index                 False\n",
       "year                  False\n",
       "Holiday               False\n",
       "Passenger_count       False\n",
       "RateCodeID            False\n",
       "Store_and_fwd_flag    False\n",
       "Trip_distance         False\n",
       "Trip_type             False\n",
       "Pick_up_hour          False\n",
       "month                 False\n",
       "weekofday             False\n",
       "interval_min          False\n",
       "Fare_amount           False\n",
       "Trip_distance.1       False\n",
       "temp                  False\n",
       "icon                  False\n",
       "windBearing           False\n",
       "windSpeed             False\n",
       "visibility            False\n",
       "Efficiency            False\n",
       "dtype: bool"
      ]
     },
     "execution_count": 38,
     "metadata": {},
     "output_type": "execute_result"
    }
   ],
   "source": [
    "data.isnull().any()"
   ]
  },
  {
   "cell_type": "code",
   "execution_count": 83,
   "metadata": {
    "collapsed": true
   },
   "outputs": [],
   "source": [
    "label = []\n",
    "label_prep = data['Efficiency'].values\n",
    "for i in label_prep:\n",
    "    if i > 1.159154:\n",
    "        label.append('G')\n",
    "    else:\n",
    "        label.append('B')\n",
    "data['label'] = label"
   ]
  },
  {
   "cell_type": "code",
   "execution_count": 84,
   "metadata": {
    "collapsed": false
   },
   "outputs": [
    {
     "data": {
      "text/plain": [
       "Index(['index', 'year', 'Holiday', 'Passenger_count', 'RateCodeID',\n",
       "       'Store_and_fwd_flag', 'Trip_distance', 'Trip_type', 'Pick_up_hour',\n",
       "       'month', 'weekofday', 'interval_min', 'Fare_amount', 'Trip_distance.1',\n",
       "       'temp', 'icon', 'windBearing', 'windSpeed', 'visibility', 'Efficiency',\n",
       "       'label'],\n",
       "      dtype='object')"
      ]
     },
     "execution_count": 84,
     "metadata": {},
     "output_type": "execute_result"
    }
   ],
   "source": [
    "data.columns"
   ]
  },
  {
   "cell_type": "code",
   "execution_count": 52,
   "metadata": {
    "collapsed": false
   },
   "outputs": [],
   "source": [
    "data['Holiday'] = data['Holiday'].apply(str)\n",
    "data['RateCodeID'] = data['RateCodeID'].apply(str)\n",
    "data['RateCodeID'] = data['RateCodeID'].apply(str)\n",
    "data['Trip_type'] = data['Trip_type'].apply(str)\n",
    "data['Trip_type'] = data['Trip_type'].apply(str)\n",
    "data['month'] = data['month'].apply(str)\n",
    "data['weekofday'] = data['weekofday'].apply(str)\n",
    "data['icon'] = data['icon'].apply(str)\n",
    "data['Trip_type'] = data['Trip_type'].apply(str)\n",
    "data['Trip_type'] = data['Trip_type'].apply(str)"
   ]
  },
  {
   "cell_type": "code",
   "execution_count": 85,
   "metadata": {
    "collapsed": false
   },
   "outputs": [],
   "source": [
    "features = ['Holiday', 'Passenger_count', 'RateCodeID',\n",
    "            'Store_and_fwd_flag', 'Trip_distance', 'Trip_type', 'Pick_up_hour',\n",
    "            'month', 'weekofday',\n",
    "            'temp', 'icon', 'windBearing', 'windSpeed', 'visibility']"
   ]
  },
  {
   "cell_type": "code",
   "execution_count": 86,
   "metadata": {
    "collapsed": true
   },
   "outputs": [],
   "source": [
    "from sklearn.preprocessing import LabelEncoder\n",
    "\n",
    "#Auto encodes any dataframe column of type category or object.\n",
    "def dummyEncode(df):\n",
    "        columnsToEncode = list(df.select_dtypes(include=['category','object']))\n",
    "        le = LabelEncoder()\n",
    "        for feature in columnsToEncode:\n",
    "            try:\n",
    "                df[feature] = le.fit_transform(df[feature])\n",
    "            except:\n",
    "                print('Error encoding '+feature)\n",
    "        return df\n",
    "data_transformed = dummyEncode(data)"
   ]
  },
  {
   "cell_type": "code",
   "execution_count": 87,
   "metadata": {
    "collapsed": false
   },
   "outputs": [
    {
     "data": {
      "text/plain": [
       "array([1, 0, 5, 4, 6, 3, 2, 8, 7], dtype=int64)"
      ]
     },
     "execution_count": 87,
     "metadata": {},
     "output_type": "execute_result"
    }
   ],
   "source": [
    "data_transformed['icon'].unique()"
   ]
  },
  {
   "cell_type": "code",
   "execution_count": 88,
   "metadata": {
    "collapsed": false
   },
   "outputs": [],
   "source": [
    "X = data_transformed[features].values\n",
    "Y= data_transformed['label']"
   ]
  },
  {
   "cell_type": "code",
   "execution_count": 72,
   "metadata": {
    "collapsed": false
   },
   "outputs": [
    {
     "data": {
      "text/plain": [
       "(831682, 14)"
      ]
     },
     "execution_count": 72,
     "metadata": {},
     "output_type": "execute_result"
    }
   ],
   "source": [
    "X.shape"
   ]
  },
  {
   "cell_type": "code",
   "execution_count": 89,
   "metadata": {
    "collapsed": false
   },
   "outputs": [],
   "source": [
    "forest = RandomForestClassifier()\n",
    "scores_RF = cross_val_score(forest,X,Y,cv=10,scoring = 'f1_weighted') ###tried cv=10: 0.788\n",
    "\n",
    "forest.fit(X,Y)\n",
    "importances_allfeatures = forest.feature_importances_\n",
    "importances_allfeatures[:3]\n",
    "\n",
    "std = np.std([tree.feature_importances_ for tree in forest.estimators_],\n",
    "             axis=0)\n",
    "indices = np.argsort(importances_allfeatures)[::-1]"
   ]
  },
  {
   "cell_type": "code",
   "execution_count": 90,
   "metadata": {
    "collapsed": false
   },
   "outputs": [
    {
     "name": "stdout",
     "output_type": "stream",
     "text": [
      "1. Trip_distance (0.683518)\n",
      "2. windSpeed (0.061272)\n",
      "3. temp (0.060769)\n",
      "4. windBearing (0.058185)\n",
      "5. Pick_up_hour (0.031848)\n",
      "6. Passenger_count (0.026681)\n",
      "7. month (0.025062)\n",
      "8. weekofday (0.020225)\n",
      "9. icon (0.013115)\n",
      "10. visibility (0.011224)\n",
      "11. RateCodeID (0.003755)\n",
      "12. Store_and_fwd_flag (0.001919)\n",
      "13. Trip_type (0.001242)\n",
      "14. Holiday (0.001186)\n"
     ]
    },
    {
     "data": {
      "image/png": "[encoded data removed]",
      "text/plain": [
       "<matplotlib.figure.Figure at 0xc189f48e80>"
      ]
     },
     "metadata": {},
     "output_type": "display_data"
    }
   ],
   "source": [
    "for f in range(X.shape[1]):\n",
    "    print(\"%d. %s (%f)\" % (f + 1, data_transformed[features].columns[indices[f]], importances_allfeatures[indices[f]]))\n",
    "\n",
    "# Plot the feature importances of the forest\n",
    "plt.figure()\n",
    "plt.title(\"All Feature importances by RandomForest\")\n",
    "plt.bar(range(X.shape[1]), importances_allfeatures[indices],\n",
    "       color=\"r\", yerr=std[indices], align=\"center\")\n",
    "plt.xticks(range(X.shape[1]), indices)\n",
    "plt.xlim([-1, X.shape[1]])\n",
    "plt.show()"
   ]
  },
  {
   "cell_type": "code",
   "execution_count": 93,
   "metadata": {
    "collapsed": false
   },
   "outputs": [
    {
     "data": {
      "text/plain": [
       "0.71507022011534349"
      ]
     },
     "execution_count": 93,
     "metadata": {},
     "output_type": "execute_result"
    }
   ],
   "source": [
    "GB = GradientBoostingClassifier(n_estimators=100, learning_rate=0.02,\n",
    "                                max_depth=3, random_state=0)\n",
    "scores_GB = cross_val_score(GB,X,Y,scoring = 'accuracy',cv = 10) \n",
    "scores_GB.mean()"
   ]
  },
  {
   "cell_type": "code",
   "execution_count": 91,
   "metadata": {
    "collapsed": false
   },
   "outputs": [
    {
     "data": {
      "text/plain": [
       "0.66342061207032565"
      ]
     },
     "execution_count": 91,
     "metadata": {},
     "output_type": "execute_result"
    }
   ],
   "source": [
    "scores_RF.mean()"
   ]
  },
  {
   "cell_type": "code",
   "execution_count": 94,
   "metadata": {
    "collapsed": false
   },
   "outputs": [
    {
     "data": {
      "text/plain": [
       "array([ 0.66468978,  0.67826966,  0.67986124,  0.66733561,  0.62407299,\n",
       "        0.64031443,  0.64550901,  0.66789861,  0.68080825,  0.68544654])"
      ]
     },
     "execution_count": 94,
     "metadata": {},
     "output_type": "execute_result"
    }
   ],
   "source": [
    "scores_RF"
   ]
  },
  {
   "cell_type": "code",
   "execution_count": null,
   "metadata": {
    "collapsed": true
   },
   "outputs": [],
   "source": [
    "import pickle\n",
    "with open('Classifier_GB.pickle', 'wb') as handle:\n",
    "    pickle.dump(GB, handle, protocol=pickle.HIGHEST_PROTOCOL)"
   ]
  },
  {
   "cell_type": "code",
   "execution_count": null,
   "metadata": {
    "collapsed": true
   },
   "outputs": [],
   "source": []
  },
  {
   "cell_type": "code",
   "execution_count": null,
   "metadata": {
    "collapsed": true
   },
   "outputs": [],
   "source": []
  },
  {
   "cell_type": "code",
   "execution_count": null,
   "metadata": {
    "collapsed": true
   },
   "outputs": [],
   "source": []
  }
 ],
 "metadata": {
  "anaconda-cloud": {},
  "kernelspec": {
   "display_name": "Python [default]",
   "language": "python",
   "name": "python3"
  },
  "language_info": {
   "codemirror_mode": {
    "name": "ipython",
    "version": 3
   },
   "file_extension": ".py",
   "mimetype": "text/x-python",
   "name": "python",
   "nbconvert_exporter": "python",
   "pygments_lexer": "ipython3",
   "version": "3.5.2"
  }
 },
 "nbformat": 4,
 "nbformat_minor": 1
}
