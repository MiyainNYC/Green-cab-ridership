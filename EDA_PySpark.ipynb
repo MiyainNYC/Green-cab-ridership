{
 "cells": [
  {
   "cell_type": "code",
   "execution_count": 1,
   "metadata": {
    "collapsed": false
   },
   "outputs": [],
   "source": [
    "import pyspark\n",
    "from pyspark.sql.functions import avg,stddev,min,max,count\n",
    "from pyspark.sql.functions import col\n",
    "\n",
    "weather_df = spark.read.csv(\n",
    "    \"/Users/mac/Desktop/jpm/weather.csv\", header=True, mode=\"DROPMALFORMED\")\n",
    "raw_df = spark.read.csv(\n",
    "    \"/Users/mac/Desktop/jpm/raw_trip.csv\", header=True, mode=\"DROPMALFORMED\"\n",
    ")"
   ]
  },
  {
   "cell_type": "code",
   "execution_count": 2,
   "metadata": {
    "collapsed": false
   },
   "outputs": [
    {
     "name": "stdout",
     "output_type": "stream",
     "text": [
      "/Users/mac/Desktop/cab/facts\n"
     ]
    }
   ],
   "source": [
    "cd facts"
   ]
  },
  {
   "cell_type": "code",
   "execution_count": 3,
   "metadata": {
    "collapsed": false
   },
   "outputs": [
    {
     "name": "stdout",
     "output_type": "stream",
     "text": [
      "\u001b[34mabout_efficiency\u001b[m\u001b[m/                trip_eff_wd.csv\r\n",
      "\u001b[34mabout_efficiency_speed_distance\u001b[m\u001b[m/ trip_eff_wd_h.csv\r\n",
      "\u001b[34mabout_tip\u001b[m\u001b[m/                       trip_gain_date.csv\r\n",
      "\u001b[34mabout_volume\u001b[m\u001b[m/                    trip_gain_month.csv\r\n"
     ]
    }
   ],
   "source": [
    "ls"
   ]
  },
  {
   "cell_type": "code",
   "execution_count": 359,
   "metadata": {
    "collapsed": false
   },
   "outputs": [
    {
     "data": {
      "text/plain": [
       "29999"
      ]
     },
     "execution_count": 359,
     "metadata": {},
     "output_type": "execute_result"
    }
   ],
   "source": [
    "weather_df.count()"
   ]
  },
  {
   "cell_type": "code",
   "execution_count": 47,
   "metadata": {
    "collapsed": false
   },
   "outputs": [
    {
     "data": {
      "text/plain": [
       "45299607"
      ]
     },
     "execution_count": 47,
     "metadata": {},
     "output_type": "execute_result"
    }
   ],
   "source": [
    "raw_df.count()"
   ]
  },
  {
   "cell_type": "code",
   "execution_count": 91,
   "metadata": {
    "collapsed": false
   },
   "outputs": [
    {
     "data": {
      "text/plain": [
       "[('_c0', 'string'),\n",
       " ('index', 'string'),\n",
       " ('Extra', 'double'),\n",
       " ('Fare_amount', 'double'),\n",
       " ('Holiday', 'string'),\n",
       " ('MTA_tax', 'double'),\n",
       " ('Passenger_count', 'double'),\n",
       " ('Payment_type', 'string'),\n",
       " ('RateCodeID', 'string'),\n",
       " ('Store_and_fwd_flag', 'string'),\n",
       " ('Tip_amount', 'double'),\n",
       " ('Tolls_amount', 'double'),\n",
       " ('Total_amount', 'double'),\n",
       " ('Trip_distance', 'double'),\n",
       " ('Trip_type', 'string'),\n",
       " ('date', 'string'),\n",
       " ('day', 'string'),\n",
       " ('hour', 'string'),\n",
       " ('improvement_surcharge', 'double'),\n",
       " ('interval_min', 'double'),\n",
       " ('month', 'string'),\n",
       " ('weekofday', 'string'),\n",
       " ('year', 'string')]"
      ]
     },
     "execution_count": 91,
     "metadata": {},
     "output_type": "execute_result"
    }
   ],
   "source": [
    "raw_df.dtypes"
   ]
  },
  {
   "cell_type": "code",
   "execution_count": 103,
   "metadata": {
    "collapsed": false
   },
   "outputs": [
    {
     "data": {
      "text/plain": [
       "[('_c0', 'string'),\n",
       " ('temp', 'string'),\n",
       " ('icon', 'string'),\n",
       " ('windBearing', 'string'),\n",
       " ('windSpeed', 'string'),\n",
       " ('visibility', 'string'),\n",
       " ('hour_w', 'string'),\n",
       " ('date_w', 'string')]"
      ]
     },
     "execution_count": 103,
     "metadata": {},
     "output_type": "execute_result"
    }
   ],
   "source": [
    "weather_df.dtypes"
   ]
  },
  {
   "cell_type": "markdown",
   "metadata": {},
   "source": [
    "### Modify Data Type"
   ]
  },
  {
   "cell_type": "code",
   "execution_count": 4,
   "metadata": {
    "collapsed": true
   },
   "outputs": [],
   "source": [
    "from pyspark.sql.types import DoubleType\n",
    "\n",
    "weather_df = weather_df.withColumn(\"temp\", weather_df[\"temp\"].cast(DoubleType()))\n",
    "weather_df = weather_df.withColumn(\"windBearing\", weather_df[\"windBearing\"].cast(DoubleType()))\n",
    "weather_df = weather_df.withColumn(\"windSpeed\", weather_df[\"windSpeed\"].cast(DoubleType()))\n",
    "weather_df = weather_df.withColumn(\"visibility\", weather_df[\"visibility\"].cast(DoubleType()))\n",
    "weather_df = weather_df.withColumn(\"windBearing\", weather_df[\"windBearing\"].cast(DoubleType()))\n",
    "raw_df = raw_df.withColumn(\"Extra\", raw_df[\"Extra\"].cast(DoubleType()))\n",
    "raw_df = raw_df.withColumn(\"Fare_amount\", raw_df[\"Fare_amount\"].cast(DoubleType()))\n",
    "raw_df = raw_df.withColumn(\"MTA_tax\", raw_df[\"MTA_tax\"].cast(DoubleType()))\n",
    "raw_df = raw_df.withColumn(\"Passenger_count\", raw_df[\"Passenger_count\"].cast(DoubleType()))\n",
    "raw_df = raw_df.withColumn(\"Tip_amount\", raw_df[\"Tip_amount\"].cast(DoubleType()))\n",
    "raw_df = raw_df.withColumn(\"Tolls_amount\", raw_df[\"Tolls_amount\"].cast(DoubleType()))\n",
    "raw_df = raw_df.withColumn(\"Total_amount\", raw_df[\"Total_amount\"].cast(DoubleType()))\n",
    "raw_df = raw_df.withColumn(\"Trip_distance\", raw_df[\"Trip_distance\"].cast(DoubleType()))\n",
    "raw_df = raw_df.withColumn(\"improvement_surcharge\", raw_df[\"improvement_surcharge\"].cast(DoubleType()))\n",
    "raw_df = raw_df.withColumn(\"interval_min\", raw_df[\"interval_min\"].cast(DoubleType()))"
   ]
  },
  {
   "cell_type": "code",
   "execution_count": 5,
   "metadata": {
    "collapsed": true
   },
   "outputs": [],
   "source": [
    "weather_df.registerTempTable('weather')\n",
    "raw_df.registerTempTable('raw_trip')"
   ]
  },
  {
   "cell_type": "markdown",
   "metadata": {},
   "source": [
    "### Floats Transformation"
   ]
  },
  {
   "cell_type": "code",
   "execution_count": 6,
   "metadata": {
    "collapsed": false
   },
   "outputs": [],
   "source": [
    "col_to_change = ['Extra',\n",
    "                 'Fare_amount',\n",
    "                 'MTA_tax',\n",
    "                 'Tip_amount',\n",
    "                 'Tolls_amount',\n",
    "                 'Total_amount',\n",
    "                 'Trip_distance',\n",
    "                 'improvement_surcharge',]\n",
    "from pyspark.sql.functions import abs\n",
    "\n",
    "transform_df = sqlContext.sql(\"SELECT *, abs(Extra) as Extra_abs,abs(Fare_amount) as Fare_amount_abs,\\\n",
    "                                      abs(MTA_tax) as MTA_tax_abs,abs(Tip_amount) as Tip_amount_abs,\\\n",
    "                                      abs(Tolls_amount) as Tolls_amount_abs,\\\n",
    "                                      abs(Total_amount) as Total_amount_abs,\\\n",
    "                                      abs(Trip_distance) as Trip_distance_abs\\\n",
    "                                      from raw_trip\")\n",
    "transform_df.registerTempTable('transform_trip')"
   ]
  },
  {
   "cell_type": "code",
   "execution_count": 12,
   "metadata": {
    "collapsed": false
   },
   "outputs": [
    {
     "name": "stdout",
     "output_type": "stream",
     "text": [
      "root\n",
      " |-- _c0: string (nullable = true)\n",
      " |-- index: string (nullable = true)\n",
      " |-- Extra: double (nullable = true)\n",
      " |-- Fare_amount: double (nullable = true)\n",
      " |-- Holiday: string (nullable = true)\n",
      " |-- MTA_tax: double (nullable = true)\n",
      " |-- Passenger_count: double (nullable = true)\n",
      " |-- Payment_type: string (nullable = true)\n",
      " |-- RateCodeID: string (nullable = true)\n",
      " |-- Store_and_fwd_flag: string (nullable = true)\n",
      " |-- Tip_amount: double (nullable = true)\n",
      " |-- Tolls_amount: double (nullable = true)\n",
      " |-- Total_amount: double (nullable = true)\n",
      " |-- Trip_distance: double (nullable = true)\n",
      " |-- Trip_type: string (nullable = true)\n",
      " |-- date: string (nullable = true)\n",
      " |-- day: string (nullable = true)\n",
      " |-- hour: string (nullable = true)\n",
      " |-- improvement_surcharge: double (nullable = true)\n",
      " |-- interval_min: double (nullable = true)\n",
      " |-- month: string (nullable = true)\n",
      " |-- weekofday: string (nullable = true)\n",
      " |-- year: string (nullable = true)\n",
      " |-- Extra_abs: double (nullable = true)\n",
      " |-- Fare_amount_abs: double (nullable = true)\n",
      " |-- MTA_tax_abs: double (nullable = true)\n",
      " |-- Tip_amount_abs: double (nullable = true)\n",
      " |-- Tolls_amount_abs: double (nullable = true)\n",
      " |-- Total_amount_abs: double (nullable = true)\n",
      " |-- Trip_distance_abs: double (nullable = true)\n",
      "\n"
     ]
    }
   ],
   "source": [
    "transform_df.printSchema()"
   ]
  },
  {
   "cell_type": "code",
   "execution_count": 6,
   "metadata": {
    "collapsed": true
   },
   "outputs": [],
   "source": [
    "trip_gain_month = transform_df.groupBy(*['year','month']).agg(*[avg(col('Fare_amount_abs'))]).toPandas()\n",
    "trip_gain_month.to_csv('trip_gain_month.csv')"
   ]
  },
  {
   "cell_type": "code",
   "execution_count": 7,
   "metadata": {
    "collapsed": false
   },
   "outputs": [
    {
     "data": {
      "text/html": [
       "<div>\n",
       "<table border=\"1\" class=\"dataframe\">\n",
       "  <thead>\n",
       "    <tr style=\"text-align: right;\">\n",
       "      <th></th>\n",
       "      <th>year</th>\n",
       "      <th>month</th>\n",
       "      <th>avg(Fare_amount_abs)</th>\n",
       "    </tr>\n",
       "  </thead>\n",
       "  <tbody>\n",
       "    <tr>\n",
       "      <th>0</th>\n",
       "      <td>2014</td>\n",
       "      <td>2</td>\n",
       "      <td>12.017728</td>\n",
       "    </tr>\n",
       "    <tr>\n",
       "      <th>1</th>\n",
       "      <td>2014</td>\n",
       "      <td>11</td>\n",
       "      <td>12.369709</td>\n",
       "    </tr>\n",
       "    <tr>\n",
       "      <th>2</th>\n",
       "      <td>2014</td>\n",
       "      <td>8</td>\n",
       "      <td>12.785319</td>\n",
       "    </tr>\n",
       "    <tr>\n",
       "      <th>3</th>\n",
       "      <td>2014</td>\n",
       "      <td>5</td>\n",
       "      <td>12.913300</td>\n",
       "    </tr>\n",
       "    <tr>\n",
       "      <th>4</th>\n",
       "      <td>2014</td>\n",
       "      <td>12</td>\n",
       "      <td>12.288316</td>\n",
       "    </tr>\n",
       "  </tbody>\n",
       "</table>\n",
       "</div>"
      ],
      "text/plain": [
       "   year month  avg(Fare_amount_abs)\n",
       "0  2014     2             12.017728\n",
       "1  2014    11             12.369709\n",
       "2  2014     8             12.785319\n",
       "3  2014     5             12.913300\n",
       "4  2014    12             12.288316"
      ]
     },
     "execution_count": 7,
     "metadata": {},
     "output_type": "execute_result"
    }
   ],
   "source": [
    "trip_gain_month.head()"
   ]
  },
  {
   "cell_type": "code",
   "execution_count": 16,
   "metadata": {
    "collapsed": false
   },
   "outputs": [
    {
     "name": "stdout",
     "output_type": "stream",
     "text": [
      "\u001b[34mabout_efficiency\u001b[m\u001b[m/                \u001b[34mabout_volume\u001b[m\u001b[m/\r\n",
      "\u001b[34mabout_efficiency_speed_distance\u001b[m\u001b[m/ trip_gain_date.csv\r\n",
      "\u001b[34mabout_tip\u001b[m\u001b[m/                       trip_gain_month.csv\r\n"
     ]
    }
   ],
   "source": [
    "cd about_efficiency"
   ]
  },
  {
   "cell_type": "code",
   "execution_count": 20,
   "metadata": {
    "collapsed": false
   },
   "outputs": [
    {
     "name": "stdout",
     "output_type": "stream",
     "text": [
      "root\n",
      " |-- _c0: string (nullable = true)\n",
      " |-- index: string (nullable = true)\n",
      " |-- Extra: double (nullable = true)\n",
      " |-- Fare_amount: double (nullable = true)\n",
      " |-- Holiday: string (nullable = true)\n",
      " |-- MTA_tax: double (nullable = true)\n",
      " |-- Passenger_count: double (nullable = true)\n",
      " |-- Payment_type: string (nullable = true)\n",
      " |-- RateCodeID: string (nullable = true)\n",
      " |-- Store_and_fwd_flag: string (nullable = true)\n",
      " |-- Tip_amount: double (nullable = true)\n",
      " |-- Tolls_amount: double (nullable = true)\n",
      " |-- Total_amount: double (nullable = true)\n",
      " |-- Trip_distance: double (nullable = true)\n",
      " |-- Trip_type: string (nullable = true)\n",
      " |-- date: string (nullable = true)\n",
      " |-- day: string (nullable = true)\n",
      " |-- hour: string (nullable = true)\n",
      " |-- improvement_surcharge: double (nullable = true)\n",
      " |-- interval_min: double (nullable = true)\n",
      " |-- month: string (nullable = true)\n",
      " |-- weekofday: string (nullable = true)\n",
      " |-- year: string (nullable = true)\n",
      " |-- Extra_abs: double (nullable = true)\n",
      " |-- Fare_amount_abs: double (nullable = true)\n",
      " |-- MTA_tax_abs: double (nullable = true)\n",
      " |-- Tip_amount_abs: double (nullable = true)\n",
      " |-- Tolls_amount_abs: double (nullable = true)\n",
      " |-- Total_amount_abs: double (nullable = true)\n",
      " |-- Trip_distance_abs: double (nullable = true)\n",
      "\n"
     ]
    }
   ],
   "source": [
    "transform_df.printSchema()"
   ]
  },
  {
   "cell_type": "code",
   "execution_count": 10,
   "metadata": {
    "collapsed": true
   },
   "outputs": [],
   "source": [
    "trip_gain_date = transform_df.groupBy(['date']).agg(avg(col('Fare_amount_abs')))\n",
    "trip_gain_date = trip_gain_date.toPandas()\n",
    "trip_gain_date.to_csv('trip_gain_date.csv')"
   ]
  },
  {
   "cell_type": "code",
   "execution_count": 11,
   "metadata": {
    "collapsed": false
   },
   "outputs": [
    {
     "data": {
      "text/html": [
       "<div>\n",
       "<table border=\"1\" class=\"dataframe\">\n",
       "  <thead>\n",
       "    <tr style=\"text-align: right;\">\n",
       "      <th></th>\n",
       "      <th>date</th>\n",
       "      <th>avg(Fare_amount_abs)</th>\n",
       "    </tr>\n",
       "  </thead>\n",
       "  <tbody>\n",
       "    <tr>\n",
       "      <th>0</th>\n",
       "      <td>2013-10-23 00:00:00</td>\n",
       "      <td>12.071924</td>\n",
       "    </tr>\n",
       "    <tr>\n",
       "      <th>1</th>\n",
       "      <td>2014-02-18 00:00:00</td>\n",
       "      <td>11.661606</td>\n",
       "    </tr>\n",
       "    <tr>\n",
       "      <th>2</th>\n",
       "      <td>2015-04-20 00:00:00</td>\n",
       "      <td>11.894408</td>\n",
       "    </tr>\n",
       "    <tr>\n",
       "      <th>3</th>\n",
       "      <td>2015-05-26 00:00:00</td>\n",
       "      <td>12.575286</td>\n",
       "    </tr>\n",
       "    <tr>\n",
       "      <th>4</th>\n",
       "      <td>2015-06-23 00:00:00</td>\n",
       "      <td>12.267984</td>\n",
       "    </tr>\n",
       "  </tbody>\n",
       "</table>\n",
       "</div>"
      ],
      "text/plain": [
       "                  date  avg(Fare_amount_abs)\n",
       "0  2013-10-23 00:00:00             12.071924\n",
       "1  2014-02-18 00:00:00             11.661606\n",
       "2  2015-04-20 00:00:00             11.894408\n",
       "3  2015-05-26 00:00:00             12.575286\n",
       "4  2015-06-23 00:00:00             12.267984"
      ]
     },
     "execution_count": 11,
     "metadata": {},
     "output_type": "execute_result"
    }
   ],
   "source": [
    "trip_gain_date.head()"
   ]
  },
  {
   "cell_type": "markdown",
   "metadata": {},
   "source": [
    "# Trip Count Segmentation"
   ]
  },
  {
   "cell_type": "code",
   "execution_count": 7,
   "metadata": {
    "collapsed": false
   },
   "outputs": [],
   "source": [
    "merge = sqlContext.sql(\"SELECT * from raw_trip r right join weather w where r.date = w.date_w and r.hour = w.hour_w\")\n",
    "merge.registerTempTable('merge')"
   ]
  },
  {
   "cell_type": "code",
   "execution_count": 111,
   "metadata": {
    "collapsed": false
   },
   "outputs": [],
   "source": [
    "count_trip = merge.groupBy(['year','month','weekofday','hour','Holiday','Payment_type','RateCodeID','icon']).count()\n",
    "count_trip_pd = count_trip.toPandas()\n",
    "count_trip_pd.to_csv('count_trip.csv')"
   ]
  },
  {
   "cell_type": "code",
   "execution_count": 9,
   "metadata": {
    "collapsed": false
   },
   "outputs": [],
   "source": [
    "count_trip_date = merge.groupBy(['date']).count()\n",
    "count_trip_date = count_trip_date.toPandas()\n",
    "count_trip_date.to_csv('count_trip_daily.csv')"
   ]
  },
  {
   "cell_type": "code",
   "execution_count": 10,
   "metadata": {
    "collapsed": false
   },
   "outputs": [
    {
     "data": {
      "text/html": [
       "<div>\n",
       "<table border=\"1\" class=\"dataframe\">\n",
       "  <thead>\n",
       "    <tr style=\"text-align: right;\">\n",
       "      <th></th>\n",
       "      <th>date</th>\n",
       "      <th>count</th>\n",
       "    </tr>\n",
       "  </thead>\n",
       "  <tbody>\n",
       "    <tr>\n",
       "      <th>0</th>\n",
       "      <td>2013-10-23 00:00:00</td>\n",
       "      <td>6620</td>\n",
       "    </tr>\n",
       "    <tr>\n",
       "      <th>1</th>\n",
       "      <td>2014-02-18 00:00:00</td>\n",
       "      <td>28463</td>\n",
       "    </tr>\n",
       "    <tr>\n",
       "      <th>2</th>\n",
       "      <td>2015-04-20 00:00:00</td>\n",
       "      <td>46724</td>\n",
       "    </tr>\n",
       "    <tr>\n",
       "      <th>3</th>\n",
       "      <td>2015-05-26 00:00:00</td>\n",
       "      <td>44578</td>\n",
       "    </tr>\n",
       "    <tr>\n",
       "      <th>4</th>\n",
       "      <td>2015-06-23 00:00:00</td>\n",
       "      <td>47747</td>\n",
       "    </tr>\n",
       "  </tbody>\n",
       "</table>\n",
       "</div>"
      ],
      "text/plain": [
       "                  date  count\n",
       "0  2013-10-23 00:00:00   6620\n",
       "1  2014-02-18 00:00:00  28463\n",
       "2  2015-04-20 00:00:00  46724\n",
       "3  2015-05-26 00:00:00  44578\n",
       "4  2015-06-23 00:00:00  47747"
      ]
     },
     "execution_count": 10,
     "metadata": {},
     "output_type": "execute_result"
    }
   ],
   "source": [
    "count_trip_date.head()"
   ]
  },
  {
   "cell_type": "code",
   "execution_count": 28,
   "metadata": {
    "collapsed": false
   },
   "outputs": [],
   "source": [
    "count_h_h = merge.groupBy(['hour','Holiday']).count()\n",
    "count_h_h = count_h_h.toPandas()\n",
    "count_h_h.to_csv('count_h_h.csv')"
   ]
  },
  {
   "cell_type": "code",
   "execution_count": 29,
   "metadata": {
    "collapsed": false
   },
   "outputs": [
    {
     "data": {
      "text/html": [
       "<div>\n",
       "<table border=\"1\" class=\"dataframe\">\n",
       "  <thead>\n",
       "    <tr style=\"text-align: right;\">\n",
       "      <th></th>\n",
       "      <th>hour</th>\n",
       "      <th>Holiday</th>\n",
       "      <th>count</th>\n",
       "    </tr>\n",
       "  </thead>\n",
       "  <tbody>\n",
       "    <tr>\n",
       "      <th>0</th>\n",
       "      <td>15</td>\n",
       "      <td>0</td>\n",
       "      <td>2122638</td>\n",
       "    </tr>\n",
       "    <tr>\n",
       "      <th>1</th>\n",
       "      <td>7</td>\n",
       "      <td>1</td>\n",
       "      <td>19845</td>\n",
       "    </tr>\n",
       "    <tr>\n",
       "      <th>2</th>\n",
       "      <td>4</td>\n",
       "      <td>1</td>\n",
       "      <td>29563</td>\n",
       "    </tr>\n",
       "    <tr>\n",
       "      <th>3</th>\n",
       "      <td>9</td>\n",
       "      <td>0</td>\n",
       "      <td>1735232</td>\n",
       "    </tr>\n",
       "    <tr>\n",
       "      <th>4</th>\n",
       "      <td>5</td>\n",
       "      <td>1</td>\n",
       "      <td>19738</td>\n",
       "    </tr>\n",
       "  </tbody>\n",
       "</table>\n",
       "</div>"
      ],
      "text/plain": [
       "  hour Holiday    count\n",
       "0   15       0  2122638\n",
       "1    7       1    19845\n",
       "2    4       1    29563\n",
       "3    9       0  1735232\n",
       "4    5       1    19738"
      ]
     },
     "execution_count": 29,
     "metadata": {},
     "output_type": "execute_result"
    }
   ],
   "source": [
    "count_h_h.head()"
   ]
  },
  {
   "cell_type": "code",
   "execution_count": 7,
   "metadata": {
    "collapsed": false
   },
   "outputs": [
    {
     "name": "stdout",
     "output_type": "stream",
     "text": [
      "/Users/mac/Desktop/jp/facts/about_volume\n"
     ]
    }
   ],
   "source": [
    "cd about_volume"
   ]
  },
  {
   "cell_type": "code",
   "execution_count": 8,
   "metadata": {
    "collapsed": true
   },
   "outputs": [],
   "source": [
    "count_R_i_h = merge.groupBy(['RateCodeID','icon','hour']).count()\n",
    "count_R_i_h = count_R_i_h.toPandas()\n",
    "count_R_i_h.to_csv('count_R_i_h.csv')"
   ]
  },
  {
   "cell_type": "code",
   "execution_count": 9,
   "metadata": {
    "collapsed": false
   },
   "outputs": [
    {
     "data": {
      "text/html": [
       "<div>\n",
       "<table border=\"1\" class=\"dataframe\">\n",
       "  <thead>\n",
       "    <tr style=\"text-align: right;\">\n",
       "      <th></th>\n",
       "      <th>RateCodeID</th>\n",
       "      <th>icon</th>\n",
       "      <th>hour</th>\n",
       "      <th>count</th>\n",
       "    </tr>\n",
       "  </thead>\n",
       "  <tbody>\n",
       "    <tr>\n",
       "      <th>0</th>\n",
       "      <td>1</td>\n",
       "      <td>clear-night</td>\n",
       "      <td>0</td>\n",
       "      <td>1659840</td>\n",
       "    </tr>\n",
       "    <tr>\n",
       "      <th>1</th>\n",
       "      <td>2</td>\n",
       "      <td>rain</td>\n",
       "      <td>17</td>\n",
       "      <td>715</td>\n",
       "    </tr>\n",
       "    <tr>\n",
       "      <th>2</th>\n",
       "      <td>3</td>\n",
       "      <td>partly-cloudy-night</td>\n",
       "      <td>19</td>\n",
       "      <td>201</td>\n",
       "    </tr>\n",
       "    <tr>\n",
       "      <th>3</th>\n",
       "      <td>2</td>\n",
       "      <td>fog</td>\n",
       "      <td>9</td>\n",
       "      <td>156</td>\n",
       "    </tr>\n",
       "    <tr>\n",
       "      <th>4</th>\n",
       "      <td>1</td>\n",
       "      <td>snow</td>\n",
       "      <td>10</td>\n",
       "      <td>21291</td>\n",
       "    </tr>\n",
       "  </tbody>\n",
       "</table>\n",
       "</div>"
      ],
      "text/plain": [
       "  RateCodeID                 icon hour    count\n",
       "0          1          clear-night    0  1659840\n",
       "1          2                 rain   17      715\n",
       "2          3  partly-cloudy-night   19      201\n",
       "3          2                  fog    9      156\n",
       "4          1                 snow   10    21291"
      ]
     },
     "execution_count": 9,
     "metadata": {},
     "output_type": "execute_result"
    }
   ],
   "source": [
    "count_R_i_h.head()"
   ]
  },
  {
   "cell_type": "code",
   "execution_count": 10,
   "metadata": {
    "collapsed": true
   },
   "outputs": [],
   "source": [
    "count_R_i_holiday = merge.groupBy(['RateCodeID','icon','holiday']).count()\n",
    "count_R_i_holiday = count_R_i_holiday.toPandas()\n",
    "count_R_i_holiday.to_csv('count_R_i_holiday.csv')"
   ]
  },
  {
   "cell_type": "code",
   "execution_count": 11,
   "metadata": {
    "collapsed": false
   },
   "outputs": [
    {
     "data": {
      "text/html": [
       "<div>\n",
       "<table border=\"1\" class=\"dataframe\">\n",
       "  <thead>\n",
       "    <tr style=\"text-align: right;\">\n",
       "      <th></th>\n",
       "      <th>RateCodeID</th>\n",
       "      <th>icon</th>\n",
       "      <th>holiday</th>\n",
       "      <th>count</th>\n",
       "    </tr>\n",
       "  </thead>\n",
       "  <tbody>\n",
       "    <tr>\n",
       "      <th>0</th>\n",
       "      <td>1</td>\n",
       "      <td>clear-night</td>\n",
       "      <td>0</td>\n",
       "      <td>12669456</td>\n",
       "    </tr>\n",
       "    <tr>\n",
       "      <th>1</th>\n",
       "      <td>99</td>\n",
       "      <td>partly-cloudy-night</td>\n",
       "      <td>0</td>\n",
       "      <td>5</td>\n",
       "    </tr>\n",
       "    <tr>\n",
       "      <th>2</th>\n",
       "      <td>3</td>\n",
       "      <td>cloudy</td>\n",
       "      <td>0</td>\n",
       "      <td>1921</td>\n",
       "    </tr>\n",
       "    <tr>\n",
       "      <th>3</th>\n",
       "      <td>5</td>\n",
       "      <td>partly-cloudy-day</td>\n",
       "      <td>1</td>\n",
       "      <td>2460</td>\n",
       "    </tr>\n",
       "    <tr>\n",
       "      <th>4</th>\n",
       "      <td>2</td>\n",
       "      <td>wind</td>\n",
       "      <td>1</td>\n",
       "      <td>130</td>\n",
       "    </tr>\n",
       "  </tbody>\n",
       "</table>\n",
       "</div>"
      ],
      "text/plain": [
       "  RateCodeID                 icon holiday     count\n",
       "0          1          clear-night       0  12669456\n",
       "1         99  partly-cloudy-night       0         5\n",
       "2          3               cloudy       0      1921\n",
       "3          5    partly-cloudy-day       1      2460\n",
       "4          2                 wind       1       130"
      ]
     },
     "execution_count": 11,
     "metadata": {},
     "output_type": "execute_result"
    }
   ],
   "source": [
    "count_R_i_holiday.head()"
   ]
  },
  {
   "cell_type": "code",
   "execution_count": 9,
   "metadata": {
    "collapsed": true
   },
   "outputs": [],
   "source": [
    "count_h_i = merge.groupBy(['hour','icon']).count()\n",
    "count_h_i = count_h_i.toPandas()\n",
    "count_h_i.to_csv('count_h_i.csv')"
   ]
  },
  {
   "cell_type": "code",
   "execution_count": 10,
   "metadata": {
    "collapsed": false
   },
   "outputs": [
    {
     "data": {
      "text/html": [
       "<div>\n",
       "<table border=\"1\" class=\"dataframe\">\n",
       "  <thead>\n",
       "    <tr style=\"text-align: right;\">\n",
       "      <th></th>\n",
       "      <th>hour</th>\n",
       "      <th>icon</th>\n",
       "      <th>count</th>\n",
       "    </tr>\n",
       "  </thead>\n",
       "  <tbody>\n",
       "    <tr>\n",
       "      <th>0</th>\n",
       "      <td>5</td>\n",
       "      <td>cloudy</td>\n",
       "      <td>49533</td>\n",
       "    </tr>\n",
       "    <tr>\n",
       "      <th>1</th>\n",
       "      <td>11</td>\n",
       "      <td>wind</td>\n",
       "      <td>94334</td>\n",
       "    </tr>\n",
       "    <tr>\n",
       "      <th>2</th>\n",
       "      <td>3</td>\n",
       "      <td>wind</td>\n",
       "      <td>23886</td>\n",
       "    </tr>\n",
       "    <tr>\n",
       "      <th>3</th>\n",
       "      <td>6</td>\n",
       "      <td>partly-cloudy-night</td>\n",
       "      <td>40247</td>\n",
       "    </tr>\n",
       "    <tr>\n",
       "      <th>4</th>\n",
       "      <td>1</td>\n",
       "      <td>wind</td>\n",
       "      <td>49389</td>\n",
       "    </tr>\n",
       "  </tbody>\n",
       "</table>\n",
       "</div>"
      ],
      "text/plain": [
       "  hour                 icon  count\n",
       "0    5               cloudy  49533\n",
       "1   11                 wind  94334\n",
       "2    3                 wind  23886\n",
       "3    6  partly-cloudy-night  40247\n",
       "4    1                 wind  49389"
      ]
     },
     "execution_count": 10,
     "metadata": {},
     "output_type": "execute_result"
    }
   ],
   "source": [
    "count_h_i.head()"
   ]
  },
  {
   "cell_type": "code",
   "execution_count": 13,
   "metadata": {
    "collapsed": true
   },
   "outputs": [],
   "source": [
    "count_R_i_w = merge.groupBy(['RateCodeID','icon','weekofday']).count()\n",
    "count_R_i_w = count_R_i_w.toPandas()\n",
    "count_R_i_w.to_csv('count_R_i_w.csv')"
   ]
  },
  {
   "cell_type": "code",
   "execution_count": 14,
   "metadata": {
    "collapsed": false
   },
   "outputs": [
    {
     "data": {
      "text/html": [
       "<div>\n",
       "<table border=\"1\" class=\"dataframe\">\n",
       "  <thead>\n",
       "    <tr style=\"text-align: right;\">\n",
       "      <th></th>\n",
       "      <th>RateCodeID</th>\n",
       "      <th>icon</th>\n",
       "      <th>weekofday</th>\n",
       "      <th>count</th>\n",
       "    </tr>\n",
       "  </thead>\n",
       "  <tbody>\n",
       "    <tr>\n",
       "      <th>0</th>\n",
       "      <td>1</td>\n",
       "      <td>clear-night</td>\n",
       "      <td>0</td>\n",
       "      <td>1330997</td>\n",
       "    </tr>\n",
       "    <tr>\n",
       "      <th>1</th>\n",
       "      <td>99</td>\n",
       "      <td>partly-cloudy-day</td>\n",
       "      <td>6</td>\n",
       "      <td>3</td>\n",
       "    </tr>\n",
       "    <tr>\n",
       "      <th>2</th>\n",
       "      <td>1</td>\n",
       "      <td>rain</td>\n",
       "      <td>4</td>\n",
       "      <td>375977</td>\n",
       "    </tr>\n",
       "    <tr>\n",
       "      <th>3</th>\n",
       "      <td>4</td>\n",
       "      <td>clear-night</td>\n",
       "      <td>5</td>\n",
       "      <td>1474</td>\n",
       "    </tr>\n",
       "    <tr>\n",
       "      <th>4</th>\n",
       "      <td>3</td>\n",
       "      <td>cloudy</td>\n",
       "      <td>0</td>\n",
       "      <td>265</td>\n",
       "    </tr>\n",
       "  </tbody>\n",
       "</table>\n",
       "</div>"
      ],
      "text/plain": [
       "  RateCodeID               icon weekofday    count\n",
       "0          1        clear-night         0  1330997\n",
       "1         99  partly-cloudy-day         6        3\n",
       "2          1               rain         4   375977\n",
       "3          4        clear-night         5     1474\n",
       "4          3             cloudy         0      265"
      ]
     },
     "execution_count": 14,
     "metadata": {},
     "output_type": "execute_result"
    }
   ],
   "source": [
    "count_R_i_w.head()"
   ]
  },
  {
   "cell_type": "markdown",
   "metadata": {},
   "source": [
    "**count_trip.csv**"
   ]
  },
  {
   "cell_type": "code",
   "execution_count": 138,
   "metadata": {
    "collapsed": false
   },
   "outputs": [
    {
     "data": {
      "text/html": [
       "<div>\n",
       "<table border=\"1\" class=\"dataframe\">\n",
       "  <thead>\n",
       "    <tr style=\"text-align: right;\">\n",
       "      <th></th>\n",
       "      <th>year</th>\n",
       "      <th>month</th>\n",
       "      <th>weekofday</th>\n",
       "      <th>hour</th>\n",
       "      <th>Holiday</th>\n",
       "      <th>Payment_type</th>\n",
       "      <th>RateCodeID</th>\n",
       "      <th>icon</th>\n",
       "      <th>count</th>\n",
       "    </tr>\n",
       "  </thead>\n",
       "  <tbody>\n",
       "    <tr>\n",
       "      <th>0</th>\n",
       "      <td>2013</td>\n",
       "      <td>9</td>\n",
       "      <td>2</td>\n",
       "      <td>14</td>\n",
       "      <td>0</td>\n",
       "      <td>None</td>\n",
       "      <td>3</td>\n",
       "      <td>partly-cloudy-day</td>\n",
       "      <td>2</td>\n",
       "    </tr>\n",
       "    <tr>\n",
       "      <th>1</th>\n",
       "      <td>2013</td>\n",
       "      <td>9</td>\n",
       "      <td>0</td>\n",
       "      <td>6</td>\n",
       "      <td>0</td>\n",
       "      <td>None</td>\n",
       "      <td>5</td>\n",
       "      <td>clear-night</td>\n",
       "      <td>6</td>\n",
       "    </tr>\n",
       "    <tr>\n",
       "      <th>2</th>\n",
       "      <td>2013</td>\n",
       "      <td>9</td>\n",
       "      <td>0</td>\n",
       "      <td>8</td>\n",
       "      <td>0</td>\n",
       "      <td>None</td>\n",
       "      <td>1</td>\n",
       "      <td>cloudy</td>\n",
       "      <td>54</td>\n",
       "    </tr>\n",
       "    <tr>\n",
       "      <th>3</th>\n",
       "      <td>2013</td>\n",
       "      <td>9</td>\n",
       "      <td>1</td>\n",
       "      <td>0</td>\n",
       "      <td>0</td>\n",
       "      <td>None</td>\n",
       "      <td>2</td>\n",
       "      <td>wind</td>\n",
       "      <td>2</td>\n",
       "    </tr>\n",
       "    <tr>\n",
       "      <th>4</th>\n",
       "      <td>2013</td>\n",
       "      <td>9</td>\n",
       "      <td>1</td>\n",
       "      <td>4</td>\n",
       "      <td>0</td>\n",
       "      <td>None</td>\n",
       "      <td>2</td>\n",
       "      <td>clear-night</td>\n",
       "      <td>1</td>\n",
       "    </tr>\n",
       "  </tbody>\n",
       "</table>\n",
       "</div>"
      ],
      "text/plain": [
       "   year month weekofday hour Holiday Payment_type RateCodeID  \\\n",
       "0  2013     9         2   14       0         None          3   \n",
       "1  2013     9         0    6       0         None          5   \n",
       "2  2013     9         0    8       0         None          1   \n",
       "3  2013     9         1    0       0         None          2   \n",
       "4  2013     9         1    4       0         None          2   \n",
       "\n",
       "                icon  count  \n",
       "0  partly-cloudy-day      2  \n",
       "1        clear-night      6  \n",
       "2             cloudy     54  \n",
       "3               wind      2  \n",
       "4        clear-night      1  "
      ]
     },
     "execution_count": 138,
     "metadata": {},
     "output_type": "execute_result"
    }
   ],
   "source": [
    "count_trip_pd.head()"
   ]
  },
  {
   "cell_type": "markdown",
   "metadata": {},
   "source": [
    "### Speed Limit Filtering"
   ]
  },
  {
   "cell_type": "code",
   "execution_count": 8,
   "metadata": {
    "collapsed": false
   },
   "outputs": [],
   "source": [
    "query = \"\"\"SELECT *, Trip_distance_abs/interval_min AS speed,Fare_amount_abs/interval_min AS Efficiency from transform_trip where interval_min>0 and Trip_distance_abs/interval_min < 1.25 and Trip_distance_abs/interval_min>0.17 and Trip_distance_abs/interval_min>0\"\"\"\n",
    "new_df = sqlContext.sql(query)\n",
    "new_df.registerTempTable('new_trip')\n",
    "merge_0 = sqlContext.sql(\"SELECT * from new_trip r right join weather w where r.date = w.date_w and r.hour = w.hour_w\")\n",
    "merge_0.registerTempTable('merge_0')"
   ]
  },
  {
   "cell_type": "code",
   "execution_count": 23,
   "metadata": {
    "collapsed": false
   },
   "outputs": [
    {
     "name": "stdout",
     "output_type": "stream",
     "text": [
      "root\n",
      " |-- _c0: string (nullable = true)\n",
      " |-- index: string (nullable = true)\n",
      " |-- Extra: double (nullable = true)\n",
      " |-- Fare_amount: double (nullable = true)\n",
      " |-- Holiday: string (nullable = true)\n",
      " |-- MTA_tax: double (nullable = true)\n",
      " |-- Passenger_count: double (nullable = true)\n",
      " |-- Payment_type: string (nullable = true)\n",
      " |-- RateCodeID: string (nullable = true)\n",
      " |-- Store_and_fwd_flag: string (nullable = true)\n",
      " |-- Tip_amount: double (nullable = true)\n",
      " |-- Tolls_amount: double (nullable = true)\n",
      " |-- Total_amount: double (nullable = true)\n",
      " |-- Trip_distance: double (nullable = true)\n",
      " |-- Trip_type: string (nullable = true)\n",
      " |-- date: string (nullable = true)\n",
      " |-- day: string (nullable = true)\n",
      " |-- hour: string (nullable = true)\n",
      " |-- improvement_surcharge: double (nullable = true)\n",
      " |-- interval_min: double (nullable = true)\n",
      " |-- month: string (nullable = true)\n",
      " |-- weekofday: string (nullable = true)\n",
      " |-- year: string (nullable = true)\n",
      " |-- Extra_abs: double (nullable = true)\n",
      " |-- Fare_amount_abs: double (nullable = true)\n",
      " |-- MTA_tax_abs: double (nullable = true)\n",
      " |-- Tip_amount_abs: double (nullable = true)\n",
      " |-- Tolls_amount_abs: double (nullable = true)\n",
      " |-- Total_amount_abs: double (nullable = true)\n",
      " |-- Trip_distance_abs: double (nullable = true)\n",
      " |-- speed: double (nullable = true)\n",
      " |-- Efficiency: double (nullable = true)\n",
      " |-- _c0: string (nullable = true)\n",
      " |-- temp: double (nullable = true)\n",
      " |-- icon: string (nullable = true)\n",
      " |-- windBearing: double (nullable = true)\n",
      " |-- windSpeed: double (nullable = true)\n",
      " |-- visibility: double (nullable = true)\n",
      " |-- hour_w: string (nullable = true)\n",
      " |-- date_w: string (nullable = true)\n",
      "\n"
     ]
    }
   ],
   "source": [
    "merge_0.printSchema()"
   ]
  },
  {
   "cell_type": "code",
   "execution_count": null,
   "metadata": {
    "collapsed": true
   },
   "outputs": [],
   "source": []
  },
  {
   "cell_type": "markdown",
   "metadata": {},
   "source": [
    "# Trip Distance/Speed/Profitability/Tip_percentage Segmentation"
   ]
  },
  {
   "cell_type": "code",
   "execution_count": 263,
   "metadata": {
    "collapsed": false
   },
   "outputs": [],
   "source": [
    "stats_wd = (merge_0\n",
    "               .groupBy('weekofday')\n",
    "               .agg(count('date'),\n",
    "                    avg('Trip_distance_abs'),\n",
    "                    stddev('Trip_distance_abs'),\n",
    "                    min('Trip_distance_abs'),\n",
    "                    max('Trip_distance_abs'),\n",
    "                    avg('speed'),\n",
    "                    stddev('speed'),\n",
    "                    min('speed'),\n",
    "                    max('speed'),\n",
    "                    avg('Efficiency'),\n",
    "                    stddev('Efficiency'),\n",
    "                    min('Efficiency'),\n",
    "                    max('Efficiency')))\n",
    "stats_holiday = (merge_0\n",
    "               .groupBy('Holiday')\n",
    "               .agg(count('date'),\n",
    "                    avg('Trip_distance_abs'),\n",
    "                    stddev('Trip_distance_abs'),\n",
    "                    min('Trip_distance_abs'),\n",
    "                    max('Trip_distance_abs'),\n",
    "                    avg('speed'),\n",
    "                    stddev('speed'),\n",
    "                    min('speed'),\n",
    "                    max('speed'),\n",
    "                    avg('Efficiency'),\n",
    "                    stddev('Efficiency'),\n",
    "                    min('Efficiency'),\n",
    "                    max('Efficiency')))\n",
    "stats_RateCodeID = (merge_0\n",
    "               .groupBy('RateCodeID')\n",
    "               .agg(count('date'),\n",
    "                    avg('Trip_distance_abs'),\n",
    "                    stddev('Trip_distance_abs'),\n",
    "                    min('Trip_distance_abs'),\n",
    "                    max('Trip_distance_abs'),\n",
    "                    avg('speed'),\n",
    "                    stddev('speed'),\n",
    "                    min('speed'),\n",
    "                    max('speed'),\n",
    "                    avg('Efficiency'),\n",
    "                    stddev('Efficiency'),\n",
    "                    min('Efficiency'),\n",
    "                    max('Efficiency')))\n",
    "stats_icon = (merge_0\n",
    "               .groupBy('icon')\n",
    "               .agg(count('date'),\n",
    "                    avg('Trip_distance_abs'),\n",
    "                    stddev('Trip_distance_abs'),\n",
    "                    min('Trip_distance_abs'),\n",
    "                    max('Trip_distance_abs'),\n",
    "                    avg('speed'),\n",
    "                    stddev('speed'),\n",
    "                    min('speed'),\n",
    "                    max('speed'),\n",
    "                    avg('Efficiency'),\n",
    "                    stddev('Efficiency'),\n",
    "                    min('Efficiency'),\n",
    "                    max('Efficiency')))\n",
    "stats_hour = (merge_0\n",
    "               .groupBy('hour')\n",
    "               .agg(count('date'),\n",
    "                    avg('Trip_distance_abs'),\n",
    "                    stddev('Trip_distance_abs'),\n",
    "                    min('Trip_distance_abs'),\n",
    "                    max('Trip_distance_abs'),\n",
    "                    avg('speed'),\n",
    "                    stddev('speed'),\n",
    "                    min('speed'),\n",
    "                    max('speed'),\n",
    "                    avg('Efficiency'),\n",
    "                    stddev('Efficiency'),\n",
    "                    min('Efficiency'),\n",
    "                    max('Efficiency')))\n",
    "stats_hour = stats_hour.toPandas()\n",
    "stats_wd_pd = stats_wd.toPandas()\n",
    "stats_holiday = stats_holiday.toPandas()\n",
    "stats_RateCodeID = stats_RateCodeID.toPandas()\n",
    "stats_icon = stats_icon.toPandas()"
   ]
  },
  {
   "cell_type": "code",
   "execution_count": 265,
   "metadata": {
    "collapsed": false
   },
   "outputs": [
    {
     "data": {
      "text/html": [
       "<div>\n",
       "<table border=\"1\" class=\"dataframe\">\n",
       "  <thead>\n",
       "    <tr style=\"text-align: right;\">\n",
       "      <th></th>\n",
       "      <th>weekofday</th>\n",
       "      <th>count(date)</th>\n",
       "      <th>avg(Trip_distance_abs)</th>\n",
       "      <th>stddev_samp(Trip_distance_abs)</th>\n",
       "      <th>min(Trip_distance_abs)</th>\n",
       "      <th>max(Trip_distance_abs)</th>\n",
       "      <th>avg(speed)</th>\n",
       "      <th>stddev_samp(speed)</th>\n",
       "      <th>min(speed)</th>\n",
       "      <th>max(speed)</th>\n",
       "      <th>avg(Efficiency)</th>\n",
       "      <th>stddev_samp(Efficiency)</th>\n",
       "      <th>min(Efficiency)</th>\n",
       "      <th>max(Efficiency)</th>\n",
       "    </tr>\n",
       "  </thead>\n",
       "  <tbody>\n",
       "    <tr>\n",
       "      <th>0</th>\n",
       "      <td>3</td>\n",
       "      <td>3954340</td>\n",
       "      <td>3.488736</td>\n",
       "      <td>3.346176</td>\n",
       "      <td>0.01</td>\n",
       "      <td>259.69</td>\n",
       "      <td>0.253703</td>\n",
       "      <td>0.087602</td>\n",
       "      <td>0.170004</td>\n",
       "      <td>1.246154</td>\n",
       "      <td>1.599027</td>\n",
       "      <td>26.682601</td>\n",
       "      <td>0.0</td>\n",
       "      <td>14970.0</td>\n",
       "    </tr>\n",
       "    <tr>\n",
       "      <th>1</th>\n",
       "      <td>0</td>\n",
       "      <td>3457056</td>\n",
       "      <td>3.466248</td>\n",
       "      <td>3.376326</td>\n",
       "      <td>0.01</td>\n",
       "      <td>391.09</td>\n",
       "      <td>0.259400</td>\n",
       "      <td>0.091718</td>\n",
       "      <td>0.170004</td>\n",
       "      <td>1.250000</td>\n",
       "      <td>1.615508</td>\n",
       "      <td>25.728010</td>\n",
       "      <td>0.0</td>\n",
       "      <td>19800.0</td>\n",
       "    </tr>\n",
       "    <tr>\n",
       "      <th>2</th>\n",
       "      <td>5</td>\n",
       "      <td>5505352</td>\n",
       "      <td>3.595964</td>\n",
       "      <td>3.193171</td>\n",
       "      <td>0.01</td>\n",
       "      <td>439.53</td>\n",
       "      <td>0.257717</td>\n",
       "      <td>0.088984</td>\n",
       "      <td>0.170003</td>\n",
       "      <td>1.248000</td>\n",
       "      <td>1.454894</td>\n",
       "      <td>24.031323</td>\n",
       "      <td>0.0</td>\n",
       "      <td>14520.0</td>\n",
       "    </tr>\n",
       "    <tr>\n",
       "      <th>3</th>\n",
       "      <td>6</td>\n",
       "      <td>5062876</td>\n",
       "      <td>3.583486</td>\n",
       "      <td>3.239518</td>\n",
       "      <td>0.01</td>\n",
       "      <td>375.64</td>\n",
       "      <td>0.264652</td>\n",
       "      <td>0.093057</td>\n",
       "      <td>0.170004</td>\n",
       "      <td>1.248000</td>\n",
       "      <td>1.469582</td>\n",
       "      <td>21.327574</td>\n",
       "      <td>0.0</td>\n",
       "      <td>9960.0</td>\n",
       "    </tr>\n",
       "    <tr>\n",
       "      <th>4</th>\n",
       "      <td>1</td>\n",
       "      <td>3329778</td>\n",
       "      <td>3.424029</td>\n",
       "      <td>3.299229</td>\n",
       "      <td>0.01</td>\n",
       "      <td>360.50</td>\n",
       "      <td>0.254577</td>\n",
       "      <td>0.088457</td>\n",
       "      <td>0.170004</td>\n",
       "      <td>1.248322</td>\n",
       "      <td>1.619615</td>\n",
       "      <td>25.581090</td>\n",
       "      <td>0.0</td>\n",
       "      <td>14850.0</td>\n",
       "    </tr>\n",
       "    <tr>\n",
       "      <th>5</th>\n",
       "      <td>4</td>\n",
       "      <td>4386018</td>\n",
       "      <td>3.565711</td>\n",
       "      <td>3.375077</td>\n",
       "      <td>0.01</td>\n",
       "      <td>659.58</td>\n",
       "      <td>0.254011</td>\n",
       "      <td>0.087780</td>\n",
       "      <td>0.170003</td>\n",
       "      <td>1.249180</td>\n",
       "      <td>1.618024</td>\n",
       "      <td>29.599458</td>\n",
       "      <td>0.0</td>\n",
       "      <td>23400.0</td>\n",
       "    </tr>\n",
       "    <tr>\n",
       "      <th>6</th>\n",
       "      <td>2</td>\n",
       "      <td>3487411</td>\n",
       "      <td>3.435510</td>\n",
       "      <td>3.301082</td>\n",
       "      <td>0.01</td>\n",
       "      <td>339.53</td>\n",
       "      <td>0.253860</td>\n",
       "      <td>0.087812</td>\n",
       "      <td>0.170004</td>\n",
       "      <td>1.246957</td>\n",
       "      <td>1.634247</td>\n",
       "      <td>25.865944</td>\n",
       "      <td>0.0</td>\n",
       "      <td>11250.0</td>\n",
       "    </tr>\n",
       "  </tbody>\n",
       "</table>\n",
       "</div>"
      ],
      "text/plain": [
       "  weekofday  count(date)  avg(Trip_distance_abs)  \\\n",
       "0         3      3954340                3.488736   \n",
       "1         0      3457056                3.466248   \n",
       "2         5      5505352                3.595964   \n",
       "3         6      5062876                3.583486   \n",
       "4         1      3329778                3.424029   \n",
       "5         4      4386018                3.565711   \n",
       "6         2      3487411                3.435510   \n",
       "\n",
       "   stddev_samp(Trip_distance_abs)  min(Trip_distance_abs)  \\\n",
       "0                        3.346176                    0.01   \n",
       "1                        3.376326                    0.01   \n",
       "2                        3.193171                    0.01   \n",
       "3                        3.239518                    0.01   \n",
       "4                        3.299229                    0.01   \n",
       "5                        3.375077                    0.01   \n",
       "6                        3.301082                    0.01   \n",
       "\n",
       "   max(Trip_distance_abs)  avg(speed)  stddev_samp(speed)  min(speed)  \\\n",
       "0                  259.69    0.253703            0.087602    0.170004   \n",
       "1                  391.09    0.259400            0.091718    0.170004   \n",
       "2                  439.53    0.257717            0.088984    0.170003   \n",
       "3                  375.64    0.264652            0.093057    0.170004   \n",
       "4                  360.50    0.254577            0.088457    0.170004   \n",
       "5                  659.58    0.254011            0.087780    0.170003   \n",
       "6                  339.53    0.253860            0.087812    0.170004   \n",
       "\n",
       "   max(speed)  avg(Efficiency)  stddev_samp(Efficiency)  min(Efficiency)  \\\n",
       "0    1.246154         1.599027                26.682601              0.0   \n",
       "1    1.250000         1.615508                25.728010              0.0   \n",
       "2    1.248000         1.454894                24.031323              0.0   \n",
       "3    1.248000         1.469582                21.327574              0.0   \n",
       "4    1.248322         1.619615                25.581090              0.0   \n",
       "5    1.249180         1.618024                29.599458              0.0   \n",
       "6    1.246957         1.634247                25.865944              0.0   \n",
       "\n",
       "   max(Efficiency)  \n",
       "0          14970.0  \n",
       "1          19800.0  \n",
       "2          14520.0  \n",
       "3           9960.0  \n",
       "4          14850.0  \n",
       "5          23400.0  \n",
       "6          11250.0  "
      ]
     },
     "execution_count": 265,
     "metadata": {},
     "output_type": "execute_result"
    }
   ],
   "source": [
    "stats_wd_pd"
   ]
  },
  {
   "cell_type": "code",
   "execution_count": 272,
   "metadata": {
    "collapsed": false
   },
   "outputs": [
    {
     "data": {
      "text/html": [
       "<div>\n",
       "<table border=\"1\" class=\"dataframe\">\n",
       "  <thead>\n",
       "    <tr style=\"text-align: right;\">\n",
       "      <th></th>\n",
       "      <th>Holiday</th>\n",
       "      <th>count(date)</th>\n",
       "      <th>avg(Trip_distance_abs)</th>\n",
       "      <th>stddev_samp(Trip_distance_abs)</th>\n",
       "      <th>min(Trip_distance_abs)</th>\n",
       "      <th>max(Trip_distance_abs)</th>\n",
       "      <th>avg(speed)</th>\n",
       "      <th>stddev_samp(speed)</th>\n",
       "      <th>min(speed)</th>\n",
       "      <th>max(speed)</th>\n",
       "      <th>avg(Efficiency)</th>\n",
       "      <th>stddev_samp(Efficiency)</th>\n",
       "      <th>min(Efficiency)</th>\n",
       "      <th>max(Efficiency)</th>\n",
       "    </tr>\n",
       "  </thead>\n",
       "  <tbody>\n",
       "    <tr>\n",
       "      <th>0</th>\n",
       "      <td>0</td>\n",
       "      <td>28383717</td>\n",
       "      <td>3.519583</td>\n",
       "      <td>3.296219</td>\n",
       "      <td>0.01</td>\n",
       "      <td>659.58</td>\n",
       "      <td>0.256803</td>\n",
       "      <td>0.089236</td>\n",
       "      <td>0.170003</td>\n",
       "      <td>1.24918</td>\n",
       "      <td>1.560694</td>\n",
       "      <td>25.513836</td>\n",
       "      <td>0.0</td>\n",
       "      <td>23400.0</td>\n",
       "    </tr>\n",
       "    <tr>\n",
       "      <th>1</th>\n",
       "      <td>1</td>\n",
       "      <td>799114</td>\n",
       "      <td>3.555395</td>\n",
       "      <td>3.337221</td>\n",
       "      <td>0.01</td>\n",
       "      <td>280.46</td>\n",
       "      <td>0.271289</td>\n",
       "      <td>0.099261</td>\n",
       "      <td>0.170005</td>\n",
       "      <td>1.25000</td>\n",
       "      <td>1.562539</td>\n",
       "      <td>24.109822</td>\n",
       "      <td>0.0</td>\n",
       "      <td>9300.0</td>\n",
       "    </tr>\n",
       "  </tbody>\n",
       "</table>\n",
       "</div>"
      ],
      "text/plain": [
       "  Holiday  count(date)  avg(Trip_distance_abs)  \\\n",
       "0       0     28383717                3.519583   \n",
       "1       1       799114                3.555395   \n",
       "\n",
       "   stddev_samp(Trip_distance_abs)  min(Trip_distance_abs)  \\\n",
       "0                        3.296219                    0.01   \n",
       "1                        3.337221                    0.01   \n",
       "\n",
       "   max(Trip_distance_abs)  avg(speed)  stddev_samp(speed)  min(speed)  \\\n",
       "0                  659.58    0.256803            0.089236    0.170003   \n",
       "1                  280.46    0.271289            0.099261    0.170005   \n",
       "\n",
       "   max(speed)  avg(Efficiency)  stddev_samp(Efficiency)  min(Efficiency)  \\\n",
       "0     1.24918         1.560694                25.513836              0.0   \n",
       "1     1.25000         1.562539                24.109822              0.0   \n",
       "\n",
       "   max(Efficiency)  \n",
       "0          23400.0  \n",
       "1           9300.0  "
      ]
     },
     "execution_count": 272,
     "metadata": {},
     "output_type": "execute_result"
    }
   ],
   "source": [
    "stats_holiday"
   ]
  },
  {
   "cell_type": "code",
   "execution_count": 273,
   "metadata": {
    "collapsed": false
   },
   "outputs": [
    {
     "data": {
      "text/html": [
       "<div>\n",
       "<table border=\"1\" class=\"dataframe\">\n",
       "  <thead>\n",
       "    <tr style=\"text-align: right;\">\n",
       "      <th></th>\n",
       "      <th>RateCodeID</th>\n",
       "      <th>count(date)</th>\n",
       "      <th>avg(Trip_distance_abs)</th>\n",
       "      <th>stddev_samp(Trip_distance_abs)</th>\n",
       "      <th>min(Trip_distance_abs)</th>\n",
       "      <th>max(Trip_distance_abs)</th>\n",
       "      <th>avg(speed)</th>\n",
       "      <th>stddev_samp(speed)</th>\n",
       "      <th>min(speed)</th>\n",
       "      <th>max(speed)</th>\n",
       "      <th>avg(Efficiency)</th>\n",
       "      <th>stddev_samp(Efficiency)</th>\n",
       "      <th>min(Efficiency)</th>\n",
       "      <th>max(Efficiency)</th>\n",
       "    </tr>\n",
       "  </thead>\n",
       "  <tbody>\n",
       "    <tr>\n",
       "      <th>0</th>\n",
       "      <td>3</td>\n",
       "      <td>19229</td>\n",
       "      <td>17.321800</td>\n",
       "      <td>9.785106</td>\n",
       "      <td>0.01</td>\n",
       "      <td>185.72</td>\n",
       "      <td>0.473361</td>\n",
       "      <td>0.189388</td>\n",
       "      <td>0.170017</td>\n",
       "      <td>1.241379</td>\n",
       "      <td>14.979680</td>\n",
       "      <td>62.647959</td>\n",
       "      <td>0.000000</td>\n",
       "      <td>1200.000000</td>\n",
       "    </tr>\n",
       "    <tr>\n",
       "      <th>1</th>\n",
       "      <td>5</td>\n",
       "      <td>517712</td>\n",
       "      <td>5.249665</td>\n",
       "      <td>5.770916</td>\n",
       "      <td>0.01</td>\n",
       "      <td>659.58</td>\n",
       "      <td>0.318663</td>\n",
       "      <td>0.155891</td>\n",
       "      <td>0.170004</td>\n",
       "      <td>1.248000</td>\n",
       "      <td>16.375323</td>\n",
       "      <td>165.222625</td>\n",
       "      <td>0.000000</td>\n",
       "      <td>23400.000000</td>\n",
       "    </tr>\n",
       "    <tr>\n",
       "      <th>2</th>\n",
       "      <td>6</td>\n",
       "      <td>323</td>\n",
       "      <td>1.738390</td>\n",
       "      <td>2.852065</td>\n",
       "      <td>0.03</td>\n",
       "      <td>26.80</td>\n",
       "      <td>0.345443</td>\n",
       "      <td>0.207703</td>\n",
       "      <td>0.170127</td>\n",
       "      <td>1.114286</td>\n",
       "      <td>4.275484</td>\n",
       "      <td>6.086712</td>\n",
       "      <td>0.030199</td>\n",
       "      <td>41.250000</td>\n",
       "    </tr>\n",
       "    <tr>\n",
       "      <th>3</th>\n",
       "      <td>1</td>\n",
       "      <td>28538848</td>\n",
       "      <td>3.434502</td>\n",
       "      <td>3.075283</td>\n",
       "      <td>0.01</td>\n",
       "      <td>439.53</td>\n",
       "      <td>0.255183</td>\n",
       "      <td>0.085916</td>\n",
       "      <td>0.170003</td>\n",
       "      <td>1.250000</td>\n",
       "      <td>1.120600</td>\n",
       "      <td>1.770265</td>\n",
       "      <td>0.000000</td>\n",
       "      <td>6000.000000</td>\n",
       "    </tr>\n",
       "    <tr>\n",
       "      <th>4</th>\n",
       "      <td>4</td>\n",
       "      <td>18832</td>\n",
       "      <td>14.730896</td>\n",
       "      <td>13.085966</td>\n",
       "      <td>0.10</td>\n",
       "      <td>391.09</td>\n",
       "      <td>0.465544</td>\n",
       "      <td>0.164477</td>\n",
       "      <td>0.170023</td>\n",
       "      <td>1.229682</td>\n",
       "      <td>1.857019</td>\n",
       "      <td>0.738576</td>\n",
       "      <td>0.000000</td>\n",
       "      <td>21.428571</td>\n",
       "    </tr>\n",
       "    <tr>\n",
       "      <th>5</th>\n",
       "      <td>2</td>\n",
       "      <td>87887</td>\n",
       "      <td>15.866177</td>\n",
       "      <td>6.656956</td>\n",
       "      <td>0.01</td>\n",
       "      <td>61.19</td>\n",
       "      <td>0.457766</td>\n",
       "      <td>0.160906</td>\n",
       "      <td>0.170040</td>\n",
       "      <td>1.247525</td>\n",
       "      <td>54.208504</td>\n",
       "      <td>220.606501</td>\n",
       "      <td>0.000000</td>\n",
       "      <td>3120.000000</td>\n",
       "    </tr>\n",
       "  </tbody>\n",
       "</table>\n",
       "</div>"
      ],
      "text/plain": [
       "  RateCodeID  count(date)  avg(Trip_distance_abs)  \\\n",
       "0          3        19229               17.321800   \n",
       "1          5       517712                5.249665   \n",
       "2          6          323                1.738390   \n",
       "3          1     28538848                3.434502   \n",
       "4          4        18832               14.730896   \n",
       "5          2        87887               15.866177   \n",
       "\n",
       "   stddev_samp(Trip_distance_abs)  min(Trip_distance_abs)  \\\n",
       "0                        9.785106                    0.01   \n",
       "1                        5.770916                    0.01   \n",
       "2                        2.852065                    0.03   \n",
       "3                        3.075283                    0.01   \n",
       "4                       13.085966                    0.10   \n",
       "5                        6.656956                    0.01   \n",
       "\n",
       "   max(Trip_distance_abs)  avg(speed)  stddev_samp(speed)  min(speed)  \\\n",
       "0                  185.72    0.473361            0.189388    0.170017   \n",
       "1                  659.58    0.318663            0.155891    0.170004   \n",
       "2                   26.80    0.345443            0.207703    0.170127   \n",
       "3                  439.53    0.255183            0.085916    0.170003   \n",
       "4                  391.09    0.465544            0.164477    0.170023   \n",
       "5                   61.19    0.457766            0.160906    0.170040   \n",
       "\n",
       "   max(speed)  avg(Efficiency)  stddev_samp(Efficiency)  min(Efficiency)  \\\n",
       "0    1.241379        14.979680                62.647959         0.000000   \n",
       "1    1.248000        16.375323               165.222625         0.000000   \n",
       "2    1.114286         4.275484                 6.086712         0.030199   \n",
       "3    1.250000         1.120600                 1.770265         0.000000   \n",
       "4    1.229682         1.857019                 0.738576         0.000000   \n",
       "5    1.247525        54.208504               220.606501         0.000000   \n",
       "\n",
       "   max(Efficiency)  \n",
       "0      1200.000000  \n",
       "1     23400.000000  \n",
       "2        41.250000  \n",
       "3      6000.000000  \n",
       "4        21.428571  \n",
       "5      3120.000000  "
      ]
     },
     "execution_count": 273,
     "metadata": {},
     "output_type": "execute_result"
    }
   ],
   "source": [
    "stats_RateCodeID"
   ]
  },
  {
   "cell_type": "code",
   "execution_count": 274,
   "metadata": {
    "collapsed": false
   },
   "outputs": [
    {
     "data": {
      "text/html": [
       "<div>\n",
       "<table border=\"1\" class=\"dataframe\">\n",
       "  <thead>\n",
       "    <tr style=\"text-align: right;\">\n",
       "      <th></th>\n",
       "      <th>icon</th>\n",
       "      <th>count(date)</th>\n",
       "      <th>avg(Trip_distance_abs)</th>\n",
       "      <th>stddev_samp(Trip_distance_abs)</th>\n",
       "      <th>min(Trip_distance_abs)</th>\n",
       "      <th>max(Trip_distance_abs)</th>\n",
       "      <th>avg(speed)</th>\n",
       "      <th>stddev_samp(speed)</th>\n",
       "      <th>min(speed)</th>\n",
       "      <th>max(speed)</th>\n",
       "      <th>avg(Efficiency)</th>\n",
       "      <th>stddev_samp(Efficiency)</th>\n",
       "      <th>min(Efficiency)</th>\n",
       "      <th>max(Efficiency)</th>\n",
       "    </tr>\n",
       "  </thead>\n",
       "  <tbody>\n",
       "    <tr>\n",
       "      <th>0</th>\n",
       "      <td>fog</td>\n",
       "      <td>297756</td>\n",
       "      <td>3.619020</td>\n",
       "      <td>3.406005</td>\n",
       "      <td>0.01</td>\n",
       "      <td>217.31</td>\n",
       "      <td>0.260155</td>\n",
       "      <td>0.092569</td>\n",
       "      <td>0.170005</td>\n",
       "      <td>1.245283</td>\n",
       "      <td>1.677254</td>\n",
       "      <td>20.733542</td>\n",
       "      <td>0.0</td>\n",
       "      <td>3300.0</td>\n",
       "    </tr>\n",
       "    <tr>\n",
       "      <th>1</th>\n",
       "      <td>partly-cloudy-day</td>\n",
       "      <td>3329346</td>\n",
       "      <td>3.643037</td>\n",
       "      <td>3.474877</td>\n",
       "      <td>0.01</td>\n",
       "      <td>383.64</td>\n",
       "      <td>0.248950</td>\n",
       "      <td>0.084855</td>\n",
       "      <td>0.170004</td>\n",
       "      <td>1.246957</td>\n",
       "      <td>1.665982</td>\n",
       "      <td>33.814042</td>\n",
       "      <td>0.0</td>\n",
       "      <td>23400.0</td>\n",
       "    </tr>\n",
       "    <tr>\n",
       "      <th>2</th>\n",
       "      <td>clear-day</td>\n",
       "      <td>7699392</td>\n",
       "      <td>3.659057</td>\n",
       "      <td>3.481689</td>\n",
       "      <td>0.01</td>\n",
       "      <td>378.91</td>\n",
       "      <td>0.251497</td>\n",
       "      <td>0.087595</td>\n",
       "      <td>0.170003</td>\n",
       "      <td>1.250000</td>\n",
       "      <td>1.669084</td>\n",
       "      <td>28.344188</td>\n",
       "      <td>0.0</td>\n",
       "      <td>14670.0</td>\n",
       "    </tr>\n",
       "    <tr>\n",
       "      <th>3</th>\n",
       "      <td>rain</td>\n",
       "      <td>1858622</td>\n",
       "      <td>3.422077</td>\n",
       "      <td>3.251687</td>\n",
       "      <td>0.01</td>\n",
       "      <td>246.28</td>\n",
       "      <td>0.250300</td>\n",
       "      <td>0.083107</td>\n",
       "      <td>0.170004</td>\n",
       "      <td>1.248322</td>\n",
       "      <td>1.546275</td>\n",
       "      <td>24.087152</td>\n",
       "      <td>0.0</td>\n",
       "      <td>14970.0</td>\n",
       "    </tr>\n",
       "    <tr>\n",
       "      <th>4</th>\n",
       "      <td>cloudy</td>\n",
       "      <td>1606683</td>\n",
       "      <td>3.492120</td>\n",
       "      <td>3.292239</td>\n",
       "      <td>0.01</td>\n",
       "      <td>439.53</td>\n",
       "      <td>0.257702</td>\n",
       "      <td>0.090350</td>\n",
       "      <td>0.170004</td>\n",
       "      <td>1.246875</td>\n",
       "      <td>1.566665</td>\n",
       "      <td>24.059377</td>\n",
       "      <td>0.0</td>\n",
       "      <td>14850.0</td>\n",
       "    </tr>\n",
       "    <tr>\n",
       "      <th>5</th>\n",
       "      <td>clear-night</td>\n",
       "      <td>10255704</td>\n",
       "      <td>3.426026</td>\n",
       "      <td>3.141099</td>\n",
       "      <td>0.01</td>\n",
       "      <td>659.58</td>\n",
       "      <td>0.264397</td>\n",
       "      <td>0.092453</td>\n",
       "      <td>0.170004</td>\n",
       "      <td>1.248322</td>\n",
       "      <td>1.465904</td>\n",
       "      <td>21.674929</td>\n",
       "      <td>0.0</td>\n",
       "      <td>14940.0</td>\n",
       "    </tr>\n",
       "    <tr>\n",
       "      <th>6</th>\n",
       "      <td>wind</td>\n",
       "      <td>1476106</td>\n",
       "      <td>3.401497</td>\n",
       "      <td>3.228376</td>\n",
       "      <td>0.01</td>\n",
       "      <td>165.00</td>\n",
       "      <td>0.251115</td>\n",
       "      <td>0.085021</td>\n",
       "      <td>0.170004</td>\n",
       "      <td>1.247442</td>\n",
       "      <td>1.519724</td>\n",
       "      <td>20.646488</td>\n",
       "      <td>0.0</td>\n",
       "      <td>8400.0</td>\n",
       "    </tr>\n",
       "    <tr>\n",
       "      <th>7</th>\n",
       "      <td>partly-cloudy-night</td>\n",
       "      <td>2473355</td>\n",
       "      <td>3.462771</td>\n",
       "      <td>3.132064</td>\n",
       "      <td>0.01</td>\n",
       "      <td>216.40</td>\n",
       "      <td>0.264947</td>\n",
       "      <td>0.093285</td>\n",
       "      <td>0.170004</td>\n",
       "      <td>1.248000</td>\n",
       "      <td>1.477454</td>\n",
       "      <td>21.454777</td>\n",
       "      <td>0.0</td>\n",
       "      <td>12000.0</td>\n",
       "    </tr>\n",
       "    <tr>\n",
       "      <th>8</th>\n",
       "      <td>snow</td>\n",
       "      <td>185867</td>\n",
       "      <td>3.593777</td>\n",
       "      <td>3.328405</td>\n",
       "      <td>0.01</td>\n",
       "      <td>116.18</td>\n",
       "      <td>0.249177</td>\n",
       "      <td>0.084762</td>\n",
       "      <td>0.170005</td>\n",
       "      <td>1.238095</td>\n",
       "      <td>1.761855</td>\n",
       "      <td>34.882035</td>\n",
       "      <td>0.0</td>\n",
       "      <td>7470.0</td>\n",
       "    </tr>\n",
       "  </tbody>\n",
       "</table>\n",
       "</div>"
      ],
      "text/plain": [
       "                  icon  count(date)  avg(Trip_distance_abs)  \\\n",
       "0                  fog       297756                3.619020   \n",
       "1    partly-cloudy-day      3329346                3.643037   \n",
       "2            clear-day      7699392                3.659057   \n",
       "3                 rain      1858622                3.422077   \n",
       "4               cloudy      1606683                3.492120   \n",
       "5          clear-night     10255704                3.426026   \n",
       "6                 wind      1476106                3.401497   \n",
       "7  partly-cloudy-night      2473355                3.462771   \n",
       "8                 snow       185867                3.593777   \n",
       "\n",
       "   stddev_samp(Trip_distance_abs)  min(Trip_distance_abs)  \\\n",
       "0                        3.406005                    0.01   \n",
       "1                        3.474877                    0.01   \n",
       "2                        3.481689                    0.01   \n",
       "3                        3.251687                    0.01   \n",
       "4                        3.292239                    0.01   \n",
       "5                        3.141099                    0.01   \n",
       "6                        3.228376                    0.01   \n",
       "7                        3.132064                    0.01   \n",
       "8                        3.328405                    0.01   \n",
       "\n",
       "   max(Trip_distance_abs)  avg(speed)  stddev_samp(speed)  min(speed)  \\\n",
       "0                  217.31    0.260155            0.092569    0.170005   \n",
       "1                  383.64    0.248950            0.084855    0.170004   \n",
       "2                  378.91    0.251497            0.087595    0.170003   \n",
       "3                  246.28    0.250300            0.083107    0.170004   \n",
       "4                  439.53    0.257702            0.090350    0.170004   \n",
       "5                  659.58    0.264397            0.092453    0.170004   \n",
       "6                  165.00    0.251115            0.085021    0.170004   \n",
       "7                  216.40    0.264947            0.093285    0.170004   \n",
       "8                  116.18    0.249177            0.084762    0.170005   \n",
       "\n",
       "   max(speed)  avg(Efficiency)  stddev_samp(Efficiency)  min(Efficiency)  \\\n",
       "0    1.245283         1.677254                20.733542              0.0   \n",
       "1    1.246957         1.665982                33.814042              0.0   \n",
       "2    1.250000         1.669084                28.344188              0.0   \n",
       "3    1.248322         1.546275                24.087152              0.0   \n",
       "4    1.246875         1.566665                24.059377              0.0   \n",
       "5    1.248322         1.465904                21.674929              0.0   \n",
       "6    1.247442         1.519724                20.646488              0.0   \n",
       "7    1.248000         1.477454                21.454777              0.0   \n",
       "8    1.238095         1.761855                34.882035              0.0   \n",
       "\n",
       "   max(Efficiency)  \n",
       "0           3300.0  \n",
       "1          23400.0  \n",
       "2          14670.0  \n",
       "3          14970.0  \n",
       "4          14850.0  \n",
       "5          14940.0  \n",
       "6           8400.0  \n",
       "7          12000.0  \n",
       "8           7470.0  "
      ]
     },
     "execution_count": 274,
     "metadata": {},
     "output_type": "execute_result"
    }
   ],
   "source": [
    "stats_icon"
   ]
  },
  {
   "cell_type": "code",
   "execution_count": 275,
   "metadata": {
    "collapsed": false
   },
   "outputs": [
    {
     "data": {
      "text/html": [
       "<div>\n",
       "<table border=\"1\" class=\"dataframe\">\n",
       "  <thead>\n",
       "    <tr style=\"text-align: right;\">\n",
       "      <th></th>\n",
       "      <th>hour</th>\n",
       "      <th>count(date)</th>\n",
       "      <th>avg(Trip_distance_abs)</th>\n",
       "      <th>stddev_samp(Trip_distance_abs)</th>\n",
       "      <th>min(Trip_distance_abs)</th>\n",
       "      <th>max(Trip_distance_abs)</th>\n",
       "      <th>avg(speed)</th>\n",
       "      <th>stddev_samp(speed)</th>\n",
       "      <th>min(speed)</th>\n",
       "      <th>max(speed)</th>\n",
       "      <th>avg(Efficiency)</th>\n",
       "      <th>stddev_samp(Efficiency)</th>\n",
       "      <th>min(Efficiency)</th>\n",
       "      <th>max(Efficiency)</th>\n",
       "    </tr>\n",
       "  </thead>\n",
       "  <tbody>\n",
       "    <tr>\n",
       "      <th>0</th>\n",
       "      <td>7</td>\n",
       "      <td>801817</td>\n",
       "      <td>3.974920</td>\n",
       "      <td>3.669640</td>\n",
       "      <td>0.01</td>\n",
       "      <td>280.46</td>\n",
       "      <td>0.269839</td>\n",
       "      <td>0.101838</td>\n",
       "      <td>0.170005</td>\n",
       "      <td>1.248322</td>\n",
       "      <td>1.764961</td>\n",
       "      <td>21.594545</td>\n",
       "      <td>0.0</td>\n",
       "      <td>5400.0</td>\n",
       "    </tr>\n",
       "    <tr>\n",
       "      <th>1</th>\n",
       "      <td>15</td>\n",
       "      <td>1108141</td>\n",
       "      <td>3.787145</td>\n",
       "      <td>3.717672</td>\n",
       "      <td>0.01</td>\n",
       "      <td>310.99</td>\n",
       "      <td>0.240478</td>\n",
       "      <td>0.075260</td>\n",
       "      <td>0.170004</td>\n",
       "      <td>1.246957</td>\n",
       "      <td>1.692932</td>\n",
       "      <td>31.939650</td>\n",
       "      <td>0.0</td>\n",
       "      <td>14970.0</td>\n",
       "    </tr>\n",
       "    <tr>\n",
       "      <th>2</th>\n",
       "      <td>11</td>\n",
       "      <td>1014436</td>\n",
       "      <td>3.660501</td>\n",
       "      <td>3.463422</td>\n",
       "      <td>0.01</td>\n",
       "      <td>257.50</td>\n",
       "      <td>0.256683</td>\n",
       "      <td>0.093680</td>\n",
       "      <td>0.170004</td>\n",
       "      <td>1.250000</td>\n",
       "      <td>1.667468</td>\n",
       "      <td>27.400799</td>\n",
       "      <td>0.0</td>\n",
       "      <td>10800.0</td>\n",
       "    </tr>\n",
       "    <tr>\n",
       "      <th>3</th>\n",
       "      <td>3</td>\n",
       "      <td>785790</td>\n",
       "      <td>3.523302</td>\n",
       "      <td>3.268273</td>\n",
       "      <td>0.01</td>\n",
       "      <td>164.31</td>\n",
       "      <td>0.282668</td>\n",
       "      <td>0.103026</td>\n",
       "      <td>0.170007</td>\n",
       "      <td>1.241379</td>\n",
       "      <td>1.484296</td>\n",
       "      <td>19.346046</td>\n",
       "      <td>0.0</td>\n",
       "      <td>6000.0</td>\n",
       "    </tr>\n",
       "    <tr>\n",
       "      <th>4</th>\n",
       "      <td>8</td>\n",
       "      <td>1001491</td>\n",
       "      <td>3.757427</td>\n",
       "      <td>3.528349</td>\n",
       "      <td>0.01</td>\n",
       "      <td>439.53</td>\n",
       "      <td>0.256906</td>\n",
       "      <td>0.093542</td>\n",
       "      <td>0.170004</td>\n",
       "      <td>1.246154</td>\n",
       "      <td>1.774663</td>\n",
       "      <td>21.006835</td>\n",
       "      <td>0.0</td>\n",
       "      <td>4200.0</td>\n",
       "    </tr>\n",
       "    <tr>\n",
       "      <th>5</th>\n",
       "      <td>22</td>\n",
       "      <td>1949244</td>\n",
       "      <td>3.364175</td>\n",
       "      <td>2.970189</td>\n",
       "      <td>0.01</td>\n",
       "      <td>217.21</td>\n",
       "      <td>0.257864</td>\n",
       "      <td>0.084829</td>\n",
       "      <td>0.170007</td>\n",
       "      <td>1.245283</td>\n",
       "      <td>1.389487</td>\n",
       "      <td>18.674061</td>\n",
       "      <td>0.0</td>\n",
       "      <td>8260.0</td>\n",
       "    </tr>\n",
       "    <tr>\n",
       "      <th>6</th>\n",
       "      <td>16</td>\n",
       "      <td>1174825</td>\n",
       "      <td>3.678553</td>\n",
       "      <td>3.613500</td>\n",
       "      <td>0.01</td>\n",
       "      <td>346.96</td>\n",
       "      <td>0.236211</td>\n",
       "      <td>0.071058</td>\n",
       "      <td>0.170004</td>\n",
       "      <td>1.246753</td>\n",
       "      <td>1.667224</td>\n",
       "      <td>29.453047</td>\n",
       "      <td>0.0</td>\n",
       "      <td>9300.0</td>\n",
       "    </tr>\n",
       "    <tr>\n",
       "      <th>7</th>\n",
       "      <td>0</td>\n",
       "      <td>1680373</td>\n",
       "      <td>3.327232</td>\n",
       "      <td>2.948597</td>\n",
       "      <td>0.01</td>\n",
       "      <td>240.39</td>\n",
       "      <td>0.265643</td>\n",
       "      <td>0.089445</td>\n",
       "      <td>0.170005</td>\n",
       "      <td>1.248000</td>\n",
       "      <td>1.426450</td>\n",
       "      <td>17.271410</td>\n",
       "      <td>0.0</td>\n",
       "      <td>7000.0</td>\n",
       "    </tr>\n",
       "    <tr>\n",
       "      <th>8</th>\n",
       "      <td>5</td>\n",
       "      <td>444179</td>\n",
       "      <td>4.507570</td>\n",
       "      <td>4.271574</td>\n",
       "      <td>0.01</td>\n",
       "      <td>267.47</td>\n",
       "      <td>0.324277</td>\n",
       "      <td>0.130090</td>\n",
       "      <td>0.170006</td>\n",
       "      <td>1.246753</td>\n",
       "      <td>1.768086</td>\n",
       "      <td>18.752871</td>\n",
       "      <td>0.0</td>\n",
       "      <td>3120.0</td>\n",
       "    </tr>\n",
       "    <tr>\n",
       "      <th>9</th>\n",
       "      <td>18</td>\n",
       "      <td>1589869</td>\n",
       "      <td>3.339194</td>\n",
       "      <td>3.146385</td>\n",
       "      <td>0.01</td>\n",
       "      <td>297.06</td>\n",
       "      <td>0.236342</td>\n",
       "      <td>0.070431</td>\n",
       "      <td>0.170004</td>\n",
       "      <td>1.247458</td>\n",
       "      <td>1.574703</td>\n",
       "      <td>30.999141</td>\n",
       "      <td>0.0</td>\n",
       "      <td>14520.0</td>\n",
       "    </tr>\n",
       "    <tr>\n",
       "      <th>10</th>\n",
       "      <td>17</td>\n",
       "      <td>1270300</td>\n",
       "      <td>3.500229</td>\n",
       "      <td>3.387908</td>\n",
       "      <td>0.01</td>\n",
       "      <td>378.91</td>\n",
       "      <td>0.233744</td>\n",
       "      <td>0.068970</td>\n",
       "      <td>0.170003</td>\n",
       "      <td>1.248000</td>\n",
       "      <td>1.666527</td>\n",
       "      <td>42.670038</td>\n",
       "      <td>0.0</td>\n",
       "      <td>23400.0</td>\n",
       "    </tr>\n",
       "    <tr>\n",
       "      <th>11</th>\n",
       "      <td>6</td>\n",
       "      <td>547364</td>\n",
       "      <td>4.478065</td>\n",
       "      <td>4.085039</td>\n",
       "      <td>0.01</td>\n",
       "      <td>235.50</td>\n",
       "      <td>0.305886</td>\n",
       "      <td>0.116833</td>\n",
       "      <td>0.170009</td>\n",
       "      <td>1.248322</td>\n",
       "      <td>1.843586</td>\n",
       "      <td>20.385660</td>\n",
       "      <td>0.0</td>\n",
       "      <td>3900.0</td>\n",
       "    </tr>\n",
       "    <tr>\n",
       "      <th>12</th>\n",
       "      <td>19</td>\n",
       "      <td>1851164</td>\n",
       "      <td>3.220199</td>\n",
       "      <td>2.943491</td>\n",
       "      <td>0.01</td>\n",
       "      <td>391.09</td>\n",
       "      <td>0.242569</td>\n",
       "      <td>0.075026</td>\n",
       "      <td>0.170004</td>\n",
       "      <td>1.247368</td>\n",
       "      <td>1.496856</td>\n",
       "      <td>28.210270</td>\n",
       "      <td>0.0</td>\n",
       "      <td>12000.0</td>\n",
       "    </tr>\n",
       "    <tr>\n",
       "      <th>13</th>\n",
       "      <td>23</td>\n",
       "      <td>1865758</td>\n",
       "      <td>3.369587</td>\n",
       "      <td>3.006561</td>\n",
       "      <td>0.01</td>\n",
       "      <td>659.58</td>\n",
       "      <td>0.261347</td>\n",
       "      <td>0.086347</td>\n",
       "      <td>0.170005</td>\n",
       "      <td>1.246875</td>\n",
       "      <td>1.436094</td>\n",
       "      <td>22.778009</td>\n",
       "      <td>0.0</td>\n",
       "      <td>10200.0</td>\n",
       "    </tr>\n",
       "    <tr>\n",
       "      <th>14</th>\n",
       "      <td>9</td>\n",
       "      <td>1100110</td>\n",
       "      <td>3.665326</td>\n",
       "      <td>3.412445</td>\n",
       "      <td>0.01</td>\n",
       "      <td>280.16</td>\n",
       "      <td>0.259428</td>\n",
       "      <td>0.094844</td>\n",
       "      <td>0.170004</td>\n",
       "      <td>1.248485</td>\n",
       "      <td>1.715265</td>\n",
       "      <td>20.129108</td>\n",
       "      <td>0.0</td>\n",
       "      <td>3120.0</td>\n",
       "    </tr>\n",
       "    <tr>\n",
       "      <th>15</th>\n",
       "      <td>1</td>\n",
       "      <td>1345708</td>\n",
       "      <td>3.299042</td>\n",
       "      <td>2.960483</td>\n",
       "      <td>0.01</td>\n",
       "      <td>385.50</td>\n",
       "      <td>0.270873</td>\n",
       "      <td>0.092493</td>\n",
       "      <td>0.170004</td>\n",
       "      <td>1.244444</td>\n",
       "      <td>1.417384</td>\n",
       "      <td>16.323207</td>\n",
       "      <td>0.0</td>\n",
       "      <td>6000.0</td>\n",
       "    </tr>\n",
       "    <tr>\n",
       "      <th>16</th>\n",
       "      <td>20</td>\n",
       "      <td>1891940</td>\n",
       "      <td>3.212402</td>\n",
       "      <td>2.885278</td>\n",
       "      <td>0.01</td>\n",
       "      <td>220.10</td>\n",
       "      <td>0.248352</td>\n",
       "      <td>0.079419</td>\n",
       "      <td>0.170005</td>\n",
       "      <td>1.248000</td>\n",
       "      <td>1.441300</td>\n",
       "      <td>22.092892</td>\n",
       "      <td>0.0</td>\n",
       "      <td>12000.0</td>\n",
       "    </tr>\n",
       "    <tr>\n",
       "      <th>17</th>\n",
       "      <td>10</td>\n",
       "      <td>1056007</td>\n",
       "      <td>3.602089</td>\n",
       "      <td>3.391421</td>\n",
       "      <td>0.01</td>\n",
       "      <td>375.64</td>\n",
       "      <td>0.258926</td>\n",
       "      <td>0.094570</td>\n",
       "      <td>0.170006</td>\n",
       "      <td>1.249180</td>\n",
       "      <td>1.665623</td>\n",
       "      <td>24.143895</td>\n",
       "      <td>0.0</td>\n",
       "      <td>7000.0</td>\n",
       "    </tr>\n",
       "    <tr>\n",
       "      <th>18</th>\n",
       "      <td>4</td>\n",
       "      <td>648095</td>\n",
       "      <td>3.885857</td>\n",
       "      <td>3.714580</td>\n",
       "      <td>0.01</td>\n",
       "      <td>360.50</td>\n",
       "      <td>0.297269</td>\n",
       "      <td>0.117541</td>\n",
       "      <td>0.170007</td>\n",
       "      <td>1.247525</td>\n",
       "      <td>1.502906</td>\n",
       "      <td>14.713030</td>\n",
       "      <td>0.0</td>\n",
       "      <td>4800.0</td>\n",
       "    </tr>\n",
       "    <tr>\n",
       "      <th>19</th>\n",
       "      <td>12</td>\n",
       "      <td>1014344</td>\n",
       "      <td>3.678666</td>\n",
       "      <td>3.480200</td>\n",
       "      <td>0.01</td>\n",
       "      <td>217.31</td>\n",
       "      <td>0.254494</td>\n",
       "      <td>0.091494</td>\n",
       "      <td>0.170004</td>\n",
       "      <td>1.248000</td>\n",
       "      <td>1.587951</td>\n",
       "      <td>22.173217</td>\n",
       "      <td>0.0</td>\n",
       "      <td>9300.0</td>\n",
       "    </tr>\n",
       "    <tr>\n",
       "      <th>20</th>\n",
       "      <td>13</td>\n",
       "      <td>1028656</td>\n",
       "      <td>3.703956</td>\n",
       "      <td>3.590421</td>\n",
       "      <td>0.01</td>\n",
       "      <td>290.93</td>\n",
       "      <td>0.252105</td>\n",
       "      <td>0.088689</td>\n",
       "      <td>0.170003</td>\n",
       "      <td>1.245283</td>\n",
       "      <td>1.730866</td>\n",
       "      <td>36.361392</td>\n",
       "      <td>0.0</td>\n",
       "      <td>10500.0</td>\n",
       "    </tr>\n",
       "    <tr>\n",
       "      <th>21</th>\n",
       "      <td>14</td>\n",
       "      <td>1070478</td>\n",
       "      <td>3.785383</td>\n",
       "      <td>3.731233</td>\n",
       "      <td>0.01</td>\n",
       "      <td>374.69</td>\n",
       "      <td>0.246570</td>\n",
       "      <td>0.082536</td>\n",
       "      <td>0.170003</td>\n",
       "      <td>1.245517</td>\n",
       "      <td>1.720419</td>\n",
       "      <td>37.875118</td>\n",
       "      <td>0.0</td>\n",
       "      <td>19800.0</td>\n",
       "    </tr>\n",
       "    <tr>\n",
       "      <th>22</th>\n",
       "      <td>21</td>\n",
       "      <td>1929574</td>\n",
       "      <td>3.274232</td>\n",
       "      <td>2.971273</td>\n",
       "      <td>0.01</td>\n",
       "      <td>631.10</td>\n",
       "      <td>0.253710</td>\n",
       "      <td>0.082842</td>\n",
       "      <td>0.170005</td>\n",
       "      <td>1.246753</td>\n",
       "      <td>1.417876</td>\n",
       "      <td>21.891974</td>\n",
       "      <td>0.0</td>\n",
       "      <td>14940.0</td>\n",
       "    </tr>\n",
       "    <tr>\n",
       "      <th>23</th>\n",
       "      <td>2</td>\n",
       "      <td>1013168</td>\n",
       "      <td>3.357010</td>\n",
       "      <td>3.031976</td>\n",
       "      <td>0.01</td>\n",
       "      <td>187.46</td>\n",
       "      <td>0.275379</td>\n",
       "      <td>0.095748</td>\n",
       "      <td>0.170008</td>\n",
       "      <td>1.248000</td>\n",
       "      <td>1.449107</td>\n",
       "      <td>16.325804</td>\n",
       "      <td>0.0</td>\n",
       "      <td>6000.0</td>\n",
       "    </tr>\n",
       "  </tbody>\n",
       "</table>\n",
       "</div>"
      ],
      "text/plain": [
       "   hour  count(date)  avg(Trip_distance_abs)  stddev_samp(Trip_distance_abs)  \\\n",
       "0     7       801817                3.974920                        3.669640   \n",
       "1    15      1108141                3.787145                        3.717672   \n",
       "2    11      1014436                3.660501                        3.463422   \n",
       "3     3       785790                3.523302                        3.268273   \n",
       "4     8      1001491                3.757427                        3.528349   \n",
       "5    22      1949244                3.364175                        2.970189   \n",
       "6    16      1174825                3.678553                        3.613500   \n",
       "7     0      1680373                3.327232                        2.948597   \n",
       "8     5       444179                4.507570                        4.271574   \n",
       "9    18      1589869                3.339194                        3.146385   \n",
       "10   17      1270300                3.500229                        3.387908   \n",
       "11    6       547364                4.478065                        4.085039   \n",
       "12   19      1851164                3.220199                        2.943491   \n",
       "13   23      1865758                3.369587                        3.006561   \n",
       "14    9      1100110                3.665326                        3.412445   \n",
       "15    1      1345708                3.299042                        2.960483   \n",
       "16   20      1891940                3.212402                        2.885278   \n",
       "17   10      1056007                3.602089                        3.391421   \n",
       "18    4       648095                3.885857                        3.714580   \n",
       "19   12      1014344                3.678666                        3.480200   \n",
       "20   13      1028656                3.703956                        3.590421   \n",
       "21   14      1070478                3.785383                        3.731233   \n",
       "22   21      1929574                3.274232                        2.971273   \n",
       "23    2      1013168                3.357010                        3.031976   \n",
       "\n",
       "    min(Trip_distance_abs)  max(Trip_distance_abs)  avg(speed)  \\\n",
       "0                     0.01                  280.46    0.269839   \n",
       "1                     0.01                  310.99    0.240478   \n",
       "2                     0.01                  257.50    0.256683   \n",
       "3                     0.01                  164.31    0.282668   \n",
       "4                     0.01                  439.53    0.256906   \n",
       "5                     0.01                  217.21    0.257864   \n",
       "6                     0.01                  346.96    0.236211   \n",
       "7                     0.01                  240.39    0.265643   \n",
       "8                     0.01                  267.47    0.324277   \n",
       "9                     0.01                  297.06    0.236342   \n",
       "10                    0.01                  378.91    0.233744   \n",
       "11                    0.01                  235.50    0.305886   \n",
       "12                    0.01                  391.09    0.242569   \n",
       "13                    0.01                  659.58    0.261347   \n",
       "14                    0.01                  280.16    0.259428   \n",
       "15                    0.01                  385.50    0.270873   \n",
       "16                    0.01                  220.10    0.248352   \n",
       "17                    0.01                  375.64    0.258926   \n",
       "18                    0.01                  360.50    0.297269   \n",
       "19                    0.01                  217.31    0.254494   \n",
       "20                    0.01                  290.93    0.252105   \n",
       "21                    0.01                  374.69    0.246570   \n",
       "22                    0.01                  631.10    0.253710   \n",
       "23                    0.01                  187.46    0.275379   \n",
       "\n",
       "    stddev_samp(speed)  min(speed)  max(speed)  avg(Efficiency)  \\\n",
       "0             0.101838    0.170005    1.248322         1.764961   \n",
       "1             0.075260    0.170004    1.246957         1.692932   \n",
       "2             0.093680    0.170004    1.250000         1.667468   \n",
       "3             0.103026    0.170007    1.241379         1.484296   \n",
       "4             0.093542    0.170004    1.246154         1.774663   \n",
       "5             0.084829    0.170007    1.245283         1.389487   \n",
       "6             0.071058    0.170004    1.246753         1.667224   \n",
       "7             0.089445    0.170005    1.248000         1.426450   \n",
       "8             0.130090    0.170006    1.246753         1.768086   \n",
       "9             0.070431    0.170004    1.247458         1.574703   \n",
       "10            0.068970    0.170003    1.248000         1.666527   \n",
       "11            0.116833    0.170009    1.248322         1.843586   \n",
       "12            0.075026    0.170004    1.247368         1.496856   \n",
       "13            0.086347    0.170005    1.246875         1.436094   \n",
       "14            0.094844    0.170004    1.248485         1.715265   \n",
       "15            0.092493    0.170004    1.244444         1.417384   \n",
       "16            0.079419    0.170005    1.248000         1.441300   \n",
       "17            0.094570    0.170006    1.249180         1.665623   \n",
       "18            0.117541    0.170007    1.247525         1.502906   \n",
       "19            0.091494    0.170004    1.248000         1.587951   \n",
       "20            0.088689    0.170003    1.245283         1.730866   \n",
       "21            0.082536    0.170003    1.245517         1.720419   \n",
       "22            0.082842    0.170005    1.246753         1.417876   \n",
       "23            0.095748    0.170008    1.248000         1.449107   \n",
       "\n",
       "    stddev_samp(Efficiency)  min(Efficiency)  max(Efficiency)  \n",
       "0                 21.594545              0.0           5400.0  \n",
       "1                 31.939650              0.0          14970.0  \n",
       "2                 27.400799              0.0          10800.0  \n",
       "3                 19.346046              0.0           6000.0  \n",
       "4                 21.006835              0.0           4200.0  \n",
       "5                 18.674061              0.0           8260.0  \n",
       "6                 29.453047              0.0           9300.0  \n",
       "7                 17.271410              0.0           7000.0  \n",
       "8                 18.752871              0.0           3120.0  \n",
       "9                 30.999141              0.0          14520.0  \n",
       "10                42.670038              0.0          23400.0  \n",
       "11                20.385660              0.0           3900.0  \n",
       "12                28.210270              0.0          12000.0  \n",
       "13                22.778009              0.0          10200.0  \n",
       "14                20.129108              0.0           3120.0  \n",
       "15                16.323207              0.0           6000.0  \n",
       "16                22.092892              0.0          12000.0  \n",
       "17                24.143895              0.0           7000.0  \n",
       "18                14.713030              0.0           4800.0  \n",
       "19                22.173217              0.0           9300.0  \n",
       "20                36.361392              0.0          10500.0  \n",
       "21                37.875118              0.0          19800.0  \n",
       "22                21.891974              0.0          14940.0  \n",
       "23                16.325804              0.0           6000.0  "
      ]
     },
     "execution_count": 275,
     "metadata": {},
     "output_type": "execute_result"
    }
   ],
   "source": [
    "stats_hour"
   ]
  },
  {
   "cell_type": "code",
   "execution_count": 276,
   "metadata": {
    "collapsed": true
   },
   "outputs": [],
   "source": [
    "stats_wd_pd.to_csv('stats_wd.csv')\n",
    "stats_RateCodeID.to_csv('stats_RateCodeID.csv')\n",
    "stats_icon.to_csv('stats_icon.csv')\n",
    "stats_holiday.to_csv('stats_holiday.csv')\n",
    "stats_hour.to_csv('stats_hour.csv')"
   ]
  },
  {
   "cell_type": "markdown",
   "metadata": {},
   "source": [
    "**Tip Only for Credit Card**"
   ]
  },
  {
   "cell_type": "code",
   "execution_count": 12,
   "metadata": {
    "collapsed": false
   },
   "outputs": [],
   "source": [
    "daily_paytype = merge_0.groupBy(['date','Payment_type']).count()\n",
    "daily_paytype = daily_paytype.toPandas()\n",
    "daily_paytype.to_csv('daily_paytype.csv')"
   ]
  },
  {
   "cell_type": "code",
   "execution_count": 13,
   "metadata": {
    "collapsed": false
   },
   "outputs": [
    {
     "data": {
      "text/html": [
       "<div>\n",
       "<table border=\"1\" class=\"dataframe\">\n",
       "  <thead>\n",
       "    <tr style=\"text-align: right;\">\n",
       "      <th></th>\n",
       "      <th>date</th>\n",
       "      <th>Payment_type</th>\n",
       "      <th>count</th>\n",
       "    </tr>\n",
       "  </thead>\n",
       "  <tbody>\n",
       "    <tr>\n",
       "      <th>0</th>\n",
       "      <td>2013-10-23 00:00:00</td>\n",
       "      <td>None</td>\n",
       "      <td>4564</td>\n",
       "    </tr>\n",
       "    <tr>\n",
       "      <th>1</th>\n",
       "      <td>2014-02-18 00:00:00</td>\n",
       "      <td>None</td>\n",
       "      <td>4136</td>\n",
       "    </tr>\n",
       "    <tr>\n",
       "      <th>2</th>\n",
       "      <td>2014-07-01 00:00:00</td>\n",
       "      <td>1.0</td>\n",
       "      <td>26229</td>\n",
       "    </tr>\n",
       "    <tr>\n",
       "      <th>3</th>\n",
       "      <td>2014-09-12 00:00:00</td>\n",
       "      <td>1.0</td>\n",
       "      <td>31209</td>\n",
       "    </tr>\n",
       "    <tr>\n",
       "      <th>4</th>\n",
       "      <td>2014-11-18 00:00:00</td>\n",
       "      <td>2.0</td>\n",
       "      <td>496</td>\n",
       "    </tr>\n",
       "  </tbody>\n",
       "</table>\n",
       "</div>"
      ],
      "text/plain": [
       "                  date Payment_type  count\n",
       "0  2013-10-23 00:00:00         None   4564\n",
       "1  2014-02-18 00:00:00         None   4136\n",
       "2  2014-07-01 00:00:00          1.0  26229\n",
       "3  2014-09-12 00:00:00          1.0  31209\n",
       "4  2014-11-18 00:00:00          2.0    496"
      ]
     },
     "execution_count": 13,
     "metadata": {},
     "output_type": "execute_result"
    }
   ],
   "source": [
    "daily_paytype.head()"
   ]
  },
  {
   "cell_type": "markdown",
   "metadata": {},
   "source": [
    "[TIP](https://www.bloomberg.com/news/articles/2014-07-31/heres-how-much-you-should-be-tipping-your-cab-driver)"
   ]
  },
  {
   "cell_type": "markdown",
   "metadata": {},
   "source": [
    "* For those who tip:"
   ]
  },
  {
   "cell_type": "code",
   "execution_count": 20,
   "metadata": {
    "collapsed": false
   },
   "outputs": [],
   "source": [
    "# some tip percentage go over thousands\n",
    "# only 2015 2016 because 13 14 different\n",
    "merge_tip = sqlContext.sql(\"SELECT *, Tip_amount_abs/Fare_amount_abs AS Tip_percentage \\\n",
    "from merge_0 \\\n",
    "where Payment_type='1.0'and \\\n",
    "Tip_amount_abs/Fare_amount_abs<1 and \\\n",
    "Tip_amount_abs!=0.0 and \\\n",
    "year IN {0}\".format((\"2015\", \"2016\")))"
   ]
  },
  {
   "cell_type": "code",
   "execution_count": 11,
   "metadata": {
    "collapsed": false
   },
   "outputs": [
    {
     "name": "stdout",
     "output_type": "stream",
     "text": [
      "/Users/mac/Desktop/cab/facts/about_tip\n"
     ]
    }
   ],
   "source": [
    "cd about_tip"
   ]
  },
  {
   "cell_type": "code",
   "execution_count": 21,
   "metadata": {
    "collapsed": true
   },
   "outputs": [],
   "source": [
    "tip_wd = (merge_tip\n",
    "               .groupBy('weekofday')\n",
    "               .agg(count('date'),\n",
    "                    avg('Tip_percentage'),\n",
    "                    stddev('Tip_percentage'),\n",
    "                    min('Tip_percentage'),\n",
    "                    max('Tip_percentage')))\n",
    "tip_Holiday = (merge_tip\n",
    "               .groupBy('Holiday')\n",
    "               .agg(count('date'),\n",
    "                    avg('Tip_percentage'),\n",
    "                    stddev('Tip_percentage'),\n",
    "                    min('Tip_percentage'),\n",
    "                    max('Tip_percentage')))\n",
    "tip_RateCodeID = (merge_tip\n",
    "               .groupBy('RateCodeID')\n",
    "               .agg(count('date'),\n",
    "                    avg('Tip_percentage'),\n",
    "                    stddev('Tip_percentage'),\n",
    "                    min('Tip_percentage'),\n",
    "                    max('Tip_percentage')))\n",
    "tip_icon = (merge_tip\n",
    "               .groupBy('icon')\n",
    "               .agg(count('date'),\n",
    "                    avg('Tip_percentage'),\n",
    "                    stddev('Tip_percentage'),\n",
    "                    min('Tip_percentage'),\n",
    "                    max('Tip_percentage')))\n",
    "tip_hour = (merge_tip\n",
    "               .groupBy('hour')\n",
    "               .agg(count('date'),\n",
    "                    avg('Tip_percentage'),\n",
    "                    stddev('Tip_percentage'),\n",
    "                    min('Tip_percentage'),\n",
    "                    max('Tip_percentage')))"
   ]
  },
  {
   "cell_type": "code",
   "execution_count": 22,
   "metadata": {
    "collapsed": true
   },
   "outputs": [],
   "source": [
    "tip_wd = tip_wd.toPandas()\n",
    "tip_hour = tip_hour.toPandas()\n",
    "tip_icon = tip_icon.toPandas()\n",
    "tip_RateCodeID = tip_RateCodeID.toPandas()\n",
    "tip_Holiday = tip_Holiday.toPandas()"
   ]
  },
  {
   "cell_type": "code",
   "execution_count": 23,
   "metadata": {
    "collapsed": false
   },
   "outputs": [
    {
     "data": {
      "text/html": [
       "<div>\n",
       "<table border=\"1\" class=\"dataframe\">\n",
       "  <thead>\n",
       "    <tr style=\"text-align: right;\">\n",
       "      <th></th>\n",
       "      <th>weekofday</th>\n",
       "      <th>count(date)</th>\n",
       "      <th>avg(Tip_percentage)</th>\n",
       "      <th>stddev_samp(Tip_percentage)</th>\n",
       "      <th>min(Tip_percentage)</th>\n",
       "      <th>max(Tip_percentage)</th>\n",
       "    </tr>\n",
       "  </thead>\n",
       "  <tbody>\n",
       "    <tr>\n",
       "      <th>0</th>\n",
       "      <td>3</td>\n",
       "      <td>1040264</td>\n",
       "      <td>0.224198</td>\n",
       "      <td>0.079295</td>\n",
       "      <td>0.000110</td>\n",
       "      <td>0.990099</td>\n",
       "    </tr>\n",
       "    <tr>\n",
       "      <th>1</th>\n",
       "      <td>0</td>\n",
       "      <td>882293</td>\n",
       "      <td>0.222633</td>\n",
       "      <td>0.079064</td>\n",
       "      <td>0.000081</td>\n",
       "      <td>0.998734</td>\n",
       "    </tr>\n",
       "    <tr>\n",
       "      <th>2</th>\n",
       "      <td>5</td>\n",
       "      <td>1453750</td>\n",
       "      <td>0.219217</td>\n",
       "      <td>0.074745</td>\n",
       "      <td>0.000091</td>\n",
       "      <td>0.996774</td>\n",
       "    </tr>\n",
       "    <tr>\n",
       "      <th>3</th>\n",
       "      <td>6</td>\n",
       "      <td>1338994</td>\n",
       "      <td>0.218727</td>\n",
       "      <td>0.074242</td>\n",
       "      <td>0.000060</td>\n",
       "      <td>0.997500</td>\n",
       "    </tr>\n",
       "    <tr>\n",
       "      <th>4</th>\n",
       "      <td>1</td>\n",
       "      <td>838542</td>\n",
       "      <td>0.223851</td>\n",
       "      <td>0.079621</td>\n",
       "      <td>0.000128</td>\n",
       "      <td>0.996667</td>\n",
       "    </tr>\n",
       "    <tr>\n",
       "      <th>5</th>\n",
       "      <td>4</td>\n",
       "      <td>1131123</td>\n",
       "      <td>0.223181</td>\n",
       "      <td>0.078583</td>\n",
       "      <td>0.000100</td>\n",
       "      <td>0.986667</td>\n",
       "    </tr>\n",
       "    <tr>\n",
       "      <th>6</th>\n",
       "      <td>2</td>\n",
       "      <td>868662</td>\n",
       "      <td>0.223747</td>\n",
       "      <td>0.079144</td>\n",
       "      <td>0.000051</td>\n",
       "      <td>0.992556</td>\n",
       "    </tr>\n",
       "  </tbody>\n",
       "</table>\n",
       "</div>"
      ],
      "text/plain": [
       "  weekofday  count(date)  avg(Tip_percentage)  stddev_samp(Tip_percentage)  \\\n",
       "0         3      1040264             0.224198                     0.079295   \n",
       "1         0       882293             0.222633                     0.079064   \n",
       "2         5      1453750             0.219217                     0.074745   \n",
       "3         6      1338994             0.218727                     0.074242   \n",
       "4         1       838542             0.223851                     0.079621   \n",
       "5         4      1131123             0.223181                     0.078583   \n",
       "6         2       868662             0.223747                     0.079144   \n",
       "\n",
       "   min(Tip_percentage)  max(Tip_percentage)  \n",
       "0             0.000110             0.990099  \n",
       "1             0.000081             0.998734  \n",
       "2             0.000091             0.996774  \n",
       "3             0.000060             0.997500  \n",
       "4             0.000128             0.996667  \n",
       "5             0.000100             0.986667  \n",
       "6             0.000051             0.992556  "
      ]
     },
     "execution_count": 23,
     "metadata": {},
     "output_type": "execute_result"
    }
   ],
   "source": [
    "tip_wd"
   ]
  },
  {
   "cell_type": "code",
   "execution_count": 24,
   "metadata": {
    "collapsed": false
   },
   "outputs": [
    {
     "data": {
      "text/html": [
       "<div>\n",
       "<table border=\"1\" class=\"dataframe\">\n",
       "  <thead>\n",
       "    <tr style=\"text-align: right;\">\n",
       "      <th></th>\n",
       "      <th>hour</th>\n",
       "      <th>count(date)</th>\n",
       "      <th>avg(Tip_percentage)</th>\n",
       "      <th>stddev_samp(Tip_percentage)</th>\n",
       "      <th>min(Tip_percentage)</th>\n",
       "      <th>max(Tip_percentage)</th>\n",
       "    </tr>\n",
       "  </thead>\n",
       "  <tbody>\n",
       "    <tr>\n",
       "      <th>0</th>\n",
       "      <td>7</td>\n",
       "      <td>240823</td>\n",
       "      <td>0.208652</td>\n",
       "      <td>0.076118</td>\n",
       "      <td>0.000103</td>\n",
       "      <td>0.983607</td>\n",
       "    </tr>\n",
       "    <tr>\n",
       "      <th>1</th>\n",
       "      <td>15</td>\n",
       "      <td>248698</td>\n",
       "      <td>0.214410</td>\n",
       "      <td>0.075974</td>\n",
       "      <td>0.000105</td>\n",
       "      <td>0.996516</td>\n",
       "    </tr>\n",
       "    <tr>\n",
       "      <th>2</th>\n",
       "      <td>11</td>\n",
       "      <td>251417</td>\n",
       "      <td>0.213315</td>\n",
       "      <td>0.075858</td>\n",
       "      <td>0.000110</td>\n",
       "      <td>0.997500</td>\n",
       "    </tr>\n",
       "    <tr>\n",
       "      <th>3</th>\n",
       "      <td>3</td>\n",
       "      <td>188274</td>\n",
       "      <td>0.226501</td>\n",
       "      <td>0.080062</td>\n",
       "      <td>0.000051</td>\n",
       "      <td>0.977778</td>\n",
       "    </tr>\n",
       "    <tr>\n",
       "      <th>4</th>\n",
       "      <td>8</td>\n",
       "      <td>299935</td>\n",
       "      <td>0.210614</td>\n",
       "      <td>0.075687</td>\n",
       "      <td>0.000154</td>\n",
       "      <td>0.975610</td>\n",
       "    </tr>\n",
       "    <tr>\n",
       "      <th>5</th>\n",
       "      <td>22</td>\n",
       "      <td>533893</td>\n",
       "      <td>0.227044</td>\n",
       "      <td>0.075888</td>\n",
       "      <td>0.000098</td>\n",
       "      <td>0.983607</td>\n",
       "    </tr>\n",
       "    <tr>\n",
       "      <th>6</th>\n",
       "      <td>16</td>\n",
       "      <td>272654</td>\n",
       "      <td>0.222739</td>\n",
       "      <td>0.079289</td>\n",
       "      <td>0.000109</td>\n",
       "      <td>0.978947</td>\n",
       "    </tr>\n",
       "    <tr>\n",
       "      <th>7</th>\n",
       "      <td>0</td>\n",
       "      <td>448311</td>\n",
       "      <td>0.227837</td>\n",
       "      <td>0.076726</td>\n",
       "      <td>0.000112</td>\n",
       "      <td>0.996667</td>\n",
       "    </tr>\n",
       "    <tr>\n",
       "      <th>8</th>\n",
       "      <td>5</td>\n",
       "      <td>106569</td>\n",
       "      <td>0.214735</td>\n",
       "      <td>0.081145</td>\n",
       "      <td>0.000083</td>\n",
       "      <td>0.998734</td>\n",
       "    </tr>\n",
       "    <tr>\n",
       "      <th>9</th>\n",
       "      <td>18</td>\n",
       "      <td>413374</td>\n",
       "      <td>0.227543</td>\n",
       "      <td>0.078498</td>\n",
       "      <td>0.000145</td>\n",
       "      <td>0.983333</td>\n",
       "    </tr>\n",
       "    <tr>\n",
       "      <th>10</th>\n",
       "      <td>17</td>\n",
       "      <td>309726</td>\n",
       "      <td>0.225213</td>\n",
       "      <td>0.079291</td>\n",
       "      <td>0.000060</td>\n",
       "      <td>0.983607</td>\n",
       "    </tr>\n",
       "    <tr>\n",
       "      <th>11</th>\n",
       "      <td>6</td>\n",
       "      <td>160869</td>\n",
       "      <td>0.207001</td>\n",
       "      <td>0.077329</td>\n",
       "      <td>0.000190</td>\n",
       "      <td>0.978947</td>\n",
       "    </tr>\n",
       "    <tr>\n",
       "      <th>12</th>\n",
       "      <td>19</td>\n",
       "      <td>496013</td>\n",
       "      <td>0.228775</td>\n",
       "      <td>0.079018</td>\n",
       "      <td>0.000068</td>\n",
       "      <td>0.983607</td>\n",
       "    </tr>\n",
       "    <tr>\n",
       "      <th>13</th>\n",
       "      <td>23</td>\n",
       "      <td>507069</td>\n",
       "      <td>0.226893</td>\n",
       "      <td>0.076086</td>\n",
       "      <td>0.000143</td>\n",
       "      <td>0.980870</td>\n",
       "    </tr>\n",
       "    <tr>\n",
       "      <th>14</th>\n",
       "      <td>9</td>\n",
       "      <td>320389</td>\n",
       "      <td>0.212112</td>\n",
       "      <td>0.075012</td>\n",
       "      <td>0.000145</td>\n",
       "      <td>0.990099</td>\n",
       "    </tr>\n",
       "    <tr>\n",
       "      <th>15</th>\n",
       "      <td>1</td>\n",
       "      <td>347310</td>\n",
       "      <td>0.228726</td>\n",
       "      <td>0.077479</td>\n",
       "      <td>0.000194</td>\n",
       "      <td>0.996774</td>\n",
       "    </tr>\n",
       "    <tr>\n",
       "      <th>16</th>\n",
       "      <td>20</td>\n",
       "      <td>501137</td>\n",
       "      <td>0.226565</td>\n",
       "      <td>0.076948</td>\n",
       "      <td>0.000189</td>\n",
       "      <td>0.989899</td>\n",
       "    </tr>\n",
       "    <tr>\n",
       "      <th>17</th>\n",
       "      <td>10</td>\n",
       "      <td>276551</td>\n",
       "      <td>0.213369</td>\n",
       "      <td>0.075566</td>\n",
       "      <td>0.000083</td>\n",
       "      <td>0.980000</td>\n",
       "    </tr>\n",
       "    <tr>\n",
       "      <th>18</th>\n",
       "      <td>4</td>\n",
       "      <td>134098</td>\n",
       "      <td>0.223562</td>\n",
       "      <td>0.084121</td>\n",
       "      <td>0.000176</td>\n",
       "      <td>0.993500</td>\n",
       "    </tr>\n",
       "    <tr>\n",
       "      <th>19</th>\n",
       "      <td>12</td>\n",
       "      <td>245511</td>\n",
       "      <td>0.213187</td>\n",
       "      <td>0.075230</td>\n",
       "      <td>0.000057</td>\n",
       "      <td>0.990099</td>\n",
       "    </tr>\n",
       "    <tr>\n",
       "      <th>20</th>\n",
       "      <td>13</td>\n",
       "      <td>239181</td>\n",
       "      <td>0.213300</td>\n",
       "      <td>0.075797</td>\n",
       "      <td>0.000081</td>\n",
       "      <td>0.982609</td>\n",
       "    </tr>\n",
       "    <tr>\n",
       "      <th>21</th>\n",
       "      <td>14</td>\n",
       "      <td>240314</td>\n",
       "      <td>0.213397</td>\n",
       "      <td>0.075818</td>\n",
       "      <td>0.000091</td>\n",
       "      <td>0.980000</td>\n",
       "    </tr>\n",
       "    <tr>\n",
       "      <th>22</th>\n",
       "      <td>21</td>\n",
       "      <td>515187</td>\n",
       "      <td>0.227092</td>\n",
       "      <td>0.076441</td>\n",
       "      <td>0.000100</td>\n",
       "      <td>0.994318</td>\n",
       "    </tr>\n",
       "    <tr>\n",
       "      <th>23</th>\n",
       "      <td>2</td>\n",
       "      <td>256325</td>\n",
       "      <td>0.228373</td>\n",
       "      <td>0.078546</td>\n",
       "      <td>0.000169</td>\n",
       "      <td>0.995556</td>\n",
       "    </tr>\n",
       "  </tbody>\n",
       "</table>\n",
       "</div>"
      ],
      "text/plain": [
       "   hour  count(date)  avg(Tip_percentage)  stddev_samp(Tip_percentage)  \\\n",
       "0     7       240823             0.208652                     0.076118   \n",
       "1    15       248698             0.214410                     0.075974   \n",
       "2    11       251417             0.213315                     0.075858   \n",
       "3     3       188274             0.226501                     0.080062   \n",
       "4     8       299935             0.210614                     0.075687   \n",
       "5    22       533893             0.227044                     0.075888   \n",
       "6    16       272654             0.222739                     0.079289   \n",
       "7     0       448311             0.227837                     0.076726   \n",
       "8     5       106569             0.214735                     0.081145   \n",
       "9    18       413374             0.227543                     0.078498   \n",
       "10   17       309726             0.225213                     0.079291   \n",
       "11    6       160869             0.207001                     0.077329   \n",
       "12   19       496013             0.228775                     0.079018   \n",
       "13   23       507069             0.226893                     0.076086   \n",
       "14    9       320389             0.212112                     0.075012   \n",
       "15    1       347310             0.228726                     0.077479   \n",
       "16   20       501137             0.226565                     0.076948   \n",
       "17   10       276551             0.213369                     0.075566   \n",
       "18    4       134098             0.223562                     0.084121   \n",
       "19   12       245511             0.213187                     0.075230   \n",
       "20   13       239181             0.213300                     0.075797   \n",
       "21   14       240314             0.213397                     0.075818   \n",
       "22   21       515187             0.227092                     0.076441   \n",
       "23    2       256325             0.228373                     0.078546   \n",
       "\n",
       "    min(Tip_percentage)  max(Tip_percentage)  \n",
       "0              0.000103             0.983607  \n",
       "1              0.000105             0.996516  \n",
       "2              0.000110             0.997500  \n",
       "3              0.000051             0.977778  \n",
       "4              0.000154             0.975610  \n",
       "5              0.000098             0.983607  \n",
       "6              0.000109             0.978947  \n",
       "7              0.000112             0.996667  \n",
       "8              0.000083             0.998734  \n",
       "9              0.000145             0.983333  \n",
       "10             0.000060             0.983607  \n",
       "11             0.000190             0.978947  \n",
       "12             0.000068             0.983607  \n",
       "13             0.000143             0.980870  \n",
       "14             0.000145             0.990099  \n",
       "15             0.000194             0.996774  \n",
       "16             0.000189             0.989899  \n",
       "17             0.000083             0.980000  \n",
       "18             0.000176             0.993500  \n",
       "19             0.000057             0.990099  \n",
       "20             0.000081             0.982609  \n",
       "21             0.000091             0.980000  \n",
       "22             0.000100             0.994318  \n",
       "23             0.000169             0.995556  "
      ]
     },
     "execution_count": 24,
     "metadata": {},
     "output_type": "execute_result"
    }
   ],
   "source": [
    "tip_hour"
   ]
  },
  {
   "cell_type": "code",
   "execution_count": 25,
   "metadata": {
    "collapsed": false
   },
   "outputs": [
    {
     "data": {
      "text/html": [
       "<div>\n",
       "<table border=\"1\" class=\"dataframe\">\n",
       "  <thead>\n",
       "    <tr style=\"text-align: right;\">\n",
       "      <th></th>\n",
       "      <th>icon</th>\n",
       "      <th>count(date)</th>\n",
       "      <th>avg(Tip_percentage)</th>\n",
       "      <th>stddev_samp(Tip_percentage)</th>\n",
       "      <th>min(Tip_percentage)</th>\n",
       "      <th>max(Tip_percentage)</th>\n",
       "    </tr>\n",
       "  </thead>\n",
       "  <tbody>\n",
       "    <tr>\n",
       "      <th>0</th>\n",
       "      <td>fog</td>\n",
       "      <td>69502</td>\n",
       "      <td>0.219446</td>\n",
       "      <td>0.076953</td>\n",
       "      <td>0.000192</td>\n",
       "      <td>0.960000</td>\n",
       "    </tr>\n",
       "    <tr>\n",
       "      <th>1</th>\n",
       "      <td>partly-cloudy-day</td>\n",
       "      <td>848199</td>\n",
       "      <td>0.217386</td>\n",
       "      <td>0.077308</td>\n",
       "      <td>0.000057</td>\n",
       "      <td>0.990099</td>\n",
       "    </tr>\n",
       "    <tr>\n",
       "      <th>2</th>\n",
       "      <td>clear-day</td>\n",
       "      <td>1994001</td>\n",
       "      <td>0.216310</td>\n",
       "      <td>0.076793</td>\n",
       "      <td>0.000103</td>\n",
       "      <td>0.997500</td>\n",
       "    </tr>\n",
       "    <tr>\n",
       "      <th>3</th>\n",
       "      <td>rain</td>\n",
       "      <td>439377</td>\n",
       "      <td>0.223784</td>\n",
       "      <td>0.078647</td>\n",
       "      <td>0.000083</td>\n",
       "      <td>0.989899</td>\n",
       "    </tr>\n",
       "    <tr>\n",
       "      <th>4</th>\n",
       "      <td>cloudy</td>\n",
       "      <td>404299</td>\n",
       "      <td>0.222816</td>\n",
       "      <td>0.077900</td>\n",
       "      <td>0.000096</td>\n",
       "      <td>0.998734</td>\n",
       "    </tr>\n",
       "    <tr>\n",
       "      <th>5</th>\n",
       "      <td>clear-night</td>\n",
       "      <td>2686210</td>\n",
       "      <td>0.225782</td>\n",
       "      <td>0.077365</td>\n",
       "      <td>0.000051</td>\n",
       "      <td>0.996889</td>\n",
       "    </tr>\n",
       "    <tr>\n",
       "      <th>6</th>\n",
       "      <td>wind</td>\n",
       "      <td>400817</td>\n",
       "      <td>0.223830</td>\n",
       "      <td>0.078092</td>\n",
       "      <td>0.000068</td>\n",
       "      <td>0.987654</td>\n",
       "    </tr>\n",
       "    <tr>\n",
       "      <th>7</th>\n",
       "      <td>partly-cloudy-night</td>\n",
       "      <td>648903</td>\n",
       "      <td>0.225337</td>\n",
       "      <td>0.077387</td>\n",
       "      <td>0.000060</td>\n",
       "      <td>0.994318</td>\n",
       "    </tr>\n",
       "    <tr>\n",
       "      <th>8</th>\n",
       "      <td>snow</td>\n",
       "      <td>62320</td>\n",
       "      <td>0.223347</td>\n",
       "      <td>0.078850</td>\n",
       "      <td>0.000192</td>\n",
       "      <td>0.983607</td>\n",
       "    </tr>\n",
       "  </tbody>\n",
       "</table>\n",
       "</div>"
      ],
      "text/plain": [
       "                  icon  count(date)  avg(Tip_percentage)  \\\n",
       "0                  fog        69502             0.219446   \n",
       "1    partly-cloudy-day       848199             0.217386   \n",
       "2            clear-day      1994001             0.216310   \n",
       "3                 rain       439377             0.223784   \n",
       "4               cloudy       404299             0.222816   \n",
       "5          clear-night      2686210             0.225782   \n",
       "6                 wind       400817             0.223830   \n",
       "7  partly-cloudy-night       648903             0.225337   \n",
       "8                 snow        62320             0.223347   \n",
       "\n",
       "   stddev_samp(Tip_percentage)  min(Tip_percentage)  max(Tip_percentage)  \n",
       "0                     0.076953             0.000192             0.960000  \n",
       "1                     0.077308             0.000057             0.990099  \n",
       "2                     0.076793             0.000103             0.997500  \n",
       "3                     0.078647             0.000083             0.989899  \n",
       "4                     0.077900             0.000096             0.998734  \n",
       "5                     0.077365             0.000051             0.996889  \n",
       "6                     0.078092             0.000068             0.987654  \n",
       "7                     0.077387             0.000060             0.994318  \n",
       "8                     0.078850             0.000192             0.983607  "
      ]
     },
     "execution_count": 25,
     "metadata": {},
     "output_type": "execute_result"
    }
   ],
   "source": [
    "tip_icon"
   ]
  },
  {
   "cell_type": "code",
   "execution_count": 26,
   "metadata": {
    "collapsed": false
   },
   "outputs": [
    {
     "data": {
      "text/html": [
       "<div>\n",
       "<table border=\"1\" class=\"dataframe\">\n",
       "  <thead>\n",
       "    <tr style=\"text-align: right;\">\n",
       "      <th></th>\n",
       "      <th>RateCodeID</th>\n",
       "      <th>count(date)</th>\n",
       "      <th>avg(Tip_percentage)</th>\n",
       "      <th>stddev_samp(Tip_percentage)</th>\n",
       "      <th>min(Tip_percentage)</th>\n",
       "      <th>max(Tip_percentage)</th>\n",
       "    </tr>\n",
       "  </thead>\n",
       "  <tbody>\n",
       "    <tr>\n",
       "      <th>0</th>\n",
       "      <td>3</td>\n",
       "      <td>7215</td>\n",
       "      <td>0.211205</td>\n",
       "      <td>0.083557</td>\n",
       "      <td>0.000060</td>\n",
       "      <td>0.979570</td>\n",
       "    </tr>\n",
       "    <tr>\n",
       "      <th>1</th>\n",
       "      <td>5</td>\n",
       "      <td>32653</td>\n",
       "      <td>0.189116</td>\n",
       "      <td>0.090107</td>\n",
       "      <td>0.000051</td>\n",
       "      <td>0.993500</td>\n",
       "    </tr>\n",
       "    <tr>\n",
       "      <th>2</th>\n",
       "      <td>6</td>\n",
       "      <td>3</td>\n",
       "      <td>0.272364</td>\n",
       "      <td>0.050600</td>\n",
       "      <td>0.229091</td>\n",
       "      <td>0.328000</td>\n",
       "    </tr>\n",
       "    <tr>\n",
       "      <th>3</th>\n",
       "      <td>1</td>\n",
       "      <td>7480697</td>\n",
       "      <td>0.222069</td>\n",
       "      <td>0.077375</td>\n",
       "      <td>0.000057</td>\n",
       "      <td>0.998734</td>\n",
       "    </tr>\n",
       "    <tr>\n",
       "      <th>4</th>\n",
       "      <td>4</td>\n",
       "      <td>5359</td>\n",
       "      <td>0.197036</td>\n",
       "      <td>0.094844</td>\n",
       "      <td>0.000083</td>\n",
       "      <td>0.913242</td>\n",
       "    </tr>\n",
       "    <tr>\n",
       "      <th>5</th>\n",
       "      <td>2</td>\n",
       "      <td>27701</td>\n",
       "      <td>0.207116</td>\n",
       "      <td>0.071923</td>\n",
       "      <td>0.000192</td>\n",
       "      <td>0.976923</td>\n",
       "    </tr>\n",
       "  </tbody>\n",
       "</table>\n",
       "</div>"
      ],
      "text/plain": [
       "  RateCodeID  count(date)  avg(Tip_percentage)  stddev_samp(Tip_percentage)  \\\n",
       "0          3         7215             0.211205                     0.083557   \n",
       "1          5        32653             0.189116                     0.090107   \n",
       "2          6            3             0.272364                     0.050600   \n",
       "3          1      7480697             0.222069                     0.077375   \n",
       "4          4         5359             0.197036                     0.094844   \n",
       "5          2        27701             0.207116                     0.071923   \n",
       "\n",
       "   min(Tip_percentage)  max(Tip_percentage)  \n",
       "0             0.000060             0.979570  \n",
       "1             0.000051             0.993500  \n",
       "2             0.229091             0.328000  \n",
       "3             0.000057             0.998734  \n",
       "4             0.000083             0.913242  \n",
       "5             0.000192             0.976923  "
      ]
     },
     "execution_count": 26,
     "metadata": {},
     "output_type": "execute_result"
    }
   ],
   "source": [
    "tip_RateCodeID"
   ]
  },
  {
   "cell_type": "code",
   "execution_count": 27,
   "metadata": {
    "collapsed": false
   },
   "outputs": [
    {
     "data": {
      "text/html": [
       "<div>\n",
       "<table border=\"1\" class=\"dataframe\">\n",
       "  <thead>\n",
       "    <tr style=\"text-align: right;\">\n",
       "      <th></th>\n",
       "      <th>Holiday</th>\n",
       "      <th>count(date)</th>\n",
       "      <th>avg(Tip_percentage)</th>\n",
       "      <th>stddev_samp(Tip_percentage)</th>\n",
       "      <th>min(Tip_percentage)</th>\n",
       "      <th>max(Tip_percentage)</th>\n",
       "    </tr>\n",
       "  </thead>\n",
       "  <tbody>\n",
       "    <tr>\n",
       "      <th>0</th>\n",
       "      <td>0</td>\n",
       "      <td>7355194</td>\n",
       "      <td>0.221865</td>\n",
       "      <td>0.077453</td>\n",
       "      <td>0.000051</td>\n",
       "      <td>0.998734</td>\n",
       "    </tr>\n",
       "    <tr>\n",
       "      <th>1</th>\n",
       "      <td>1</td>\n",
       "      <td>198434</td>\n",
       "      <td>0.221077</td>\n",
       "      <td>0.078238</td>\n",
       "      <td>0.000083</td>\n",
       "      <td>0.986667</td>\n",
       "    </tr>\n",
       "  </tbody>\n",
       "</table>\n",
       "</div>"
      ],
      "text/plain": [
       "  Holiday  count(date)  avg(Tip_percentage)  stddev_samp(Tip_percentage)  \\\n",
       "0       0      7355194             0.221865                     0.077453   \n",
       "1       1       198434             0.221077                     0.078238   \n",
       "\n",
       "   min(Tip_percentage)  max(Tip_percentage)  \n",
       "0             0.000051             0.998734  \n",
       "1             0.000083             0.986667  "
      ]
     },
     "execution_count": 27,
     "metadata": {},
     "output_type": "execute_result"
    }
   ],
   "source": [
    "tip_Holiday"
   ]
  },
  {
   "cell_type": "code",
   "execution_count": 28,
   "metadata": {
    "collapsed": true
   },
   "outputs": [],
   "source": [
    "tip_wd.to_csv('tip_wd.csv')\n",
    "tip_hour.to_csv('tip_hour.csv')\n",
    "tip_icon.to_csv('tip_icon.csv')\n",
    "tip_RateCodeID.to_csv('tip_RateCodeID.csv')\n",
    "tip_Holiday.to_csv('tip_Holiday.csv')"
   ]
  },
  {
   "cell_type": "markdown",
   "metadata": {},
   "source": [
    "* For those don't tip"
   ]
  },
  {
   "cell_type": "code",
   "execution_count": 16,
   "metadata": {
    "collapsed": false
   },
   "outputs": [],
   "source": [
    "merge_not_tip = sqlContext.sql(\"SELECT *, Tip_amount_abs!=0 as not_tip \\\n",
    "from merge_0 where Payment_type='1.0'and \\\n",
    "year IN {0}\".format((\"2015\", \"2016\"))) \n",
    "merge_not_tip.registerTempTable('merge_not_tip')"
   ]
  },
  {
   "cell_type": "code",
   "execution_count": 17,
   "metadata": {
    "collapsed": false
   },
   "outputs": [
    {
     "data": {
      "text/plain": [
       "[Row(_c0='57023', index='49400', Extra=0.0, Fare_amount=16.0, Holiday='0', MTA_tax=0.0, Passenger_count=1.0, Payment_type='1.0', RateCodeID='5', Store_and_fwd_flag='N', Tip_amount=0.0, Tolls_amount=0.0, Total_amount=2.0, Trip_distance=7.56, Trip_type=None, date='2013-09-30 00:00:00', day='30', hour='21', improvement_surcharge=16.0, interval_min=16.01666666666667, month='9', weekofday='0', year='2013', Extra_abs=0.0, Fare_amount_abs=16.0, MTA_tax_abs=0.0, Tip_amount_abs=0.0, Tolls_amount_abs=0.0, Total_amount_abs=2.0, Trip_distance_abs=7.56, speed=0.47200832466181053, Efficiency=0.9989594172736731, _c0='6504', temp=64.69, icon='clear-night', windBearing=193.0, windSpeed=7.04, visibility=10.0, hour_w='21', date_w='2013-09-30 00:00:00', not_tip=False)]"
      ]
     },
     "execution_count": 17,
     "metadata": {},
     "output_type": "execute_result"
    }
   ],
   "source": [
    "merge_not_tip.take(1)"
   ]
  },
  {
   "cell_type": "code",
   "execution_count": null,
   "metadata": {
    "collapsed": true
   },
   "outputs": [],
   "source": []
  },
  {
   "cell_type": "code",
   "execution_count": 20,
   "metadata": {
    "collapsed": false
   },
   "outputs": [],
   "source": [
    "not_tip_date = merge_not_tip.groupby(*['date','not_tip']).agg(*[count(col('date'))]).toPandas()\n",
    "not_tip_wd = merge_not_tip.groupby(*['weekofday','not_tip']).agg(*[count(col('date'))]).toPandas()\n",
    "not_tip_Holiday = merge_not_tip.groupby(*['Holiday','not_tip']).agg(*[count(col('date'))]).toPandas()\n",
    "not_tip_RateCodeID = merge_not_tip.groupby(*['RateCodeID','not_tip']).agg(*[count(col('date'))]).toPandas()\n",
    "not_tip_icon = merge_not_tip.groupby(*['icon','not_tip']).agg(*[count(col('date'))]).toPandas()\n",
    "not_tip_hour = merge_not_tip.groupby(*['hour','not_tip']).agg(*[count(col('date'))]).toPandas()"
   ]
  },
  {
   "cell_type": "code",
   "execution_count": 25,
   "metadata": {
    "collapsed": false
   },
   "outputs": [
    {
     "data": {
      "text/html": [
       "<div>\n",
       "<table border=\"1\" class=\"dataframe\">\n",
       "  <thead>\n",
       "    <tr style=\"text-align: right;\">\n",
       "      <th></th>\n",
       "      <th>date</th>\n",
       "      <th>not_tip</th>\n",
       "      <th>count(date)</th>\n",
       "    </tr>\n",
       "  </thead>\n",
       "  <tbody>\n",
       "    <tr>\n",
       "      <th>0</th>\n",
       "      <td>2014-01-23 00:00:00</td>\n",
       "      <td>False</td>\n",
       "      <td>4</td>\n",
       "    </tr>\n",
       "    <tr>\n",
       "      <th>1</th>\n",
       "      <td>2014-03-12 00:00:00</td>\n",
       "      <td>False</td>\n",
       "      <td>12882</td>\n",
       "    </tr>\n",
       "    <tr>\n",
       "      <th>2</th>\n",
       "      <td>2014-04-07 00:00:00</td>\n",
       "      <td>False</td>\n",
       "      <td>13093</td>\n",
       "    </tr>\n",
       "    <tr>\n",
       "      <th>3</th>\n",
       "      <td>2014-06-03 00:00:00</td>\n",
       "      <td>False</td>\n",
       "      <td>15654</td>\n",
       "    </tr>\n",
       "    <tr>\n",
       "      <th>4</th>\n",
       "      <td>2014-12-12 00:00:00</td>\n",
       "      <td>False</td>\n",
       "      <td>21172</td>\n",
       "    </tr>\n",
       "  </tbody>\n",
       "</table>\n",
       "</div>"
      ],
      "text/plain": [
       "                  date not_tip  count(date)\n",
       "0  2014-01-23 00:00:00   False            4\n",
       "1  2014-03-12 00:00:00   False        12882\n",
       "2  2014-04-07 00:00:00   False        13093\n",
       "3  2014-06-03 00:00:00   False        15654\n",
       "4  2014-12-12 00:00:00   False        21172"
      ]
     },
     "execution_count": 25,
     "metadata": {},
     "output_type": "execute_result"
    }
   ],
   "source": [
    "not_tip_date.head()"
   ]
  },
  {
   "cell_type": "code",
   "execution_count": 340,
   "metadata": {
    "collapsed": false
   },
   "outputs": [
    {
     "data": {
      "text/html": [
       "<div>\n",
       "<table border=\"1\" class=\"dataframe\">\n",
       "  <thead>\n",
       "    <tr style=\"text-align: right;\">\n",
       "      <th></th>\n",
       "      <th>weekofday</th>\n",
       "      <th>not_tip</th>\n",
       "      <th>count(date)</th>\n",
       "    </tr>\n",
       "  </thead>\n",
       "  <tbody>\n",
       "    <tr>\n",
       "      <th>0</th>\n",
       "      <td>4</td>\n",
       "      <td>True</td>\n",
       "      <td>1693054</td>\n",
       "    </tr>\n",
       "    <tr>\n",
       "      <th>1</th>\n",
       "      <td>4</td>\n",
       "      <td>False</td>\n",
       "      <td>1049247</td>\n",
       "    </tr>\n",
       "    <tr>\n",
       "      <th>2</th>\n",
       "      <td>3</td>\n",
       "      <td>True</td>\n",
       "      <td>1539069</td>\n",
       "    </tr>\n",
       "    <tr>\n",
       "      <th>3</th>\n",
       "      <td>6</td>\n",
       "      <td>False</td>\n",
       "      <td>1195445</td>\n",
       "    </tr>\n",
       "    <tr>\n",
       "      <th>4</th>\n",
       "      <td>3</td>\n",
       "      <td>False</td>\n",
       "      <td>928959</td>\n",
       "    </tr>\n",
       "    <tr>\n",
       "      <th>5</th>\n",
       "      <td>5</td>\n",
       "      <td>True</td>\n",
       "      <td>2189949</td>\n",
       "    </tr>\n",
       "    <tr>\n",
       "      <th>6</th>\n",
       "      <td>6</td>\n",
       "      <td>True</td>\n",
       "      <td>1996196</td>\n",
       "    </tr>\n",
       "    <tr>\n",
       "      <th>7</th>\n",
       "      <td>1</td>\n",
       "      <td>False</td>\n",
       "      <td>812620</td>\n",
       "    </tr>\n",
       "    <tr>\n",
       "      <th>8</th>\n",
       "      <td>0</td>\n",
       "      <td>False</td>\n",
       "      <td>820810</td>\n",
       "    </tr>\n",
       "    <tr>\n",
       "      <th>9</th>\n",
       "      <td>5</td>\n",
       "      <td>False</td>\n",
       "      <td>1312399</td>\n",
       "    </tr>\n",
       "    <tr>\n",
       "      <th>10</th>\n",
       "      <td>1</td>\n",
       "      <td>True</td>\n",
       "      <td>1268025</td>\n",
       "    </tr>\n",
       "    <tr>\n",
       "      <th>11</th>\n",
       "      <td>0</td>\n",
       "      <td>True</td>\n",
       "      <td>1285824</td>\n",
       "    </tr>\n",
       "    <tr>\n",
       "      <th>12</th>\n",
       "      <td>2</td>\n",
       "      <td>False</td>\n",
       "      <td>863324</td>\n",
       "    </tr>\n",
       "    <tr>\n",
       "      <th>13</th>\n",
       "      <td>2</td>\n",
       "      <td>True</td>\n",
       "      <td>1336239</td>\n",
       "    </tr>\n",
       "  </tbody>\n",
       "</table>\n",
       "</div>"
      ],
      "text/plain": [
       "   weekofday not_tip  count(date)\n",
       "0          4    True      1693054\n",
       "1          4   False      1049247\n",
       "2          3    True      1539069\n",
       "3          6   False      1195445\n",
       "4          3   False       928959\n",
       "5          5    True      2189949\n",
       "6          6    True      1996196\n",
       "7          1   False       812620\n",
       "8          0   False       820810\n",
       "9          5   False      1312399\n",
       "10         1    True      1268025\n",
       "11         0    True      1285824\n",
       "12         2   False       863324\n",
       "13         2    True      1336239"
      ]
     },
     "execution_count": 340,
     "metadata": {},
     "output_type": "execute_result"
    }
   ],
   "source": [
    "not_tip_wd"
   ]
  },
  {
   "cell_type": "code",
   "execution_count": 341,
   "metadata": {
    "collapsed": false
   },
   "outputs": [
    {
     "data": {
      "text/html": [
       "<div>\n",
       "<table border=\"1\" class=\"dataframe\">\n",
       "  <thead>\n",
       "    <tr style=\"text-align: right;\">\n",
       "      <th></th>\n",
       "      <th>Holiday</th>\n",
       "      <th>not_tip</th>\n",
       "      <th>count(date)</th>\n",
       "    </tr>\n",
       "  </thead>\n",
       "  <tbody>\n",
       "    <tr>\n",
       "      <th>0</th>\n",
       "      <td>1</td>\n",
       "      <td>False</td>\n",
       "      <td>175327</td>\n",
       "    </tr>\n",
       "    <tr>\n",
       "      <th>1</th>\n",
       "      <td>0</td>\n",
       "      <td>False</td>\n",
       "      <td>6807477</td>\n",
       "    </tr>\n",
       "    <tr>\n",
       "      <th>2</th>\n",
       "      <td>1</td>\n",
       "      <td>True</td>\n",
       "      <td>285089</td>\n",
       "    </tr>\n",
       "    <tr>\n",
       "      <th>3</th>\n",
       "      <td>0</td>\n",
       "      <td>True</td>\n",
       "      <td>11023267</td>\n",
       "    </tr>\n",
       "  </tbody>\n",
       "</table>\n",
       "</div>"
      ],
      "text/plain": [
       "  Holiday not_tip  count(date)\n",
       "0       1   False       175327\n",
       "1       0   False      6807477\n",
       "2       1    True       285089\n",
       "3       0    True     11023267"
      ]
     },
     "execution_count": 341,
     "metadata": {},
     "output_type": "execute_result"
    }
   ],
   "source": [
    "not_tip_Holiday"
   ]
  },
  {
   "cell_type": "code",
   "execution_count": 342,
   "metadata": {
    "collapsed": false
   },
   "outputs": [
    {
     "data": {
      "text/html": [
       "<div>\n",
       "<table border=\"1\" class=\"dataframe\">\n",
       "  <thead>\n",
       "    <tr style=\"text-align: right;\">\n",
       "      <th></th>\n",
       "      <th>RateCodeID</th>\n",
       "      <th>not_tip</th>\n",
       "      <th>count(date)</th>\n",
       "    </tr>\n",
       "  </thead>\n",
       "  <tbody>\n",
       "    <tr>\n",
       "      <th>0</th>\n",
       "      <td>4</td>\n",
       "      <td>True</td>\n",
       "      <td>7120</td>\n",
       "    </tr>\n",
       "    <tr>\n",
       "      <th>1</th>\n",
       "      <td>4</td>\n",
       "      <td>False</td>\n",
       "      <td>4841</td>\n",
       "    </tr>\n",
       "    <tr>\n",
       "      <th>2</th>\n",
       "      <td>3</td>\n",
       "      <td>True</td>\n",
       "      <td>10784</td>\n",
       "    </tr>\n",
       "    <tr>\n",
       "      <th>3</th>\n",
       "      <td>6</td>\n",
       "      <td>False</td>\n",
       "      <td>112</td>\n",
       "    </tr>\n",
       "    <tr>\n",
       "      <th>4</th>\n",
       "      <td>3</td>\n",
       "      <td>False</td>\n",
       "      <td>3464</td>\n",
       "    </tr>\n",
       "    <tr>\n",
       "      <th>5</th>\n",
       "      <td>5</td>\n",
       "      <td>True</td>\n",
       "      <td>35944</td>\n",
       "    </tr>\n",
       "    <tr>\n",
       "      <th>6</th>\n",
       "      <td>6</td>\n",
       "      <td>True</td>\n",
       "      <td>8</td>\n",
       "    </tr>\n",
       "    <tr>\n",
       "      <th>7</th>\n",
       "      <td>1</td>\n",
       "      <td>False</td>\n",
       "      <td>6902393</td>\n",
       "    </tr>\n",
       "    <tr>\n",
       "      <th>8</th>\n",
       "      <td>5</td>\n",
       "      <td>False</td>\n",
       "      <td>55137</td>\n",
       "    </tr>\n",
       "    <tr>\n",
       "      <th>9</th>\n",
       "      <td>1</td>\n",
       "      <td>True</td>\n",
       "      <td>11209959</td>\n",
       "    </tr>\n",
       "    <tr>\n",
       "      <th>10</th>\n",
       "      <td>2</td>\n",
       "      <td>False</td>\n",
       "      <td>16857</td>\n",
       "    </tr>\n",
       "    <tr>\n",
       "      <th>11</th>\n",
       "      <td>2</td>\n",
       "      <td>True</td>\n",
       "      <td>44541</td>\n",
       "    </tr>\n",
       "  </tbody>\n",
       "</table>\n",
       "</div>"
      ],
      "text/plain": [
       "   RateCodeID not_tip  count(date)\n",
       "0           4    True         7120\n",
       "1           4   False         4841\n",
       "2           3    True        10784\n",
       "3           6   False          112\n",
       "4           3   False         3464\n",
       "5           5    True        35944\n",
       "6           6    True            8\n",
       "7           1   False      6902393\n",
       "8           5   False        55137\n",
       "9           1    True     11209959\n",
       "10          2   False        16857\n",
       "11          2    True        44541"
      ]
     },
     "execution_count": 342,
     "metadata": {},
     "output_type": "execute_result"
    }
   ],
   "source": [
    "not_tip_RateCodeID"
   ]
  },
  {
   "cell_type": "code",
   "execution_count": 343,
   "metadata": {
    "collapsed": false
   },
   "outputs": [
    {
     "data": {
      "text/html": [
       "<div>\n",
       "<table border=\"1\" class=\"dataframe\">\n",
       "  <thead>\n",
       "    <tr style=\"text-align: right;\">\n",
       "      <th></th>\n",
       "      <th>icon</th>\n",
       "      <th>not_tip</th>\n",
       "      <th>count(date)</th>\n",
       "    </tr>\n",
       "  </thead>\n",
       "  <tbody>\n",
       "    <tr>\n",
       "      <th>0</th>\n",
       "      <td>partly-cloudy-day</td>\n",
       "      <td>True</td>\n",
       "      <td>1296389</td>\n",
       "    </tr>\n",
       "    <tr>\n",
       "      <th>1</th>\n",
       "      <td>snow</td>\n",
       "      <td>False</td>\n",
       "      <td>15539</td>\n",
       "    </tr>\n",
       "    <tr>\n",
       "      <th>2</th>\n",
       "      <td>clear-day</td>\n",
       "      <td>False</td>\n",
       "      <td>1881234</td>\n",
       "    </tr>\n",
       "    <tr>\n",
       "      <th>3</th>\n",
       "      <td>partly-cloudy-night</td>\n",
       "      <td>False</td>\n",
       "      <td>586607</td>\n",
       "    </tr>\n",
       "    <tr>\n",
       "      <th>4</th>\n",
       "      <td>fog</td>\n",
       "      <td>True</td>\n",
       "      <td>101580</td>\n",
       "    </tr>\n",
       "    <tr>\n",
       "      <th>5</th>\n",
       "      <td>partly-cloudy-night</td>\n",
       "      <td>True</td>\n",
       "      <td>982569</td>\n",
       "    </tr>\n",
       "    <tr>\n",
       "      <th>6</th>\n",
       "      <td>cloudy</td>\n",
       "      <td>False</td>\n",
       "      <td>381377</td>\n",
       "    </tr>\n",
       "    <tr>\n",
       "      <th>7</th>\n",
       "      <td>fog</td>\n",
       "      <td>False</td>\n",
       "      <td>70642</td>\n",
       "    </tr>\n",
       "    <tr>\n",
       "      <th>8</th>\n",
       "      <td>wind</td>\n",
       "      <td>True</td>\n",
       "      <td>567393</td>\n",
       "    </tr>\n",
       "    <tr>\n",
       "      <th>9</th>\n",
       "      <td>snow</td>\n",
       "      <td>True</td>\n",
       "      <td>65207</td>\n",
       "    </tr>\n",
       "    <tr>\n",
       "      <th>10</th>\n",
       "      <td>clear-day</td>\n",
       "      <td>True</td>\n",
       "      <td>2983890</td>\n",
       "    </tr>\n",
       "    <tr>\n",
       "      <th>11</th>\n",
       "      <td>cloudy</td>\n",
       "      <td>True</td>\n",
       "      <td>610752</td>\n",
       "    </tr>\n",
       "    <tr>\n",
       "      <th>12</th>\n",
       "      <td>rain</td>\n",
       "      <td>False</td>\n",
       "      <td>497605</td>\n",
       "    </tr>\n",
       "    <tr>\n",
       "      <th>13</th>\n",
       "      <td>wind</td>\n",
       "      <td>False</td>\n",
       "      <td>324920</td>\n",
       "    </tr>\n",
       "    <tr>\n",
       "      <th>14</th>\n",
       "      <td>clear-night</td>\n",
       "      <td>True</td>\n",
       "      <td>3968727</td>\n",
       "    </tr>\n",
       "    <tr>\n",
       "      <th>15</th>\n",
       "      <td>rain</td>\n",
       "      <td>True</td>\n",
       "      <td>731849</td>\n",
       "    </tr>\n",
       "    <tr>\n",
       "      <th>16</th>\n",
       "      <td>clear-night</td>\n",
       "      <td>False</td>\n",
       "      <td>2371973</td>\n",
       "    </tr>\n",
       "    <tr>\n",
       "      <th>17</th>\n",
       "      <td>partly-cloudy-day</td>\n",
       "      <td>False</td>\n",
       "      <td>852907</td>\n",
       "    </tr>\n",
       "  </tbody>\n",
       "</table>\n",
       "</div>"
      ],
      "text/plain": [
       "                   icon not_tip  count(date)\n",
       "0     partly-cloudy-day    True      1296389\n",
       "1                  snow   False        15539\n",
       "2             clear-day   False      1881234\n",
       "3   partly-cloudy-night   False       586607\n",
       "4                   fog    True       101580\n",
       "5   partly-cloudy-night    True       982569\n",
       "6                cloudy   False       381377\n",
       "7                   fog   False        70642\n",
       "8                  wind    True       567393\n",
       "9                  snow    True        65207\n",
       "10            clear-day    True      2983890\n",
       "11               cloudy    True       610752\n",
       "12                 rain   False       497605\n",
       "13                 wind   False       324920\n",
       "14          clear-night    True      3968727\n",
       "15                 rain    True       731849\n",
       "16          clear-night   False      2371973\n",
       "17    partly-cloudy-day   False       852907"
      ]
     },
     "execution_count": 343,
     "metadata": {},
     "output_type": "execute_result"
    }
   ],
   "source": [
    "not_tip_icon"
   ]
  },
  {
   "cell_type": "code",
   "execution_count": 344,
   "metadata": {
    "collapsed": false
   },
   "outputs": [
    {
     "data": {
      "text/html": [
       "<div>\n",
       "<table border=\"1\" class=\"dataframe\">\n",
       "  <thead>\n",
       "    <tr style=\"text-align: right;\">\n",
       "      <th></th>\n",
       "      <th>hour</th>\n",
       "      <th>not_tip</th>\n",
       "      <th>count(date)</th>\n",
       "    </tr>\n",
       "  </thead>\n",
       "  <tbody>\n",
       "    <tr>\n",
       "      <th>0</th>\n",
       "      <td>19</td>\n",
       "      <td>False</td>\n",
       "      <td>431040</td>\n",
       "    </tr>\n",
       "    <tr>\n",
       "      <th>1</th>\n",
       "      <td>4</td>\n",
       "      <td>True</td>\n",
       "      <td>197307</td>\n",
       "    </tr>\n",
       "    <tr>\n",
       "      <th>2</th>\n",
       "      <td>8</td>\n",
       "      <td>False</td>\n",
       "      <td>226223</td>\n",
       "    </tr>\n",
       "    <tr>\n",
       "      <th>3</th>\n",
       "      <td>4</td>\n",
       "      <td>False</td>\n",
       "      <td>174256</td>\n",
       "    </tr>\n",
       "    <tr>\n",
       "      <th>4</th>\n",
       "      <td>8</td>\n",
       "      <td>True</td>\n",
       "      <td>432429</td>\n",
       "    </tr>\n",
       "    <tr>\n",
       "      <th>5</th>\n",
       "      <td>13</td>\n",
       "      <td>False</td>\n",
       "      <td>256472</td>\n",
       "    </tr>\n",
       "    <tr>\n",
       "      <th>6</th>\n",
       "      <td>21</td>\n",
       "      <td>True</td>\n",
       "      <td>779887</td>\n",
       "    </tr>\n",
       "    <tr>\n",
       "      <th>7</th>\n",
       "      <td>3</td>\n",
       "      <td>True</td>\n",
       "      <td>279524</td>\n",
       "    </tr>\n",
       "    <tr>\n",
       "      <th>8</th>\n",
       "      <td>7</td>\n",
       "      <td>False</td>\n",
       "      <td>178321</td>\n",
       "    </tr>\n",
       "    <tr>\n",
       "      <th>9</th>\n",
       "      <td>10</td>\n",
       "      <td>False</td>\n",
       "      <td>242844</td>\n",
       "    </tr>\n",
       "    <tr>\n",
       "      <th>10</th>\n",
       "      <td>13</td>\n",
       "      <td>True</td>\n",
       "      <td>359764</td>\n",
       "    </tr>\n",
       "    <tr>\n",
       "      <th>11</th>\n",
       "      <td>18</td>\n",
       "      <td>True</td>\n",
       "      <td>624132</td>\n",
       "    </tr>\n",
       "    <tr>\n",
       "      <th>12</th>\n",
       "      <td>12</td>\n",
       "      <td>False</td>\n",
       "      <td>246013</td>\n",
       "    </tr>\n",
       "    <tr>\n",
       "      <th>13</th>\n",
       "      <td>6</td>\n",
       "      <td>False</td>\n",
       "      <td>119930</td>\n",
       "    </tr>\n",
       "    <tr>\n",
       "      <th>14</th>\n",
       "      <td>3</td>\n",
       "      <td>False</td>\n",
       "      <td>202061</td>\n",
       "    </tr>\n",
       "    <tr>\n",
       "      <th>15</th>\n",
       "      <td>14</td>\n",
       "      <td>False</td>\n",
       "      <td>274044</td>\n",
       "    </tr>\n",
       "    <tr>\n",
       "      <th>16</th>\n",
       "      <td>17</td>\n",
       "      <td>True</td>\n",
       "      <td>472164</td>\n",
       "    </tr>\n",
       "    <tr>\n",
       "      <th>17</th>\n",
       "      <td>5</td>\n",
       "      <td>True</td>\n",
       "      <td>156660</td>\n",
       "    </tr>\n",
       "    <tr>\n",
       "      <th>18</th>\n",
       "      <td>18</td>\n",
       "      <td>False</td>\n",
       "      <td>382708</td>\n",
       "    </tr>\n",
       "    <tr>\n",
       "      <th>19</th>\n",
       "      <td>20</td>\n",
       "      <td>False</td>\n",
       "      <td>441064</td>\n",
       "    </tr>\n",
       "    <tr>\n",
       "      <th>20</th>\n",
       "      <td>7</td>\n",
       "      <td>True</td>\n",
       "      <td>343070</td>\n",
       "    </tr>\n",
       "    <tr>\n",
       "      <th>21</th>\n",
       "      <td>6</td>\n",
       "      <td>True</td>\n",
       "      <td>229958</td>\n",
       "    </tr>\n",
       "    <tr>\n",
       "      <th>22</th>\n",
       "      <td>9</td>\n",
       "      <td>False</td>\n",
       "      <td>241922</td>\n",
       "    </tr>\n",
       "    <tr>\n",
       "      <th>23</th>\n",
       "      <td>21</td>\n",
       "      <td>False</td>\n",
       "      <td>448710</td>\n",
       "    </tr>\n",
       "    <tr>\n",
       "      <th>24</th>\n",
       "      <td>11</td>\n",
       "      <td>False</td>\n",
       "      <td>241269</td>\n",
       "    </tr>\n",
       "    <tr>\n",
       "      <th>25</th>\n",
       "      <td>15</td>\n",
       "      <td>False</td>\n",
       "      <td>284400</td>\n",
       "    </tr>\n",
       "    <tr>\n",
       "      <th>26</th>\n",
       "      <td>1</td>\n",
       "      <td>False</td>\n",
       "      <td>329245</td>\n",
       "    </tr>\n",
       "    <tr>\n",
       "      <th>27</th>\n",
       "      <td>15</td>\n",
       "      <td>True</td>\n",
       "      <td>380900</td>\n",
       "    </tr>\n",
       "    <tr>\n",
       "      <th>28</th>\n",
       "      <td>11</td>\n",
       "      <td>True</td>\n",
       "      <td>373711</td>\n",
       "    </tr>\n",
       "    <tr>\n",
       "      <th>29</th>\n",
       "      <td>22</td>\n",
       "      <td>True</td>\n",
       "      <td>806912</td>\n",
       "    </tr>\n",
       "    <tr>\n",
       "      <th>30</th>\n",
       "      <td>0</td>\n",
       "      <td>False</td>\n",
       "      <td>398049</td>\n",
       "    </tr>\n",
       "    <tr>\n",
       "      <th>31</th>\n",
       "      <td>16</td>\n",
       "      <td>False</td>\n",
       "      <td>299550</td>\n",
       "    </tr>\n",
       "    <tr>\n",
       "      <th>32</th>\n",
       "      <td>5</td>\n",
       "      <td>False</td>\n",
       "      <td>108602</td>\n",
       "    </tr>\n",
       "    <tr>\n",
       "      <th>33</th>\n",
       "      <td>1</td>\n",
       "      <td>True</td>\n",
       "      <td>518310</td>\n",
       "    </tr>\n",
       "    <tr>\n",
       "      <th>34</th>\n",
       "      <td>22</td>\n",
       "      <td>False</td>\n",
       "      <td>450010</td>\n",
       "    </tr>\n",
       "    <tr>\n",
       "      <th>35</th>\n",
       "      <td>0</td>\n",
       "      <td>True</td>\n",
       "      <td>662840</td>\n",
       "    </tr>\n",
       "    <tr>\n",
       "      <th>36</th>\n",
       "      <td>23</td>\n",
       "      <td>False</td>\n",
       "      <td>436258</td>\n",
       "    </tr>\n",
       "    <tr>\n",
       "      <th>37</th>\n",
       "      <td>17</td>\n",
       "      <td>False</td>\n",
       "      <td>318067</td>\n",
       "    </tr>\n",
       "    <tr>\n",
       "      <th>38</th>\n",
       "      <td>9</td>\n",
       "      <td>True</td>\n",
       "      <td>471084</td>\n",
       "    </tr>\n",
       "    <tr>\n",
       "      <th>39</th>\n",
       "      <td>12</td>\n",
       "      <td>True</td>\n",
       "      <td>367056</td>\n",
       "    </tr>\n",
       "    <tr>\n",
       "      <th>40</th>\n",
       "      <td>16</td>\n",
       "      <td>True</td>\n",
       "      <td>419476</td>\n",
       "    </tr>\n",
       "    <tr>\n",
       "      <th>41</th>\n",
       "      <td>19</td>\n",
       "      <td>True</td>\n",
       "      <td>751663</td>\n",
       "    </tr>\n",
       "    <tr>\n",
       "      <th>42</th>\n",
       "      <td>20</td>\n",
       "      <td>True</td>\n",
       "      <td>760743</td>\n",
       "    </tr>\n",
       "    <tr>\n",
       "      <th>43</th>\n",
       "      <td>2</td>\n",
       "      <td>False</td>\n",
       "      <td>251746</td>\n",
       "    </tr>\n",
       "    <tr>\n",
       "      <th>44</th>\n",
       "      <td>10</td>\n",
       "      <td>True</td>\n",
       "      <td>410319</td>\n",
       "    </tr>\n",
       "    <tr>\n",
       "      <th>45</th>\n",
       "      <td>23</td>\n",
       "      <td>True</td>\n",
       "      <td>763142</td>\n",
       "    </tr>\n",
       "    <tr>\n",
       "      <th>46</th>\n",
       "      <td>2</td>\n",
       "      <td>True</td>\n",
       "      <td>382963</td>\n",
       "    </tr>\n",
       "    <tr>\n",
       "      <th>47</th>\n",
       "      <td>14</td>\n",
       "      <td>True</td>\n",
       "      <td>364342</td>\n",
       "    </tr>\n",
       "  </tbody>\n",
       "</table>\n",
       "</div>"
      ],
      "text/plain": [
       "   hour not_tip  count(date)\n",
       "0    19   False       431040\n",
       "1     4    True       197307\n",
       "2     8   False       226223\n",
       "3     4   False       174256\n",
       "4     8    True       432429\n",
       "5    13   False       256472\n",
       "6    21    True       779887\n",
       "7     3    True       279524\n",
       "8     7   False       178321\n",
       "9    10   False       242844\n",
       "10   13    True       359764\n",
       "11   18    True       624132\n",
       "12   12   False       246013\n",
       "13    6   False       119930\n",
       "14    3   False       202061\n",
       "15   14   False       274044\n",
       "16   17    True       472164\n",
       "17    5    True       156660\n",
       "18   18   False       382708\n",
       "19   20   False       441064\n",
       "20    7    True       343070\n",
       "21    6    True       229958\n",
       "22    9   False       241922\n",
       "23   21   False       448710\n",
       "24   11   False       241269\n",
       "25   15   False       284400\n",
       "26    1   False       329245\n",
       "27   15    True       380900\n",
       "28   11    True       373711\n",
       "29   22    True       806912\n",
       "30    0   False       398049\n",
       "31   16   False       299550\n",
       "32    5   False       108602\n",
       "33    1    True       518310\n",
       "34   22   False       450010\n",
       "35    0    True       662840\n",
       "36   23   False       436258\n",
       "37   17   False       318067\n",
       "38    9    True       471084\n",
       "39   12    True       367056\n",
       "40   16    True       419476\n",
       "41   19    True       751663\n",
       "42   20    True       760743\n",
       "43    2   False       251746\n",
       "44   10    True       410319\n",
       "45   23    True       763142\n",
       "46    2    True       382963\n",
       "47   14    True       364342"
      ]
     },
     "execution_count": 344,
     "metadata": {},
     "output_type": "execute_result"
    }
   ],
   "source": [
    "not_tip_hour"
   ]
  },
  {
   "cell_type": "code",
   "execution_count": 23,
   "metadata": {
    "collapsed": true
   },
   "outputs": [],
   "source": [
    "not_tip_date.to_csv('not_tip_date.csv')\n",
    "not_tip_wd.to_csv('not_tip_wd.csv')\n",
    "not_tip_Holiday.to_csv('not_tip_Holiday.csv')\n",
    "not_tip_RateCodeID.to_csv('not_tip_RateCodeID.csv')\n",
    "not_tip_icon.to_csv('not_tip_icon.csv')\n",
    "not_tip_hour.to_csv('not_tip_hour.csv')"
   ]
  },
  {
   "cell_type": "code",
   "execution_count": null,
   "metadata": {
    "collapsed": true
   },
   "outputs": [],
   "source": []
  },
  {
   "cell_type": "code",
   "execution_count": null,
   "metadata": {
    "collapsed": true
   },
   "outputs": [],
   "source": []
  },
  {
   "cell_type": "markdown",
   "metadata": {},
   "source": [
    "# Machine Learning Data Prep"
   ]
  },
  {
   "cell_type": "code",
   "execution_count": 59,
   "metadata": {
    "collapsed": false
   },
   "outputs": [
    {
     "name": "stdout",
     "output_type": "stream",
     "text": [
      "+----------+\n",
      "|RateCodeID|\n",
      "+----------+\n",
      "|         3|\n",
      "|         5|\n",
      "|         6|\n",
      "|         1|\n",
      "|         4|\n",
      "|         2|\n",
      "+----------+\n",
      "\n"
     ]
    }
   ],
   "source": [
    "sqlContext.sql(\"\"\"SELECT DISTINCT RateCodeID from merge_0\"\"\").show()"
   ]
  },
  {
   "cell_type": "code",
   "execution_count": 60,
   "metadata": {
    "collapsed": false
   },
   "outputs": [
    {
     "name": "stdout",
     "output_type": "stream",
     "text": [
      "+------------+\n",
      "|Payment_type|\n",
      "+------------+\n",
      "|         1.0|\n",
      "|        null|\n",
      "|         5.0|\n",
      "|         4.0|\n",
      "|         2.0|\n",
      "|         3.0|\n",
      "+------------+\n",
      "\n"
     ]
    }
   ],
   "source": [
    "sqlContext.sql(\"\"\"SELECT DISTINCT Payment_type from merge_0\"\"\").show()"
   ]
  },
  {
   "cell_type": "code",
   "execution_count": 61,
   "metadata": {
    "collapsed": false
   },
   "outputs": [
    {
     "name": "stdout",
     "output_type": "stream",
     "text": [
      "+---------+\n",
      "|Trip_type|\n",
      "+---------+\n",
      "|      1.0|\n",
      "|     null|\n",
      "|      2.0|\n",
      "+---------+\n",
      "\n"
     ]
    }
   ],
   "source": [
    "sqlContext.sql(\"\"\"SELECT DISTINCT Trip_type from merge_0\"\"\").show()"
   ]
  },
  {
   "cell_type": "code",
   "execution_count": 5,
   "metadata": {
    "collapsed": false
   },
   "outputs": [
    {
     "name": "stdout",
     "output_type": "stream",
     "text": [
      "root\n",
      " |-- _c0: string (nullable = true)\n",
      " |-- index: string (nullable = true)\n",
      " |-- Extra: double (nullable = true)\n",
      " |-- Fare_amount: double (nullable = true)\n",
      " |-- Holiday: string (nullable = true)\n",
      " |-- MTA_tax: double (nullable = true)\n",
      " |-- Passenger_count: double (nullable = true)\n",
      " |-- Payment_type: string (nullable = true)\n",
      " |-- RateCodeID: string (nullable = true)\n",
      " |-- Store_and_fwd_flag: string (nullable = true)\n",
      " |-- Tip_amount: double (nullable = true)\n",
      " |-- Tolls_amount: double (nullable = true)\n",
      " |-- Total_amount: double (nullable = true)\n",
      " |-- Trip_distance: double (nullable = true)\n",
      " |-- Trip_type: string (nullable = true)\n",
      " |-- date: string (nullable = true)\n",
      " |-- day: string (nullable = true)\n",
      " |-- hour: string (nullable = true)\n",
      " |-- improvement_surcharge: double (nullable = true)\n",
      " |-- interval_min: double (nullable = true)\n",
      " |-- month: string (nullable = true)\n",
      " |-- weekofday: string (nullable = true)\n",
      " |-- year: string (nullable = true)\n",
      " |-- _c0: string (nullable = true)\n",
      " |-- temp: double (nullable = true)\n",
      " |-- icon: string (nullable = true)\n",
      " |-- windBearing: double (nullable = true)\n",
      " |-- windSpeed: double (nullable = true)\n",
      " |-- visibility: double (nullable = true)\n",
      " |-- hour_w: string (nullable = true)\n",
      " |-- date_w: string (nullable = true)\n",
      "\n"
     ]
    }
   ],
   "source": [
    "merge.printSchema()"
   ]
  },
  {
   "cell_type": "code",
   "execution_count": 5,
   "metadata": {
    "collapsed": false
   },
   "outputs": [],
   "source": [
    "query_ml = (\"\"\"SELECT index, year, Holiday, Passenger_count, RateCodeID, \\\n",
    "Store_and_fwd_flag, Trip_distance, \\\n",
    "Trip_type, hour AS Pick_up_hour, month, weekofday, interval_min, Fare_amount,Trip_distance, \\\n",
    "temp, icon, windBearing, windSpeed, visibility, \\\n",
    "Fare_amount/interval_min AS Efficiency\n",
    "from merge \\\n",
    "where Store_and_fwd_flag != 'null'AND \\\n",
    "Trip_distance > 0 AND \\\n",
    "Fare_amount > 0.0 AND \\\n",
    "interval_min > 0.0 AND \\\n",
    "Fare_amount/interval_min > 0.0 AND \\\n",
    "Passenger_count <= 5 AND \\\n",
    "Trip_distance/interval_min < 0.417 AND \\\n",
    "Trip_distance/interval_min>0.17 AND \\\n",
    "Trip_type != 'null' AND Fare_amount/interval_min < 30 AND \\\n",
    "Fare_amount/interval_min > 1\"\"\")\n",
    "ml = sqlContext.sql(query_ml)\n",
    "ml.registerTempTable('ml')"
   ]
  },
  {
   "cell_type": "code",
   "execution_count": 42,
   "metadata": {
    "collapsed": false
   },
   "outputs": [
    {
     "data": {
      "text/plain": [
       "8314112"
      ]
     },
     "execution_count": 42,
     "metadata": {},
     "output_type": "execute_result"
    }
   ],
   "source": [
    "ml.count()"
   ]
  },
  {
   "cell_type": "code",
   "execution_count": 43,
   "metadata": {
    "collapsed": false
   },
   "outputs": [],
   "source": [
    "trip_eff_wd = ml.groupBy(*['weekofday']).agg(*[avg(col('Efficiency')),min(col('Efficiency')),max(col('Efficiency'))]).toPandas()\n",
    "trip_eff_wd.to_csv('trip_eff_wd.csv')"
   ]
  },
  {
   "cell_type": "code",
   "execution_count": 53,
   "metadata": {
    "collapsed": false
   },
   "outputs": [
    {
     "data": {
      "text/html": [
       "<div>\n",
       "<table border=\"1\" class=\"dataframe\">\n",
       "  <thead>\n",
       "    <tr style=\"text-align: right;\">\n",
       "      <th></th>\n",
       "      <th>weekofday</th>\n",
       "      <th>avg(Efficiency)</th>\n",
       "      <th>min(Efficiency)</th>\n",
       "      <th>max(Efficiency)</th>\n",
       "    </tr>\n",
       "  </thead>\n",
       "  <tbody>\n",
       "    <tr>\n",
       "      <th>0</th>\n",
       "      <td>3</td>\n",
       "      <td>1.278524</td>\n",
       "      <td>1.000283</td>\n",
       "      <td>30.0</td>\n",
       "    </tr>\n",
       "    <tr>\n",
       "      <th>1</th>\n",
       "      <td>0</td>\n",
       "      <td>1.274768</td>\n",
       "      <td>1.000321</td>\n",
       "      <td>30.0</td>\n",
       "    </tr>\n",
       "    <tr>\n",
       "      <th>2</th>\n",
       "      <td>5</td>\n",
       "      <td>1.250749</td>\n",
       "      <td>1.000208</td>\n",
       "      <td>30.0</td>\n",
       "    </tr>\n",
       "    <tr>\n",
       "      <th>3</th>\n",
       "      <td>6</td>\n",
       "      <td>1.248587</td>\n",
       "      <td>1.000200</td>\n",
       "      <td>30.0</td>\n",
       "    </tr>\n",
       "    <tr>\n",
       "      <th>4</th>\n",
       "      <td>1</td>\n",
       "      <td>1.279175</td>\n",
       "      <td>1.000290</td>\n",
       "      <td>30.0</td>\n",
       "    </tr>\n",
       "  </tbody>\n",
       "</table>\n",
       "</div>"
      ],
      "text/plain": [
       "  weekofday  avg(Efficiency)  min(Efficiency)  max(Efficiency)\n",
       "0         3         1.278524         1.000283             30.0\n",
       "1         0         1.274768         1.000321             30.0\n",
       "2         5         1.250749         1.000208             30.0\n",
       "3         6         1.248587         1.000200             30.0\n",
       "4         1         1.279175         1.000290             30.0"
      ]
     },
     "execution_count": 53,
     "metadata": {},
     "output_type": "execute_result"
    }
   ],
   "source": [
    "trip_eff_wd.head()"
   ]
  },
  {
   "cell_type": "code",
   "execution_count": 46,
   "metadata": {
    "collapsed": true
   },
   "outputs": [],
   "source": [
    "trip_eff_hour = ml.groupBy(*['Pick_up_hour']).agg(*[avg(col('Efficiency')),min(col('Efficiency')),max(col('Efficiency'))]).toPandas()\n",
    "trip_eff_hour.to_csv('trip_eff_hour.csv')"
   ]
  },
  {
   "cell_type": "code",
   "execution_count": 47,
   "metadata": {
    "collapsed": false
   },
   "outputs": [
    {
     "data": {
      "text/html": [
       "<div>\n",
       "<table border=\"1\" class=\"dataframe\">\n",
       "  <thead>\n",
       "    <tr style=\"text-align: right;\">\n",
       "      <th></th>\n",
       "      <th>Pick_up_hour</th>\n",
       "      <th>avg(Efficiency)</th>\n",
       "      <th>min(Efficiency)</th>\n",
       "      <th>max(Efficiency)</th>\n",
       "    </tr>\n",
       "  </thead>\n",
       "  <tbody>\n",
       "    <tr>\n",
       "      <th>0</th>\n",
       "      <td>7</td>\n",
       "      <td>1.291018</td>\n",
       "      <td>1.000285</td>\n",
       "      <td>30.000000</td>\n",
       "    </tr>\n",
       "    <tr>\n",
       "      <th>1</th>\n",
       "      <td>15</td>\n",
       "      <td>1.282896</td>\n",
       "      <td>1.000285</td>\n",
       "      <td>30.000000</td>\n",
       "    </tr>\n",
       "    <tr>\n",
       "      <th>2</th>\n",
       "      <td>11</td>\n",
       "      <td>1.279264</td>\n",
       "      <td>1.000255</td>\n",
       "      <td>30.000000</td>\n",
       "    </tr>\n",
       "    <tr>\n",
       "      <th>3</th>\n",
       "      <td>3</td>\n",
       "      <td>1.263659</td>\n",
       "      <td>1.000337</td>\n",
       "      <td>30.000000</td>\n",
       "    </tr>\n",
       "    <tr>\n",
       "      <th>4</th>\n",
       "      <td>8</td>\n",
       "      <td>1.308240</td>\n",
       "      <td>1.000287</td>\n",
       "      <td>29.268293</td>\n",
       "    </tr>\n",
       "  </tbody>\n",
       "</table>\n",
       "</div>"
      ],
      "text/plain": [
       "  Pick_up_hour  avg(Efficiency)  min(Efficiency)  max(Efficiency)\n",
       "0            7         1.291018         1.000285        30.000000\n",
       "1           15         1.282896         1.000285        30.000000\n",
       "2           11         1.279264         1.000255        30.000000\n",
       "3            3         1.263659         1.000337        30.000000\n",
       "4            8         1.308240         1.000287        29.268293"
      ]
     },
     "execution_count": 47,
     "metadata": {},
     "output_type": "execute_result"
    }
   ],
   "source": [
    "trip_eff_hour.head()"
   ]
  },
  {
   "cell_type": "code",
   "execution_count": 48,
   "metadata": {
    "collapsed": true
   },
   "outputs": [],
   "source": [
    "trip_eff_holiday = ml.groupBy(*['Holiday']).agg(*[avg(col('Efficiency')),min(col('Efficiency')),max(col('Efficiency'))]).toPandas()\n",
    "trip_eff_holiday.to_csv('trip_eff_holiday.csv')"
   ]
  },
  {
   "cell_type": "code",
   "execution_count": 52,
   "metadata": {
    "collapsed": false
   },
   "outputs": [
    {
     "data": {
      "text/html": [
       "<div>\n",
       "<table border=\"1\" class=\"dataframe\">\n",
       "  <thead>\n",
       "    <tr style=\"text-align: right;\">\n",
       "      <th></th>\n",
       "      <th>Holiday</th>\n",
       "      <th>avg(Efficiency)</th>\n",
       "      <th>min(Efficiency)</th>\n",
       "      <th>max(Efficiency)</th>\n",
       "    </tr>\n",
       "  </thead>\n",
       "  <tbody>\n",
       "    <tr>\n",
       "      <th>0</th>\n",
       "      <td>0</td>\n",
       "      <td>1.266993</td>\n",
       "      <td>1.000184</td>\n",
       "      <td>30.000000</td>\n",
       "    </tr>\n",
       "    <tr>\n",
       "      <th>1</th>\n",
       "      <td>1</td>\n",
       "      <td>1.259935</td>\n",
       "      <td>1.000366</td>\n",
       "      <td>29.268293</td>\n",
       "    </tr>\n",
       "  </tbody>\n",
       "</table>\n",
       "</div>"
      ],
      "text/plain": [
       "  Holiday  avg(Efficiency)  min(Efficiency)  max(Efficiency)\n",
       "0       0         1.266993         1.000184        30.000000\n",
       "1       1         1.259935         1.000366        29.268293"
      ]
     },
     "execution_count": 52,
     "metadata": {},
     "output_type": "execute_result"
    }
   ],
   "source": [
    "trip_eff_holiday.head()"
   ]
  },
  {
   "cell_type": "markdown",
   "metadata": {},
   "source": [
    "** Remove 'year' or NO ?** "
   ]
  },
  {
   "cell_type": "code",
   "execution_count": 50,
   "metadata": {
    "collapsed": false
   },
   "outputs": [
    {
     "name": "stdout",
     "output_type": "stream",
     "text": [
      "+----+-----------+------------------+-----------------------+------------------+------------------+\n",
      "|year|count(year)|   avg(Efficiency)|stddev_samp(Efficiency)|   min(Efficiency)|   max(Efficiency)|\n",
      "+----+-----------+------------------+-----------------------+------------------+------------------+\n",
      "|2016|    2635344|1.2711858945385583|     0.6199171662495776| 1.000228362639872|29.999999999999993|\n",
      "|2015|    5678768|1.2647388294987256|     0.6113991413019569|1.0001841959845275|29.999999999999993|\n",
      "+----+-----------+------------------+-----------------------+------------------+------------------+\n",
      "\n"
     ]
    }
   ],
   "source": [
    "(ml\n",
    " .groupBy('year')\n",
    " .agg(count('year'),\n",
    "      avg('Efficiency'),\n",
    "      stddev('Efficiency'),\n",
    "      min('Efficiency'),\n",
    "      max('Efficiency'))).show()"
   ]
  },
  {
   "cell_type": "markdown",
   "metadata": {},
   "source": [
    "**yes!**"
   ]
  },
  {
   "cell_type": "code",
   "execution_count": 54,
   "metadata": {
    "collapsed": false
   },
   "outputs": [
    {
     "data": {
      "text/plain": [
       "[Row(index='0', year='2015', Holiday='1', Passenger_count=1.0, RateCodeID='1', Store_and_fwd_flag='N', Trip_distance=0.88, Trip_type='1.0', Pick_up_hour='0', month='1', weekofday='3', interval_min=3.866666666666667, Fare_amount=5.0, Trip_distance=0.88, temp=28.16, icon='clear-night', windBearing=254.0, windSpeed=8.99, visibility=10.0, Efficiency=1.2931034482758619)]"
      ]
     },
     "execution_count": 54,
     "metadata": {},
     "output_type": "execute_result"
    }
   ],
   "source": [
    "ml.take(1)"
   ]
  },
  {
   "cell_type": "code",
   "execution_count": 8,
   "metadata": {
    "collapsed": false
   },
   "outputs": [
    {
     "data": {
      "text/plain": [
       "[Row(index='15', year='2015', Holiday='1', Passenger_count=1.0, RateCodeID='1', Store_and_fwd_flag='N', Trip_distance=0.58, Trip_type='1.0', Pick_up_hour='0', month='1', weekofday='3', interval_min=2.183333333333333, Fare_amount=4.0, Trip_distance=0.58, temp=28.16, icon='clear-night', windBearing=254.0, windSpeed=8.99, visibility=10.0, Efficiency=1.8320610687022902)]"
      ]
     },
     "execution_count": 8,
     "metadata": {},
     "output_type": "execute_result"
    }
   ],
   "source": [
    "sampled = ml.sample(False, 0.1, seed=0).limit(1000000)\n",
    "sampled.take(1)"
   ]
  },
  {
   "cell_type": "code",
   "execution_count": 9,
   "metadata": {
    "collapsed": false
   },
   "outputs": [],
   "source": [
    "sampled.toPandas().to_csv('ML_data.csv')"
   ]
  },
  {
   "cell_type": "code",
   "execution_count": 10,
   "metadata": {
    "collapsed": false
   },
   "outputs": [
    {
     "data": {
      "text/plain": [
       "'/Users/mac/Desktop/jp'"
      ]
     },
     "execution_count": 10,
     "metadata": {},
     "output_type": "execute_result"
    }
   ],
   "source": [
    "pwd"
   ]
  },
  {
   "cell_type": "markdown",
   "metadata": {},
   "source": [
    "### Make Labels"
   ]
  },
  {
   "cell_type": "code",
   "execution_count": 32,
   "metadata": {
    "collapsed": false
   },
   "outputs": [],
   "source": [
    "from pyspark.sql.functions import lit\n",
    "G_eff = (ml\n",
    "         .select('index','Efficiency')\n",
    "         .sort(col(\"Efficiency\").desc())\n",
    "         .limit(4292472)\n",
    "         .withColumn(\"label\",lit('G')))\n",
    "L_eff = (ml\n",
    "         .select('index','Efficiency')\n",
    "         .sort(col(\"Efficiency\").asc())\n",
    "         .limit(4292472)\n",
    "         .withColumn(\"label\",lit('L')))\n",
    "G_eff.registerTempTable('G_eff')\n",
    "L_eff.registerTempTable('L_eff')"
   ]
  },
  {
   "cell_type": "code",
   "execution_count": null,
   "metadata": {
    "collapsed": true
   },
   "outputs": [],
   "source": [
    "G_eff.take(1) "
   ]
  },
  {
   "cell_type": "code",
   "execution_count": null,
   "metadata": {
    "collapsed": true
   },
   "outputs": [],
   "source": [
    "index_G = G_eff.select('index').collect() "
   ]
  },
  {
   "cell_type": "code",
   "execution_count": null,
   "metadata": {
    "collapsed": true
   },
   "outputs": [],
   "source": [
    "index_G"
   ]
  },
  {
   "cell_type": "code",
   "execution_count": null,
   "metadata": {
    "collapsed": true
   },
   "outputs": [],
   "source": [
    "index_L = L_eff.select('index').collect()"
   ]
  },
  {
   "cell_type": "code",
   "execution_count": null,
   "metadata": {
    "collapsed": true
   },
   "outputs": [],
   "source": [
    "index_M_excluded = index_G + index_L"
   ]
  },
  {
   "cell_type": "code",
   "execution_count": null,
   "metadata": {
    "collapsed": true
   },
   "outputs": [],
   "source": [
    "M_eff = (ml[ml.index.isin(index_M_excluded)==False]\n",
    "         .withColumn(\"label\",lit('M')))"
   ]
  },
  {
   "cell_type": "code",
   "execution_count": null,
   "metadata": {
    "collapsed": true
   },
   "outputs": [],
   "source": [
    "from functools import reduce  \n",
    "from pyspark.sql import DataFrame\n",
    "\n",
    "def unionAll(*dfs):\n",
    "    return reduce(DataFrame.unionAll, dfs)\n",
    "\n",
    "Labeled_df = unionAll(G_eff, L_eff,M_eff)"
   ]
  },
  {
   "cell_type": "code",
   "execution_count": null,
   "metadata": {
    "collapsed": true
   },
   "outputs": [],
   "source": [
    "         .withColumn(\"label\",lit('G'))"
   ]
  },
  {
   "cell_type": "code",
   "execution_count": 101,
   "metadata": {
    "collapsed": true
   },
   "outputs": [],
   "source": []
  },
  {
   "cell_type": "code",
   "execution_count": null,
   "metadata": {
    "collapsed": true
   },
   "outputs": [],
   "source": [
    "ml = sqlContext.sql(\"\"\"SELECT * FROM G_eff OUTER jOIN L_eff\"\"\")"
   ]
  },
  {
   "cell_type": "markdown",
   "metadata": {},
   "source": [
    "### all data (transform any negative to positive)\n",
    "\n",
    "**number of trip: **\n",
    "by year/month/day of week/hour/is holiday/weather(summary)/pay_type/RateCodeID\n",
    "\n",
    "**distance mean/std: **\n",
    "by year/month/day of week/hour/is holiday/weather/RateCodeID\n",
    "\n",
    "**Profitability(Fare_amount/time_interval): **\n",
    "by year/month/day of week/hour/is holiday/weather/RateCodeID\n",
    "\n",
    "**Tip percentage mean/std:** \n",
    "by year/month/day of week/hour/isholiday/weather(summary)/RateCodeID\n",
    "\n",
    "### data cleaned\n",
    "\n",
    "network: hub (network analysis)\n",
    "\n",
    "Is this trip \"efficient\" ? (machine learning) "
   ]
  },
  {
   "cell_type": "code",
   "execution_count": null,
   "metadata": {
    "collapsed": true
   },
   "outputs": [],
   "source": []
  },
  {
   "cell_type": "code",
   "execution_count": null,
   "metadata": {
    "collapsed": true
   },
   "outputs": [],
   "source": []
  },
  {
   "cell_type": "code",
   "execution_count": null,
   "metadata": {
    "collapsed": true
   },
   "outputs": [],
   "source": []
  },
  {
   "cell_type": "code",
   "execution_count": 2,
   "metadata": {
    "collapsed": true
   },
   "outputs": [],
   "source": [
    "%matplotlib inline \n",
    "import matplotlib as mpl\n",
    "import matplotlib.pyplot as plt"
   ]
  },
  {
   "cell_type": "code",
   "execution_count": 121,
   "metadata": {
    "collapsed": false
   },
   "outputs": [
    {
     "data": {
      "text/plain": [
       "<matplotlib.axes._subplots.AxesSubplot at 0x12146aba8>"
      ]
     },
     "execution_count": 121,
     "metadata": {},
     "output_type": "execute_result"
    },
    {
     "data": {
      "image/png": "[encoded data removed]",
      "text/plain": [
       "<matplotlib.figure.Figure at 0x12146a320>"
      ]
     },
     "metadata": {},
     "output_type": "display_data"
    }
   ],
   "source": [
    "weather_pd.groupby('icon').count()['date'].sort_values().plot(kind = 'pie',sort_columns='date',figsize = (5,5))"
   ]
  },
  {
   "cell_type": "code",
   "execution_count": 103,
   "metadata": {
    "collapsed": false
   },
   "outputs": [
    {
     "data": {
      "text/plain": [
       "<matplotlib.text.Text at 0x11e4ce668>"
      ]
     },
     "execution_count": 103,
     "metadata": {},
     "output_type": "execute_result"
    },
    {
     "data": {
      "image/png": "[encoded data removed]",
      "text/plain": [
       "<matplotlib.figure.Figure at 0x11e4d50b8>"
      ]
     },
     "metadata": {},
     "output_type": "display_data"
    }
   ],
   "source": [
    "ax = weather_pd[['hour','temp']].pivot(columns = 'hour').plot.box(figsize = (15,6), \n",
    "                                                                  title = 'Temperature by Hour')\n",
    "ax.set_xticklabels(range(1,25))\n",
    "ax.set_xlabel(\"Hour\")\n",
    "ax.set_ylabel(\"Temp Distribution\")"
   ]
  },
  {
   "cell_type": "code",
   "execution_count": null,
   "metadata": {
    "collapsed": true
   },
   "outputs": [],
   "source": []
  },
  {
   "cell_type": "code",
   "execution_count": null,
   "metadata": {
    "collapsed": true
   },
   "outputs": [],
   "source": []
  }
 ],
 "metadata": {
  "anaconda-cloud": {},
  "kernelspec": {
   "display_name": "Python [default]",
   "language": "python",
   "name": "python3"
  },
  "language_info": {
   "codemirror_mode": {
    "name": "ipython",
    "version": 3
   },
   "file_extension": ".py",
   "mimetype": "text/x-python",
   "name": "python",
   "nbconvert_exporter": "python",
   "pygments_lexer": "ipython3",
   "version": "3.5.2"
  }
 },
 "nbformat": 4,
 "nbformat_minor": 1
}
